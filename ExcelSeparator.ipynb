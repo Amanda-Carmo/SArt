{
 "cells": [
  {
   "cell_type": "markdown",
   "metadata": {},
   "source": [
    "# SArt - classificador de pinturas"
   ]
  },
  {
   "cell_type": "markdown",
   "metadata": {},
   "source": [
    "Neste projeto, serão usados conceitos de machine learning a fim de classificar estilos de pinturas de quadros, baseado na leitura da imagem. "
   ]
  },
  {
   "cell_type": "code",
   "execution_count": 3,
   "metadata": {},
   "outputs": [],
   "source": [
    "import pandas as pd\n",
    "import numpy as np\n",
    "import matplotlib.pyplot as plt\n",
    "import random\n",
    "import tensorflow as tf\n",
    "from tensorflow.keras import datasets, layers, models\n",
    "import cv2\n",
    "import os\n",
    "import PIL\n",
    "from PIL import Image\n",
    "from tensorflow.keras.preprocessing.image import ImageDataGenerator\n",
    "import scipy"
   ]
  },
  {
   "cell_type": "markdown",
   "metadata": {},
   "source": [
    "## Base de dados"
   ]
  },
  {
   "cell_type": "markdown",
   "metadata": {},
   "source": [
    "A base de dados usada foi: https://archive.org/details/wikiart-dataset\n",
    "\n",
    "São disponibilizadas pastas, nomeadas com um estilo artístico e tendo como conteúdo as obras de arte feitas dentro deste estilo. \n",
    "\n",
    "- A estrutura é dada por: `<estilo>/nome-artista_nome-pintura-ano.jpg`\n",
    "    - Exemplo: `Realism/vincent-van-gogh_pine-trees-in-the-fen-1884.jpg`"
   ]
  },
  {
   "cell_type": "markdown",
   "metadata": {},
   "source": [
    "O primeiro tratamento feito na base de dados foi excluir movimentos artísticos com um número de obras de arte infferior a 1000. Depois, foram considerados movimentos apenas constituintes de **pinturas**.\n",
    "\n",
    "Esses cortes foram feitos de maneira manual."
   ]
  },
  {
   "cell_type": "code",
   "execution_count": 4,
   "metadata": {},
   "outputs": [],
   "source": [
    "dados = pd.read_excel('wclasses.xlsx')"
   ]
  },
  {
   "cell_type": "code",
   "execution_count": 5,
   "metadata": {},
   "outputs": [
    {
     "data": {
      "text/plain": [
       "81444"
      ]
     },
     "execution_count": 5,
     "metadata": {},
     "output_type": "execute_result"
    }
   ],
   "source": [
    "len(dados)"
   ]
  },
  {
   "cell_type": "markdown",
   "metadata": {},
   "source": [
    "Além das imagens, o wikiArt disponibiliza um excel, cujas colunas são o path das imagens, ids dos artistas, gênero e estilo."
   ]
  },
  {
   "cell_type": "markdown",
   "metadata": {},
   "source": [
    "A lista a seguir possui os nomes dos estilos considerados para o projeto, após aplicarmos os tratamentos citados."
   ]
  },
  {
   "cell_type": "code",
   "execution_count": 6,
   "metadata": {},
   "outputs": [],
   "source": [
    "classesList =[\"Abstrac_Expressionism\",\"Art_Nouveau_Modern\",\"Baroque\",\"Color_Field_Painting\",\"Cubism\",\"Early_Renaissance\",\n",
    "\"Expressionism\", \"Fauvismo\",\"High_Renaissance\",\"Impressionism\",\"Mannerism_Late_Renaissance\",\"Minimalism\",\n",
    "\"Naive_Art_Primitivism\",\"Northen_Renaissance\",\"Pop_Art\",\"Post_Impressionism\",\"Realism\",\"Rococo\",\"Romanticism\",\"Symbolism\",\n",
    "\"Ukiyo_e\"]"
   ]
  },
  {
   "cell_type": "markdown",
   "metadata": {},
   "source": [
    "Aplicando o filtro com os nomes dos estilos que serão usados:"
   ]
  },
  {
   "cell_type": "code",
   "execution_count": 2,
   "metadata": {},
   "outputs": [
    {
     "ename": "NameError",
     "evalue": "name 'dados' is not defined",
     "output_type": "error",
     "traceback": [
      "\u001b[1;31m---------------------------------------------------------------------------\u001b[0m",
      "\u001b[1;31mNameError\u001b[0m                                 Traceback (most recent call last)",
      "\u001b[1;32m<ipython-input-2-934aae32d293>\u001b[0m in \u001b[0;36m<module>\u001b[1;34m\u001b[0m\n\u001b[0;32m      1\u001b[0m \u001b[1;31m#impor_membros= dados[\"file\"].str.contains(*classesList)\u001b[0m\u001b[1;33m\u001b[0m\u001b[1;33m\u001b[0m\u001b[1;33m\u001b[0m\u001b[0m\n\u001b[0;32m      2\u001b[0m \u001b[1;33m\u001b[0m\u001b[0m\n\u001b[1;32m----> 3\u001b[1;33m \u001b[0mmask\u001b[0m \u001b[1;33m=\u001b[0m \u001b[0mdados\u001b[0m\u001b[1;33m.\u001b[0m\u001b[0miloc\u001b[0m\u001b[1;33m[\u001b[0m\u001b[1;33m:\u001b[0m\u001b[1;33m,\u001b[0m \u001b[1;36m0\u001b[0m\u001b[1;33m]\u001b[0m\u001b[1;33m.\u001b[0m\u001b[0mstr\u001b[0m\u001b[1;33m.\u001b[0m\u001b[0mcontains\u001b[0m\u001b[1;33m(\u001b[0m\u001b[1;34mr'\\b(?:{})\\b'\u001b[0m\u001b[1;33m.\u001b[0m\u001b[0mformat\u001b[0m\u001b[1;33m(\u001b[0m\u001b[1;34m'|'\u001b[0m\u001b[1;33m.\u001b[0m\u001b[0mjoin\u001b[0m\u001b[1;33m(\u001b[0m\u001b[0mclassesList\u001b[0m\u001b[1;33m)\u001b[0m\u001b[1;33m)\u001b[0m\u001b[1;33m)\u001b[0m\u001b[1;33m\u001b[0m\u001b[1;33m\u001b[0m\u001b[0m\n\u001b[0m\u001b[0;32m      4\u001b[0m \u001b[0mdf1\u001b[0m \u001b[1;33m=\u001b[0m \u001b[0mdados\u001b[0m\u001b[1;33m[\u001b[0m\u001b[1;33m~\u001b[0m\u001b[0mmask\u001b[0m\u001b[1;33m]\u001b[0m\u001b[1;33m\u001b[0m\u001b[1;33m\u001b[0m\u001b[0m\n\u001b[0;32m      5\u001b[0m \u001b[0mlen\u001b[0m\u001b[1;33m(\u001b[0m\u001b[0mdf1\u001b[0m\u001b[1;33m)\u001b[0m\u001b[1;33m\u001b[0m\u001b[1;33m\u001b[0m\u001b[0m\n",
      "\u001b[1;31mNameError\u001b[0m: name 'dados' is not defined"
     ]
    }
   ],
   "source": [
    "#impor_membros= dados[\"file\"].str.contains(*classesList)\n",
    "\n",
    "mask = dados.iloc[:, 0].str.contains(r'\\b(?:{})\\b'.format('|'.join(classesList)))\n",
    "df1 = dados[~mask]\n",
    "len(df1)\n"
   ]
  },
  {
   "cell_type": "code",
   "execution_count": 14,
   "metadata": {},
   "outputs": [
    {
     "data": {
      "text/html": [
       "<div>\n",
       "<style scoped>\n",
       "    .dataframe tbody tr th:only-of-type {\n",
       "        vertical-align: middle;\n",
       "    }\n",
       "\n",
       "    .dataframe tbody tr th {\n",
       "        vertical-align: top;\n",
       "    }\n",
       "\n",
       "    .dataframe thead th {\n",
       "        text-align: right;\n",
       "    }\n",
       "</style>\n",
       "<table border=\"1\" class=\"dataframe\">\n",
       "  <thead>\n",
       "    <tr style=\"text-align: right;\">\n",
       "      <th></th>\n",
       "      <th>file</th>\n",
       "      <th>artist</th>\n",
       "      <th>genre</th>\n",
       "      <th>style</th>\n",
       "    </tr>\n",
       "  </thead>\n",
       "  <tbody>\n",
       "    <tr>\n",
       "      <th>8</th>\n",
       "      <td>Northern_Renaissance/albrecht-durer_deposition...</td>\n",
       "      <td>25</td>\n",
       "      <td>136</td>\n",
       "      <td>157</td>\n",
       "    </tr>\n",
       "    <tr>\n",
       "      <th>31</th>\n",
       "      <td>Northern_Renaissance/albrecht-durer_apostle-ba...</td>\n",
       "      <td>25</td>\n",
       "      <td>136</td>\n",
       "      <td>157</td>\n",
       "    </tr>\n",
       "    <tr>\n",
       "      <th>46</th>\n",
       "      <td>Northern_Renaissance/albrecht-durer_laughing-p...</td>\n",
       "      <td>25</td>\n",
       "      <td>135</td>\n",
       "      <td>157</td>\n",
       "    </tr>\n",
       "    <tr>\n",
       "      <th>60</th>\n",
       "      <td>Northern_Renaissance/albrecht-durer_portrait-o...</td>\n",
       "      <td>25</td>\n",
       "      <td>135</td>\n",
       "      <td>157</td>\n",
       "    </tr>\n",
       "    <tr>\n",
       "      <th>61</th>\n",
       "      <td>Northern_Renaissance/albrecht-durer_the-penite...</td>\n",
       "      <td>25</td>\n",
       "      <td>131</td>\n",
       "      <td>157</td>\n",
       "    </tr>\n",
       "    <tr>\n",
       "      <th>70</th>\n",
       "      <td>Northern_Renaissance/albrecht-durer_portrait-o...</td>\n",
       "      <td>25</td>\n",
       "      <td>135</td>\n",
       "      <td>157</td>\n",
       "    </tr>\n",
       "    <tr>\n",
       "      <th>100</th>\n",
       "      <td>Northern_Renaissance/albrecht-durer_the-great-...</td>\n",
       "      <td>25</td>\n",
       "      <td>131</td>\n",
       "      <td>157</td>\n",
       "    </tr>\n",
       "    <tr>\n",
       "      <th>125</th>\n",
       "      <td>Northern_Renaissance/albrecht-durer_portrait-o...</td>\n",
       "      <td>25</td>\n",
       "      <td>135</td>\n",
       "      <td>157</td>\n",
       "    </tr>\n",
       "    <tr>\n",
       "      <th>147</th>\n",
       "      <td>Northern_Renaissance/albrecht-durer_portrait-o...</td>\n",
       "      <td>25</td>\n",
       "      <td>135</td>\n",
       "      <td>157</td>\n",
       "    </tr>\n",
       "    <tr>\n",
       "      <th>166</th>\n",
       "      <td>Northern_Renaissance/albrecht-durer_portrait-o...</td>\n",
       "      <td>25</td>\n",
       "      <td>135</td>\n",
       "      <td>157</td>\n",
       "    </tr>\n",
       "    <tr>\n",
       "      <th>167</th>\n",
       "      <td>Northern_Renaissance/albrecht-durer_st-jerome-...</td>\n",
       "      <td>25</td>\n",
       "      <td>136</td>\n",
       "      <td>157</td>\n",
       "    </tr>\n",
       "    <tr>\n",
       "      <th>170</th>\n",
       "      <td>Northern_Renaissance/albrecht-durer_adoration-...</td>\n",
       "      <td>25</td>\n",
       "      <td>136</td>\n",
       "      <td>157</td>\n",
       "    </tr>\n",
       "    <tr>\n",
       "      <th>181</th>\n",
       "      <td>Northern_Renaissance/albrecht-durer_the-cross-...</td>\n",
       "      <td>25</td>\n",
       "      <td>137</td>\n",
       "      <td>157</td>\n",
       "    </tr>\n",
       "    <tr>\n",
       "      <th>231</th>\n",
       "      <td>Northern_Renaissance/albrecht-durer_garza.jpg</td>\n",
       "      <td>0</td>\n",
       "      <td>139</td>\n",
       "      <td>157</td>\n",
       "    </tr>\n",
       "    <tr>\n",
       "      <th>259</th>\n",
       "      <td>Fauvism/martiros-saryan_mules-laden-with-hay-1...</td>\n",
       "      <td>13</td>\n",
       "      <td>139</td>\n",
       "      <td>150</td>\n",
       "    </tr>\n",
       "    <tr>\n",
       "      <th>260</th>\n",
       "      <td>Analytical_Cubism/pablo-picasso_violin-glass-p...</td>\n",
       "      <td>15</td>\n",
       "      <td>138</td>\n",
       "      <td>142</td>\n",
       "    </tr>\n",
       "    <tr>\n",
       "      <th>262</th>\n",
       "      <td>Abstract_Expressionism/salvador-dali_religious...</td>\n",
       "      <td>21</td>\n",
       "      <td>136</td>\n",
       "      <td>140</td>\n",
       "    </tr>\n",
       "    <tr>\n",
       "      <th>273</th>\n",
       "      <td>Northern_Renaissance/albrecht-durer_adam-and-e...</td>\n",
       "      <td>25</td>\n",
       "      <td>136</td>\n",
       "      <td>157</td>\n",
       "    </tr>\n",
       "    <tr>\n",
       "      <th>302</th>\n",
       "      <td>Analytical_Cubism/pablo-picasso_clarinet-1911.jpg</td>\n",
       "      <td>15</td>\n",
       "      <td>138</td>\n",
       "      <td>142</td>\n",
       "    </tr>\n",
       "    <tr>\n",
       "      <th>315</th>\n",
       "      <td>Analytical_Cubism/pablo-picasso_spanish-still-...</td>\n",
       "      <td>15</td>\n",
       "      <td>138</td>\n",
       "      <td>142</td>\n",
       "    </tr>\n",
       "  </tbody>\n",
       "</table>\n",
       "</div>"
      ],
      "text/plain": [
       "                                                  file  artist  genre  style\n",
       "8    Northern_Renaissance/albrecht-durer_deposition...      25    136    157\n",
       "31   Northern_Renaissance/albrecht-durer_apostle-ba...      25    136    157\n",
       "46   Northern_Renaissance/albrecht-durer_laughing-p...      25    135    157\n",
       "60   Northern_Renaissance/albrecht-durer_portrait-o...      25    135    157\n",
       "61   Northern_Renaissance/albrecht-durer_the-penite...      25    131    157\n",
       "70   Northern_Renaissance/albrecht-durer_portrait-o...      25    135    157\n",
       "100  Northern_Renaissance/albrecht-durer_the-great-...      25    131    157\n",
       "125  Northern_Renaissance/albrecht-durer_portrait-o...      25    135    157\n",
       "147  Northern_Renaissance/albrecht-durer_portrait-o...      25    135    157\n",
       "166  Northern_Renaissance/albrecht-durer_portrait-o...      25    135    157\n",
       "167  Northern_Renaissance/albrecht-durer_st-jerome-...      25    136    157\n",
       "170  Northern_Renaissance/albrecht-durer_adoration-...      25    136    157\n",
       "181  Northern_Renaissance/albrecht-durer_the-cross-...      25    137    157\n",
       "231      Northern_Renaissance/albrecht-durer_garza.jpg       0    139    157\n",
       "259  Fauvism/martiros-saryan_mules-laden-with-hay-1...      13    139    150\n",
       "260  Analytical_Cubism/pablo-picasso_violin-glass-p...      15    138    142\n",
       "262  Abstract_Expressionism/salvador-dali_religious...      21    136    140\n",
       "273  Northern_Renaissance/albrecht-durer_adam-and-e...      25    136    157\n",
       "302  Analytical_Cubism/pablo-picasso_clarinet-1911.jpg      15    138    142\n",
       "315  Analytical_Cubism/pablo-picasso_spanish-still-...      15    138    142"
      ]
     },
     "execution_count": 14,
     "metadata": {},
     "output_type": "execute_result"
    }
   ],
   "source": [
    "df1.head(20)"
   ]
  },
  {
   "cell_type": "code",
   "execution_count": 11,
   "metadata": {},
   "outputs": [
    {
     "data": {
      "text/plain": [
       "'D:\\\\Libraries\\\\Documents\\\\Insper\\\\Machine Learning\\\\SArt'"
      ]
     },
     "execution_count": 11,
     "metadata": {},
     "output_type": "execute_result"
    }
   ],
   "source": [
    "os.getcwd()"
   ]
  },
  {
   "cell_type": "markdown",
   "metadata": {},
   "source": [
    "Arrumando o nome dos arquivos que tem acento para facilitar o uso do path das imagens."
   ]
  },
  {
   "cell_type": "code",
   "execution_count": 15,
   "metadata": {},
   "outputs": [],
   "source": [
    "\n",
    "f = r\"D:/Libraries/Documents/Insper/Machine Learning/SArt\"\n",
    "for img_p in range(df1.shape[0]):\n",
    "    img_path = df1.iloc[img_p, 0]\n",
    "    if \"Ã¢Â\\xa0\" in img_path:\n",
    "        img_path = img_path.replace('Ã¢Â', '\\u00E2')\n",
    "        temp_path = img_path.replace('\\u00E2', 'a') \n",
    "        df1.iat[img_p, 0] = temp_path\n",
    "        img_path = f  + \"/\" + img_path\n",
    "        temp_path = f  + \"/\" + temp_path\n",
    "        os.rename(u'{0}'.format(img_path), temp_path)\n",
    "        img_path = temp_path\n",
    "    \n",
    "    df1.iat[img_p, 3] = df1.iloc[img_p, 3]-140\n",
    "    img = Image.open(img_path)\n",
    "    img = img.resize((256,256))\n",
    "    img.save(img_path)"
   ]
  },
  {
   "cell_type": "markdown",
   "metadata": {},
   "source": [
    "Separação treinamento e teste\n",
    "- 80% da base de dados destinada a treinamento\n",
    "- O tipo do id do estilo foi passado de `int` para `str` para possibilitar a classificação  categórica no image generator."
   ]
  },
  {
   "cell_type": "code",
   "execution_count": 16,
   "metadata": {},
   "outputs": [
    {
     "name": "stdout",
     "output_type": "stream",
     "text": [
      "file      object\n",
      "artist     int64\n",
      "genre      int64\n",
      "style     object\n",
      "dtype: object\n"
     ]
    },
    {
     "name": "stderr",
     "output_type": "stream",
     "text": [
      "C:\\Users\\Beatriz\\anaconda3\\lib\\site-packages\\pandas\\core\\indexing.py:1745: SettingWithCopyWarning: \n",
      "A value is trying to be set on a copy of a slice from a DataFrame.\n",
      "Try using .loc[row_indexer,col_indexer] = value instead\n",
      "\n",
      "See the caveats in the documentation: https://pandas.pydata.org/pandas-docs/stable/user_guide/indexing.html#returning-a-view-versus-a-copy\n",
      "  isetter(ilocs[0], value)\n"
     ]
    }
   ],
   "source": [
    "df1.loc[:,'style'] = df1['style'].astype(str)\n",
    "print(df1.dtypes)\n",
    "\n",
    "train = df1.sample(frac=0.8,random_state=200)\n",
    "test = df1.drop(train.index)"
   ]
  },
  {
   "cell_type": "code",
   "execution_count": 17,
   "metadata": {},
   "outputs": [
    {
     "name": "stdout",
     "output_type": "stream",
     "text": [
      "<class 'str'>\n"
     ]
    }
   ],
   "source": [
    "print(type(df1.iloc[10, 3]))"
   ]
  },
  {
   "cell_type": "markdown",
   "metadata": {},
   "source": [
    "## Redes neurais "
   ]
  },
  {
   "cell_type": "markdown",
   "metadata": {},
   "source": [
    "Para classificar as imagens, foram aplicadas três redes neurais:\n",
    "- CNN\n",
    "- LeNet5\n",
    "- ResNet-152\n",
    "\n",
    "Os resultados obtidos serão comparados no final."
   ]
  },
  {
   "cell_type": "markdown",
   "metadata": {},
   "source": [
    "### Aplicando rede CNN - Convolutional neural network"
   ]
  },
  {
   "cell_type": "markdown",
   "metadata": {},
   "source": [
    "A rede convolucional foi escolhida, pois é comumente aplicada para análise de imagens visuais. Para essa rede, foi usado o tutorial do próprio tensorflow.\n",
    "\n",
    "A rede convolucional pega um input de imagem e atribui importânca (pesos e vieses que podem ser aprendidos) para objetos nela, conseguindo diferenciá-los entre si.\n",
    "\n",
    "O pré-processamento dessa rede é muito menor quando comparado a outros algoritmos de classificação. Enquanto métodos de filtro mais primitivos são hand-engineered (ou seja, feitos à mão), a rede convolucional, com treinamento suficiente, consegue aprender esses filtros."
   ]
  },
  {
   "cell_type": "markdown",
   "metadata": {},
   "source": [
    "<img src=\"rgb_imgcnn.jpg\" style=\"height: 250px;\"/>   "
   ]
  },
  {
   "cell_type": "markdown",
   "metadata": {},
   "source": [
    "<img src=\"fully_connected_layer.jpg\" style=\"height: 300px;\"/>   "
   ]
  },
  {
   "cell_type": "code",
   "execution_count": 18,
   "metadata": {},
   "outputs": [
    {
     "name": "stdout",
     "output_type": "stream",
     "text": [
      "(256, 256, 3)\n"
     ]
    }
   ],
   "source": [
    "im = cv2.imread(train.iloc[4, 0])\n",
    "print(im.shape)"
   ]
  },
  {
   "cell_type": "markdown",
   "metadata": {},
   "source": [
    "A seguir, foram montadas as camadas da rede, conforme explicado no tutorial do tensorflow"
   ]
  },
  {
   "cell_type": "code",
   "execution_count": 19,
   "metadata": {},
   "outputs": [],
   "source": [
    "model = models.Sequential()\n",
    "model.add(layers.Conv2D(32, (3, 3), activation='relu', input_shape=(256, 256, 3)))\n",
    "model.add(layers.MaxPooling2D((2, 2)))\n",
    "model.add(layers.Conv2D(64, (3, 3), activation='relu'))\n",
    "model.add(layers.MaxPooling2D((2, 2)))\n",
    "model.add(layers.Conv2D(64, (3, 3), activation='relu'))\n",
    "model.add(layers.Flatten())\n",
    "model.add(layers.Dense(64, activation='relu'))\n",
    "model.add(layers.Dense(9, activation='softmax'))"
   ]
  },
  {
   "cell_type": "code",
   "execution_count": 20,
   "metadata": {},
   "outputs": [
    {
     "name": "stdout",
     "output_type": "stream",
     "text": [
      "Model: \"sequential\"\n",
      "_________________________________________________________________\n",
      " Layer (type)                Output Shape              Param #   \n",
      "=================================================================\n",
      " conv2d (Conv2D)             (None, 254, 254, 32)      896       \n",
      "                                                                 \n",
      " max_pooling2d (MaxPooling2D  (None, 127, 127, 32)     0         \n",
      " )                                                               \n",
      "                                                                 \n",
      " conv2d_1 (Conv2D)           (None, 125, 125, 64)      18496     \n",
      "                                                                 \n",
      " max_pooling2d_1 (MaxPooling  (None, 62, 62, 64)       0         \n",
      " 2D)                                                             \n",
      "                                                                 \n",
      " conv2d_2 (Conv2D)           (None, 60, 60, 64)        36928     \n",
      "                                                                 \n",
      " flatten (Flatten)           (None, 230400)            0         \n",
      "                                                                 \n",
      " dense (Dense)               (None, 64)                14745664  \n",
      "                                                                 \n",
      " dense_1 (Dense)             (None, 9)                 585       \n",
      "                                                                 \n",
      "=================================================================\n",
      "Total params: 14,802,569\n",
      "Trainable params: 14,802,569\n",
      "Non-trainable params: 0\n",
      "_________________________________________________________________\n"
     ]
    }
   ],
   "source": [
    "model.summary()"
   ]
  },
  {
   "cell_type": "markdown",
   "metadata": {},
   "source": [
    "O `ImageDataGenerator()` divide os sets em dados que podem ser usados pelo tensorflow. Para validação, são usados 20% dos dados de treino.\n",
    "\n",
    "A seguir, o set de treino é dividido em treino e validação."
   ]
  },
  {
   "cell_type": "code",
   "execution_count": 34,
   "metadata": {},
   "outputs": [
    {
     "name": "stdout",
     "output_type": "stream",
     "text": [
      "Found 5120 validated image filenames belonging to 9 classes.\n",
      "Found 1280 validated image filenames belonging to 9 classes.\n",
      "Found 1600 validated image filenames belonging to 9 classes.\n"
     ]
    }
   ],
   "source": [
    "target_size=(256,256) # set the size of the images\n",
    "color_mode='rgb' # set the type of image\n",
    "class_mode= 'categorical' # set the class mode\n",
    "batch_size=64  # set the batch size\n",
    "\n",
    "train_gen = ImageDataGenerator(validation_split=0.2)\n",
    "test_gen = ImageDataGenerator()\n",
    "\n",
    "train_imgs= train_gen.flow_from_dataframe(dataframe=train, \n",
    "          x_col='file',\n",
    "          y_col='style',\n",
    "          target_size=target_size,color_mode=color_mode,\n",
    "          class_mode=class_mode, batch_size=batch_size,shuffle=True, seed=123,\n",
    "          subset='training')\n",
    "val_imgs= train_gen.flow_from_dataframe(dataframe=train, \n",
    "          x_col='file',\n",
    "          y_col='style',\n",
    "          target_size=target_size,color_mode=color_mode,\n",
    "          class_mode=class_mode, batch_size=batch_size,shuffle=True, seed=123,\n",
    "          subset=\"validation\")\n",
    "test_imgs= test_gen.flow_from_dataframe(dataframe=test, \n",
    "          x_col='file',\n",
    "          y_col='style',\n",
    "          target_size=target_size,color_mode=color_mode,\n",
    "          class_mode=class_mode, batch_size=batch_size,shuffle=True, seed=123,\n",
    "          subset='training')"
   ]
  },
  {
   "cell_type": "code",
   "execution_count": 22,
   "metadata": {},
   "outputs": [
    {
     "data": {
      "text/plain": [
       "0     569\n",
       "17    531\n",
       "10    173\n",
       "18     99\n",
       "6      91\n",
       "16     67\n",
       "25     37\n",
       "2      19\n",
       "1      14\n",
       "Name: style, dtype: int64"
      ]
     },
     "execution_count": 22,
     "metadata": {},
     "output_type": "execute_result"
    }
   ],
   "source": [
    "test['style'].value_counts()"
   ]
  },
  {
   "cell_type": "code",
   "execution_count": 23,
   "metadata": {},
   "outputs": [
    {
     "data": {
      "text/html": [
       "<div>\n",
       "<style scoped>\n",
       "    .dataframe tbody tr th:only-of-type {\n",
       "        vertical-align: middle;\n",
       "    }\n",
       "\n",
       "    .dataframe tbody tr th {\n",
       "        vertical-align: top;\n",
       "    }\n",
       "\n",
       "    .dataframe thead th {\n",
       "        text-align: right;\n",
       "    }\n",
       "</style>\n",
       "<table border=\"1\" class=\"dataframe\">\n",
       "  <thead>\n",
       "    <tr style=\"text-align: right;\">\n",
       "      <th></th>\n",
       "      <th>file</th>\n",
       "      <th>artist</th>\n",
       "      <th>genre</th>\n",
       "      <th>style</th>\n",
       "    </tr>\n",
       "  </thead>\n",
       "  <tbody>\n",
       "    <tr>\n",
       "      <th>18175</th>\n",
       "      <td>Northern_Renaissance/albrecht-durer_dead-blueb...</td>\n",
       "      <td>0</td>\n",
       "      <td>139</td>\n",
       "      <td>17</td>\n",
       "    </tr>\n",
       "    <tr>\n",
       "      <th>78398</th>\n",
       "      <td>Fauvism/charles-lapicque_bateau-sur-la-lagune-...</td>\n",
       "      <td>0</td>\n",
       "      <td>139</td>\n",
       "      <td>10</td>\n",
       "    </tr>\n",
       "    <tr>\n",
       "      <th>71978</th>\n",
       "      <td>Abstract_Expressionism/elaine-de-kooning_portr...</td>\n",
       "      <td>0</td>\n",
       "      <td>139</td>\n",
       "      <td>0</td>\n",
       "    </tr>\n",
       "    <tr>\n",
       "      <th>6566</th>\n",
       "      <td>Pointillism/camille-pissarro_portrait-of-nini-...</td>\n",
       "      <td>2</td>\n",
       "      <td>135</td>\n",
       "      <td>18</td>\n",
       "    </tr>\n",
       "    <tr>\n",
       "      <th>29226</th>\n",
       "      <td>Pointillism/georges-seurat_suburb-1882.jpg</td>\n",
       "      <td>47</td>\n",
       "      <td>130</td>\n",
       "      <td>18</td>\n",
       "    </tr>\n",
       "  </tbody>\n",
       "</table>\n",
       "</div>"
      ],
      "text/plain": [
       "                                                    file  artist  genre style\n",
       "18175  Northern_Renaissance/albrecht-durer_dead-blueb...       0    139    17\n",
       "78398  Fauvism/charles-lapicque_bateau-sur-la-lagune-...       0    139    10\n",
       "71978  Abstract_Expressionism/elaine-de-kooning_portr...       0    139     0\n",
       "6566   Pointillism/camille-pissarro_portrait-of-nini-...       2    135    18\n",
       "29226         Pointillism/georges-seurat_suburb-1882.jpg      47    130    18"
      ]
     },
     "execution_count": 23,
     "metadata": {},
     "output_type": "execute_result"
    }
   ],
   "source": [
    "train.head()"
   ]
  },
  {
   "cell_type": "code",
   "execution_count": 24,
   "metadata": {},
   "outputs": [
    {
     "name": "stdout",
     "output_type": "stream",
     "text": [
      "<class 'numpy.ndarray'>\n",
      "Epoch 1/30\n",
      "80/80 [==============================] - 43s 417ms/step - loss: 57.4578 - accuracy: 0.3182 - val_loss: 1.8884 - val_accuracy: 0.3789\n",
      "Epoch 2/30\n",
      "80/80 [==============================] - 12s 149ms/step - loss: 1.7320 - accuracy: 0.4219 - val_loss: 1.9267 - val_accuracy: 0.3828\n",
      "Epoch 3/30\n",
      "80/80 [==============================] - 12s 148ms/step - loss: 1.7485 - accuracy: 0.4162 - val_loss: 1.7875 - val_accuracy: 0.3961\n",
      "Epoch 4/30\n",
      "80/80 [==============================] - 12s 151ms/step - loss: 1.3825 - accuracy: 0.5141 - val_loss: 1.9569 - val_accuracy: 0.3703\n",
      "Epoch 5/30\n",
      "80/80 [==============================] - 12s 154ms/step - loss: 1.0505 - accuracy: 0.6225 - val_loss: 2.1190 - val_accuracy: 0.3734\n",
      "Epoch 6/30\n",
      "80/80 [==============================] - 12s 149ms/step - loss: 0.8067 - accuracy: 0.7107 - val_loss: 2.9213 - val_accuracy: 0.3836\n",
      "Epoch 7/30\n",
      "80/80 [==============================] - 12s 152ms/step - loss: 0.6805 - accuracy: 0.7527 - val_loss: 3.2111 - val_accuracy: 0.3703\n",
      "Epoch 8/30\n",
      "80/80 [==============================] - 12s 153ms/step - loss: 0.6221 - accuracy: 0.7758 - val_loss: 3.5236 - val_accuracy: 0.3352\n",
      "Epoch 9/30\n",
      "80/80 [==============================] - 12s 154ms/step - loss: 0.5780 - accuracy: 0.7939 - val_loss: 3.7185 - val_accuracy: 0.3438\n",
      "Epoch 10/30\n",
      "80/80 [==============================] - 12s 152ms/step - loss: 0.5149 - accuracy: 0.8150 - val_loss: 4.3548 - val_accuracy: 0.3539\n",
      "Epoch 11/30\n",
      "80/80 [==============================] - 12s 152ms/step - loss: 0.4556 - accuracy: 0.8355 - val_loss: 5.4513 - val_accuracy: 0.3391\n",
      "Epoch 12/30\n",
      "80/80 [==============================] - 12s 153ms/step - loss: 0.4079 - accuracy: 0.8521 - val_loss: 6.0463 - val_accuracy: 0.3352\n",
      "Epoch 13/30\n",
      "80/80 [==============================] - 12s 153ms/step - loss: 0.3756 - accuracy: 0.8678 - val_loss: 6.3281 - val_accuracy: 0.3445\n",
      "Epoch 14/30\n",
      "80/80 [==============================] - 12s 151ms/step - loss: 0.4140 - accuracy: 0.8510 - val_loss: 6.9758 - val_accuracy: 0.3383\n",
      "Epoch 15/30\n",
      "80/80 [==============================] - 12s 152ms/step - loss: 0.3435 - accuracy: 0.8783 - val_loss: 6.8760 - val_accuracy: 0.3203\n",
      "Epoch 16/30\n",
      "80/80 [==============================] - 12s 152ms/step - loss: 0.2969 - accuracy: 0.8939 - val_loss: 7.9632 - val_accuracy: 0.3344\n",
      "Epoch 17/30\n",
      "80/80 [==============================] - 12s 152ms/step - loss: 0.2799 - accuracy: 0.8996 - val_loss: 7.8008 - val_accuracy: 0.3313\n",
      "Epoch 18/30\n",
      "80/80 [==============================] - 12s 154ms/step - loss: 0.2521 - accuracy: 0.9049 - val_loss: 7.9817 - val_accuracy: 0.3422\n",
      "Epoch 19/30\n",
      "80/80 [==============================] - 13s 156ms/step - loss: 0.2503 - accuracy: 0.9100 - val_loss: 9.6266 - val_accuracy: 0.3422\n",
      "Epoch 20/30\n",
      "80/80 [==============================] - 12s 155ms/step - loss: 0.2227 - accuracy: 0.9176 - val_loss: 8.8851 - val_accuracy: 0.3250\n",
      "Epoch 21/30\n",
      "80/80 [==============================] - 13s 155ms/step - loss: 0.2363 - accuracy: 0.9176 - val_loss: 9.1281 - val_accuracy: 0.3359\n",
      "Epoch 22/30\n",
      "80/80 [==============================] - 12s 152ms/step - loss: 0.2333 - accuracy: 0.9133 - val_loss: 9.4883 - val_accuracy: 0.3398\n",
      "Epoch 23/30\n",
      "80/80 [==============================] - 12s 153ms/step - loss: 0.2145 - accuracy: 0.9213 - val_loss: 9.1101 - val_accuracy: 0.3180\n",
      "Epoch 24/30\n",
      "80/80 [==============================] - 12s 151ms/step - loss: 0.2611 - accuracy: 0.9156 - val_loss: 10.0454 - val_accuracy: 0.3172\n",
      "Epoch 25/30\n",
      "80/80 [==============================] - 12s 152ms/step - loss: 0.3580 - accuracy: 0.8857 - val_loss: 8.8265 - val_accuracy: 0.3156\n",
      "Epoch 26/30\n",
      "80/80 [==============================] - 12s 153ms/step - loss: 0.2137 - accuracy: 0.9252 - val_loss: 8.9851 - val_accuracy: 0.3250\n",
      "Epoch 27/30\n",
      "80/80 [==============================] - 12s 153ms/step - loss: 0.1781 - accuracy: 0.9354 - val_loss: 9.5152 - val_accuracy: 0.3125\n",
      "Epoch 28/30\n",
      "80/80 [==============================] - 13s 155ms/step - loss: 0.1610 - accuracy: 0.9400 - val_loss: 11.7570 - val_accuracy: 0.3313\n",
      "Epoch 29/30\n",
      "80/80 [==============================] - 12s 153ms/step - loss: 0.2188 - accuracy: 0.9254 - val_loss: 8.5048 - val_accuracy: 0.3273\n",
      "Epoch 30/30\n",
      "80/80 [==============================] - 12s 152ms/step - loss: 0.2181 - accuracy: 0.9268 - val_loss: 10.4077 - val_accuracy: 0.3305\n"
     ]
    }
   ],
   "source": [
    "model.compile(loss=\"categorical_crossentropy\",\n",
    "             optimizer=\"adam\",\n",
    "             metrics=['accuracy'])\n",
    "\n",
    "history = model.fit(train_imgs, epochs=30, \n",
    "                    validation_data=val_imgs)"
   ]
  },
  {
   "cell_type": "code",
   "execution_count": 26,
   "metadata": {},
   "outputs": [
    {
     "name": "stdout",
     "output_type": "stream",
     "text": [
      "25/25 - 3s - loss: 9.8698 - accuracy: 0.3169 - 3s/epoch - 132ms/step\n"
     ]
    },
    {
     "data": {
      "image/png": "[encoded data removed]",
      "text/plain": [
       "<Figure size 432x288 with 1 Axes>"
      ]
     },
     "metadata": {
      "needs_background": "light"
     },
     "output_type": "display_data"
    }
   ],
   "source": [
    "plt.plot(history.history['accuracy'], label='accuracy')\n",
    "plt.plot(history.history['val_accuracy'], label = 'val_accuracy')\n",
    "plt.xlabel('Epoch')\n",
    "plt.ylabel('Accuracy')\n",
    "plt.ylim([0, 1])\n",
    "plt.legend(loc='lower right')\n",
    "\n",
    "test_loss, test_acc = model.evaluate(test_imgs, verbose=2)"
   ]
  },
  {
   "cell_type": "markdown",
   "metadata": {},
   "source": [
    "O gráfico acima mostra a acurácia para os dados de treino (em azul) e dados de teste (em laranja). Como se pode ver, a acurácia dos dados de treino se apresenta maior, dado que o modelo está com overfitting, ou seja, para dados fora daqueles usados para o treinamento, o modelo não conseguiu obter um bom ajuste."
   ]
  },
  {
   "cell_type": "code",
   "execution_count": 101,
   "metadata": {},
   "outputs": [
    {
     "name": "stdout",
     "output_type": "stream",
     "text": [
      "(32, 256, 256, 3)\n"
     ]
    }
   ],
   "source": [
    "# print(train_imgs)\n",
    "x,y = next(iter(train_imgs))\n",
    "print(x.shape)"
   ]
  },
  {
   "cell_type": "code",
   "execution_count": 102,
   "metadata": {},
   "outputs": [
    {
     "name": "stdout",
     "output_type": "stream",
     "text": [
      "(32, 9)\n"
     ]
    }
   ],
   "source": [
    "print(y.shape)"
   ]
  },
  {
   "cell_type": "code",
   "execution_count": 103,
   "metadata": {},
   "outputs": [
    {
     "name": "stdout",
     "output_type": "stream",
     "text": [
      "[0. 0. 0. 0. 0. 1. 0. 0. 0.]\n"
     ]
    }
   ],
   "source": [
    "print(y[0])"
   ]
  },
  {
   "cell_type": "markdown",
   "metadata": {},
   "source": [
    "### Aplicando LeNet"
   ]
  },
  {
   "cell_type": "markdown",
   "metadata": {},
   "source": [
    "**LeNet** é uma estrutura de rede neural convolucional, introduzida no paper _\"Gradient-Based Learning Applied To Document Recognition\"_ em 1998, de autoria de Yann LeCun, Leon Bottou, Yoshua Bengio e Patrick Haffner.\n",
    "\n",
    "Como será mostrado a seguir, a LeNet é composta por 7 layers, cuja composição é:\n",
    "- 3 layers convolucionais\n",
    "- 2 layers de subamostragem\n",
    "- 2 layers totalmente conectados"
   ]
  },
  {
   "cell_type": "markdown",
   "metadata": {},
   "source": [
    "<img src=\"LeNetArchitecture.jpg\" style=\"height: 250px;\"/>   "
   ]
  },
  {
   "cell_type": "markdown",
   "metadata": {},
   "source": []
  },
  {
   "cell_type": "markdown",
   "metadata": {},
   "source": [
    "A seguir, são montadas as camadas, conforme a estrutura da rede."
   ]
  },
  {
   "cell_type": "code",
   "execution_count": 30,
   "metadata": {},
   "outputs": [
    {
     "name": "stdout",
     "output_type": "stream",
     "text": [
      "Model: \"sequential_2\"\n",
      "_________________________________________________________________\n",
      " Layer (type)                Output Shape              Param #   \n",
      "=================================================================\n",
      " conv2d_5 (Conv2D)           (None, 254, 254, 6)       168       \n",
      "                                                                 \n",
      " average_pooling2d_2 (Averag  (None, 127, 127, 6)      0         \n",
      " ePooling2D)                                                     \n",
      "                                                                 \n",
      " conv2d_6 (Conv2D)           (None, 125, 125, 16)      880       \n",
      "                                                                 \n",
      " average_pooling2d_3 (Averag  (None, 62, 62, 16)       0         \n",
      " ePooling2D)                                                     \n",
      "                                                                 \n",
      " flatten_2 (Flatten)         (None, 61504)             0         \n",
      "                                                                 \n",
      " dense_5 (Dense)             (None, 120)               7380600   \n",
      "                                                                 \n",
      " dense_6 (Dense)             (None, 84)                10164     \n",
      "                                                                 \n",
      " dense_7 (Dense)             (None, 9)                 765       \n",
      "                                                                 \n",
      "=================================================================\n",
      "Total params: 7,392,577\n",
      "Trainable params: 7,392,577\n",
      "Non-trainable params: 0\n",
      "_________________________________________________________________\n"
     ]
    }
   ],
   "source": [
    "LeNet5 = tf.keras.Sequential()\n",
    "\n",
    "LeNet5.add(layers.Conv2D(filters=6, kernel_size=(3, 3), activation='relu', input_shape=(256, 256, 3)))\n",
    "LeNet5.add(layers.AveragePooling2D())\n",
    "\n",
    "LeNet5.add(layers.Conv2D(filters=16, kernel_size=(3, 3), activation='relu'))\n",
    "LeNet5.add(layers.AveragePooling2D())\n",
    "\n",
    "LeNet5.add(layers.Flatten())\n",
    "\n",
    "LeNet5.add(layers.Dense(120, activation='relu'))\n",
    "\n",
    "LeNet5.add(layers.Dense(84, activation='relu'))\n",
    "\n",
    "LeNet5.add(layers.Dense(9, activation = 'softmax'))\n",
    "\n",
    "LeNet5.summary()"
   ]
  },
  {
   "cell_type": "code",
   "execution_count": 31,
   "metadata": {},
   "outputs": [
    {
     "name": "stdout",
     "output_type": "stream",
     "text": [
      "Epoch 1/30\n",
      "80/80 [==============================] - 13s 155ms/step - loss: 23.3071 - accuracy: 0.3393 - val_loss: 1.6006 - val_accuracy: 0.4547\n",
      "Epoch 2/30\n",
      "80/80 [==============================] - 12s 155ms/step - loss: 1.1315 - accuracy: 0.6326 - val_loss: 1.5324 - val_accuracy: 0.5008\n",
      "Epoch 3/30\n",
      "80/80 [==============================] - 12s 152ms/step - loss: 0.5328 - accuracy: 0.8506 - val_loss: 1.6160 - val_accuracy: 0.5312\n",
      "Epoch 4/30\n",
      "80/80 [==============================] - 12s 151ms/step - loss: 0.2276 - accuracy: 0.9512 - val_loss: 1.8558 - val_accuracy: 0.5336\n",
      "Epoch 5/30\n",
      "80/80 [==============================] - 12s 151ms/step - loss: 0.1083 - accuracy: 0.9824 - val_loss: 2.0627 - val_accuracy: 0.5156\n",
      "Epoch 6/30\n",
      "80/80 [==============================] - 12s 155ms/step - loss: 0.0754 - accuracy: 0.9936 - val_loss: 2.2474 - val_accuracy: 0.5352\n",
      "Epoch 7/30\n",
      "80/80 [==============================] - 12s 152ms/step - loss: 0.0538 - accuracy: 0.9949 - val_loss: 2.3286 - val_accuracy: 0.5227\n",
      "Epoch 8/30\n",
      "80/80 [==============================] - 12s 154ms/step - loss: 0.0503 - accuracy: 0.9965 - val_loss: 2.3964 - val_accuracy: 0.5250\n",
      "Epoch 9/30\n",
      "80/80 [==============================] - 12s 150ms/step - loss: 0.0421 - accuracy: 0.9965 - val_loss: 2.4238 - val_accuracy: 0.5156\n",
      "Epoch 10/30\n",
      "80/80 [==============================] - 12s 150ms/step - loss: 0.0681 - accuracy: 0.9902 - val_loss: 2.7185 - val_accuracy: 0.4961\n",
      "Epoch 11/30\n",
      "80/80 [==============================] - 12s 150ms/step - loss: 0.0708 - accuracy: 0.9912 - val_loss: 2.4821 - val_accuracy: 0.5445\n",
      "Epoch 12/30\n",
      "80/80 [==============================] - 12s 150ms/step - loss: 0.0383 - accuracy: 0.9959 - val_loss: 2.5908 - val_accuracy: 0.5539\n",
      "Epoch 13/30\n",
      "80/80 [==============================] - 12s 150ms/step - loss: 0.0423 - accuracy: 0.9965 - val_loss: 2.5128 - val_accuracy: 0.5391\n",
      "Epoch 14/30\n",
      "80/80 [==============================] - 12s 150ms/step - loss: 0.0452 - accuracy: 0.9945 - val_loss: 2.6030 - val_accuracy: 0.5203\n",
      "Epoch 15/30\n",
      "80/80 [==============================] - 12s 149ms/step - loss: 0.0462 - accuracy: 0.9963 - val_loss: 2.7001 - val_accuracy: 0.5336\n",
      "Epoch 16/30\n",
      "80/80 [==============================] - 12s 150ms/step - loss: 0.0300 - accuracy: 0.9973 - val_loss: 2.7917 - val_accuracy: 0.5336\n",
      "Epoch 17/30\n",
      "80/80 [==============================] - 12s 150ms/step - loss: 0.0325 - accuracy: 0.9975 - val_loss: 2.9284 - val_accuracy: 0.5211\n",
      "Epoch 18/30\n",
      "80/80 [==============================] - 12s 150ms/step - loss: 0.0271 - accuracy: 0.9980 - val_loss: 2.8206 - val_accuracy: 0.5234\n",
      "Epoch 19/30\n",
      "80/80 [==============================] - 12s 149ms/step - loss: 0.0214 - accuracy: 0.9980 - val_loss: 2.9689 - val_accuracy: 0.5312\n",
      "Epoch 20/30\n",
      "80/80 [==============================] - 12s 150ms/step - loss: 0.0206 - accuracy: 0.9971 - val_loss: 2.7948 - val_accuracy: 0.5148\n",
      "Epoch 21/30\n",
      "80/80 [==============================] - 12s 151ms/step - loss: 0.0324 - accuracy: 0.9973 - val_loss: 2.7726 - val_accuracy: 0.5383\n",
      "Epoch 22/30\n",
      "80/80 [==============================] - 12s 150ms/step - loss: 0.0370 - accuracy: 0.9961 - val_loss: 2.6894 - val_accuracy: 0.5195\n",
      "Epoch 23/30\n",
      "80/80 [==============================] - 12s 150ms/step - loss: 0.0400 - accuracy: 0.9943 - val_loss: 2.8221 - val_accuracy: 0.4977\n",
      "Epoch 24/30\n",
      "80/80 [==============================] - 12s 150ms/step - loss: 0.0521 - accuracy: 0.9904 - val_loss: 3.2325 - val_accuracy: 0.5234\n",
      "Epoch 25/30\n",
      "80/80 [==============================] - 12s 149ms/step - loss: 0.0728 - accuracy: 0.9850 - val_loss: 3.0376 - val_accuracy: 0.4773\n",
      "Epoch 26/30\n",
      "80/80 [==============================] - 12s 149ms/step - loss: 0.0422 - accuracy: 0.9900 - val_loss: 3.6747 - val_accuracy: 0.5133\n",
      "Epoch 27/30\n",
      "80/80 [==============================] - 12s 149ms/step - loss: 0.0472 - accuracy: 0.9936 - val_loss: 3.0297 - val_accuracy: 0.4953\n",
      "Epoch 28/30\n",
      "80/80 [==============================] - 12s 153ms/step - loss: 0.0252 - accuracy: 0.9957 - val_loss: 3.3840 - val_accuracy: 0.5008\n",
      "Epoch 29/30\n",
      "80/80 [==============================] - 12s 151ms/step - loss: 0.0415 - accuracy: 0.9967 - val_loss: 3.2472 - val_accuracy: 0.5094\n",
      "Epoch 30/30\n",
      "80/80 [==============================] - 12s 150ms/step - loss: 0.0193 - accuracy: 0.9980 - val_loss: 3.4936 - val_accuracy: 0.5164\n"
     ]
    }
   ],
   "source": [
    "LeNet5.compile(loss=\"categorical_crossentropy\",\n",
    "             optimizer=\"adam\",\n",
    "             metrics=['accuracy'])\n",
    "\n",
    "historyLeNet5 = LeNet5.fit(train_imgs, epochs=30, \n",
    "                    validation_data=val_imgs)"
   ]
  },
  {
   "cell_type": "code",
   "execution_count": 33,
   "metadata": {},
   "outputs": [
    {
     "name": "stdout",
     "output_type": "stream",
     "text": [
      "25/25 - 3s - loss: 3.1853 - accuracy: 0.5400 - 3s/epoch - 130ms/step\n"
     ]
    },
    {
     "data": {
      "image/png": "[encoded data removed]",
      "text/plain": [
       "<Figure size 432x288 with 1 Axes>"
      ]
     },
     "metadata": {
      "needs_background": "light"
     },
     "output_type": "display_data"
    }
   ],
   "source": [
    "plt.plot(historyLeNet5.history['accuracy'], label='accuracy')\n",
    "plt.plot(historyLeNet5.history['val_accuracy'], label = 'val_accuracy')\n",
    "plt.xlabel('Epoch')\n",
    "plt.ylabel('Accuracy')\n",
    "plt.ylim([0.5, 1])\n",
    "plt.legend(loc='lower right')\n",
    "\n",
    "test_loss, test_acc = LeNet5.evaluate(test_imgs, verbose=2)"
   ]
  },
  {
   "cell_type": "markdown",
   "metadata": {},
   "source": [
    "Como mostrado no gráfico acima, também se apresentou overfitting, com a acurácia do treinamento muito maior do que no caso do teste."
   ]
  }
 ],
 "metadata": {
  "kernelspec": {
   "display_name": "Python 3.9.4 64-bit",
   "language": "python",
   "name": "python3"
  },
  "language_info": {
   "codemirror_mode": {
    "name": "ipython",
    "version": 3
   },
   "file_extension": ".py",
   "mimetype": "text/x-python",
   "name": "python",
   "nbconvert_exporter": "python",
   "pygments_lexer": "ipython3",
   "version": "3.9.4"
  },
  "vscode": {
   "interpreter": {
    "hash": "cf92aa13fedf815d5c8dd192b8d835913fde3e8bc926b2a0ad6cc74ef2ba3ca2"
   }
  }
 },
 "nbformat": 4,
 "nbformat_minor": 4
}
