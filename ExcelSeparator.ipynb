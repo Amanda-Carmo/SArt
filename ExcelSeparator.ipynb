{
 "cells": [
  {
   "cell_type": "code",
   "execution_count": 2,
   "metadata": {},
   "outputs": [
    {
     "ename": "ModuleNotFoundError",
     "evalue": "No module named 'unidecode'",
     "output_type": "error",
     "traceback": [
      "\u001b[0;31m---------------------------------------------------------------------------\u001b[0m",
      "\u001b[0;31mModuleNotFoundError\u001b[0m                       Traceback (most recent call last)",
      "\u001b[1;32m/home/tyr/Desktop/mL/SArt/ExcelSeparator.ipynb Cell 1\u001b[0m in \u001b[0;36m<cell line: 11>\u001b[0;34m()\u001b[0m\n\u001b[1;32m      <a href='vscode-notebook-cell:/home/tyr/Desktop/mL/SArt/ExcelSeparator.ipynb#W0sZmlsZQ%3D%3D?line=8'>9</a>\u001b[0m \u001b[39mimport\u001b[39;00m \u001b[39mPIL\u001b[39;00m\n\u001b[1;32m     <a href='vscode-notebook-cell:/home/tyr/Desktop/mL/SArt/ExcelSeparator.ipynb#W0sZmlsZQ%3D%3D?line=9'>10</a>\u001b[0m \u001b[39mfrom\u001b[39;00m \u001b[39mPIL\u001b[39;00m \u001b[39mimport\u001b[39;00m Image\n\u001b[0;32m---> <a href='vscode-notebook-cell:/home/tyr/Desktop/mL/SArt/ExcelSeparator.ipynb#W0sZmlsZQ%3D%3D?line=10'>11</a>\u001b[0m \u001b[39mfrom\u001b[39;00m \u001b[39munidecode\u001b[39;00m \u001b[39mimport\u001b[39;00m unidecode\n\u001b[1;32m     <a href='vscode-notebook-cell:/home/tyr/Desktop/mL/SArt/ExcelSeparator.ipynb#W0sZmlsZQ%3D%3D?line=11'>12</a>\u001b[0m \u001b[39mfrom\u001b[39;00m \u001b[39mtensorflow\u001b[39;00m\u001b[39m.\u001b[39;00m\u001b[39mkeras\u001b[39;00m\u001b[39m.\u001b[39;00m\u001b[39mpreprocessing\u001b[39;00m\u001b[39m.\u001b[39;00m\u001b[39mimage\u001b[39;00m \u001b[39mimport\u001b[39;00m ImageDataGenerator\n",
      "\u001b[0;31mModuleNotFoundError\u001b[0m: No module named 'unidecode'"
     ]
    }
   ],
   "source": [
    "import pandas as pd\n",
    "import numpy as np\n",
    "import matplotlib.pyplot as plt\n",
    "import random\n",
    "import tensorflow as tf\n",
    "from tensorflow.keras import datasets, layers, models\n",
    "#import cv2\n",
    "import os\n",
    "import PIL\n",
    "from PIL import Image\n",
    "from unidecode import unidecode\n",
    "from tensorflow.keras.preprocessing.image import ImageDataGenerator\n"
   ]
  },
  {
   "cell_type": "code",
   "execution_count": 2,
   "metadata": {},
   "outputs": [],
   "source": [
    "dados = pd.read_excel('wclasses.xlsx')\n"
   ]
  },
  {
   "cell_type": "code",
   "execution_count": 3,
   "metadata": {},
   "outputs": [
    {
     "data": {
      "text/plain": [
       "81444"
      ]
     },
     "execution_count": 3,
     "metadata": {},
     "output_type": "execute_result"
    }
   ],
   "source": [
    "len(dados)"
   ]
  },
  {
   "cell_type": "code",
   "execution_count": 4,
   "metadata": {},
   "outputs": [],
   "source": [
    "classesList =[\"Abstrac_Expressionism\",\"Art_Nouveau_Modern\",\"Baroque\",\"Color_Field_Painting\",\"Cubism\",\"Early_Renaissance\",\n",
    "\"Expressionism\", \"Fauvismo\",\"High_Renaissance\",\"Impressionism\",\"Mannerism_Late_Renaissance\",\"Minimalism\",\n",
    "\"Naive_Art_Primitivism\",\"Northen_Renaissance\",\"Pop_Art\",\"Post_Impressionism\",\"Realism\",\"Rococo\",\"Romanticism\",\"Symbolism\",\n",
    "\"Ukiyo_e\"]"
   ]
  },
  {
   "cell_type": "code",
   "execution_count": 39,
   "metadata": {},
   "outputs": [
    {
     "data": {
      "text/plain": [
       "8000"
      ]
     },
     "execution_count": 39,
     "metadata": {},
     "output_type": "execute_result"
    }
   ],
   "source": [
    "#impor_membros= dados[\"file\"].str.contains(*classesList)\n",
    "\n",
    "mask = dados.iloc[:, 0].str.contains(r'\\b(?:{})\\b'.format('|'.join(classesList)))\n",
    "df1 = dados[~mask]\n",
    "len(df1)\n"
   ]
  },
  {
   "cell_type": "code",
   "execution_count": 40,
   "metadata": {},
   "outputs": [
    {
     "data": {
      "text/html": [
       "<div>\n",
       "<style scoped>\n",
       "    .dataframe tbody tr th:only-of-type {\n",
       "        vertical-align: middle;\n",
       "    }\n",
       "\n",
       "    .dataframe tbody tr th {\n",
       "        vertical-align: top;\n",
       "    }\n",
       "\n",
       "    .dataframe thead th {\n",
       "        text-align: right;\n",
       "    }\n",
       "</style>\n",
       "<table border=\"1\" class=\"dataframe\">\n",
       "  <thead>\n",
       "    <tr style=\"text-align: right;\">\n",
       "      <th></th>\n",
       "      <th>file</th>\n",
       "      <th>artist</th>\n",
       "      <th>genre</th>\n",
       "      <th>style</th>\n",
       "    </tr>\n",
       "  </thead>\n",
       "  <tbody>\n",
       "    <tr>\n",
       "      <th>8</th>\n",
       "      <td>Northern_Renaissance/albrecht-durer_deposition...</td>\n",
       "      <td>25</td>\n",
       "      <td>136</td>\n",
       "      <td>157</td>\n",
       "    </tr>\n",
       "    <tr>\n",
       "      <th>31</th>\n",
       "      <td>Northern_Renaissance/albrecht-durer_apostle-ba...</td>\n",
       "      <td>25</td>\n",
       "      <td>136</td>\n",
       "      <td>157</td>\n",
       "    </tr>\n",
       "    <tr>\n",
       "      <th>46</th>\n",
       "      <td>Northern_Renaissance/albrecht-durer_laughing-p...</td>\n",
       "      <td>25</td>\n",
       "      <td>135</td>\n",
       "      <td>157</td>\n",
       "    </tr>\n",
       "    <tr>\n",
       "      <th>60</th>\n",
       "      <td>Northern_Renaissance/albrecht-durer_portrait-o...</td>\n",
       "      <td>25</td>\n",
       "      <td>135</td>\n",
       "      <td>157</td>\n",
       "    </tr>\n",
       "    <tr>\n",
       "      <th>61</th>\n",
       "      <td>Northern_Renaissance/albrecht-durer_the-penite...</td>\n",
       "      <td>25</td>\n",
       "      <td>131</td>\n",
       "      <td>157</td>\n",
       "    </tr>\n",
       "    <tr>\n",
       "      <th>70</th>\n",
       "      <td>Northern_Renaissance/albrecht-durer_portrait-o...</td>\n",
       "      <td>25</td>\n",
       "      <td>135</td>\n",
       "      <td>157</td>\n",
       "    </tr>\n",
       "    <tr>\n",
       "      <th>100</th>\n",
       "      <td>Northern_Renaissance/albrecht-durer_the-great-...</td>\n",
       "      <td>25</td>\n",
       "      <td>131</td>\n",
       "      <td>157</td>\n",
       "    </tr>\n",
       "    <tr>\n",
       "      <th>125</th>\n",
       "      <td>Northern_Renaissance/albrecht-durer_portrait-o...</td>\n",
       "      <td>25</td>\n",
       "      <td>135</td>\n",
       "      <td>157</td>\n",
       "    </tr>\n",
       "    <tr>\n",
       "      <th>147</th>\n",
       "      <td>Northern_Renaissance/albrecht-durer_portrait-o...</td>\n",
       "      <td>25</td>\n",
       "      <td>135</td>\n",
       "      <td>157</td>\n",
       "    </tr>\n",
       "    <tr>\n",
       "      <th>166</th>\n",
       "      <td>Northern_Renaissance/albrecht-durer_portrait-o...</td>\n",
       "      <td>25</td>\n",
       "      <td>135</td>\n",
       "      <td>157</td>\n",
       "    </tr>\n",
       "    <tr>\n",
       "      <th>167</th>\n",
       "      <td>Northern_Renaissance/albrecht-durer_st-jerome-...</td>\n",
       "      <td>25</td>\n",
       "      <td>136</td>\n",
       "      <td>157</td>\n",
       "    </tr>\n",
       "    <tr>\n",
       "      <th>170</th>\n",
       "      <td>Northern_Renaissance/albrecht-durer_adoration-...</td>\n",
       "      <td>25</td>\n",
       "      <td>136</td>\n",
       "      <td>157</td>\n",
       "    </tr>\n",
       "    <tr>\n",
       "      <th>181</th>\n",
       "      <td>Northern_Renaissance/albrecht-durer_the-cross-...</td>\n",
       "      <td>25</td>\n",
       "      <td>137</td>\n",
       "      <td>157</td>\n",
       "    </tr>\n",
       "    <tr>\n",
       "      <th>231</th>\n",
       "      <td>Northern_Renaissance/albrecht-durer_garza.jpg</td>\n",
       "      <td>0</td>\n",
       "      <td>139</td>\n",
       "      <td>157</td>\n",
       "    </tr>\n",
       "    <tr>\n",
       "      <th>259</th>\n",
       "      <td>Fauvism/martiros-saryan_mules-laden-with-hay-1...</td>\n",
       "      <td>13</td>\n",
       "      <td>139</td>\n",
       "      <td>150</td>\n",
       "    </tr>\n",
       "    <tr>\n",
       "      <th>260</th>\n",
       "      <td>Analytical_Cubism/pablo-picasso_violin-glass-p...</td>\n",
       "      <td>15</td>\n",
       "      <td>138</td>\n",
       "      <td>142</td>\n",
       "    </tr>\n",
       "    <tr>\n",
       "      <th>262</th>\n",
       "      <td>Abstract_Expressionism/salvador-dali_religious...</td>\n",
       "      <td>21</td>\n",
       "      <td>136</td>\n",
       "      <td>140</td>\n",
       "    </tr>\n",
       "    <tr>\n",
       "      <th>273</th>\n",
       "      <td>Northern_Renaissance/albrecht-durer_adam-and-e...</td>\n",
       "      <td>25</td>\n",
       "      <td>136</td>\n",
       "      <td>157</td>\n",
       "    </tr>\n",
       "    <tr>\n",
       "      <th>302</th>\n",
       "      <td>Analytical_Cubism/pablo-picasso_clarinet-1911.jpg</td>\n",
       "      <td>15</td>\n",
       "      <td>138</td>\n",
       "      <td>142</td>\n",
       "    </tr>\n",
       "    <tr>\n",
       "      <th>315</th>\n",
       "      <td>Analytical_Cubism/pablo-picasso_spanish-still-...</td>\n",
       "      <td>15</td>\n",
       "      <td>138</td>\n",
       "      <td>142</td>\n",
       "    </tr>\n",
       "  </tbody>\n",
       "</table>\n",
       "</div>"
      ],
      "text/plain": [
       "                                                  file  artist  genre  style\n",
       "8    Northern_Renaissance/albrecht-durer_deposition...      25    136    157\n",
       "31   Northern_Renaissance/albrecht-durer_apostle-ba...      25    136    157\n",
       "46   Northern_Renaissance/albrecht-durer_laughing-p...      25    135    157\n",
       "60   Northern_Renaissance/albrecht-durer_portrait-o...      25    135    157\n",
       "61   Northern_Renaissance/albrecht-durer_the-penite...      25    131    157\n",
       "70   Northern_Renaissance/albrecht-durer_portrait-o...      25    135    157\n",
       "100  Northern_Renaissance/albrecht-durer_the-great-...      25    131    157\n",
       "125  Northern_Renaissance/albrecht-durer_portrait-o...      25    135    157\n",
       "147  Northern_Renaissance/albrecht-durer_portrait-o...      25    135    157\n",
       "166  Northern_Renaissance/albrecht-durer_portrait-o...      25    135    157\n",
       "167  Northern_Renaissance/albrecht-durer_st-jerome-...      25    136    157\n",
       "170  Northern_Renaissance/albrecht-durer_adoration-...      25    136    157\n",
       "181  Northern_Renaissance/albrecht-durer_the-cross-...      25    137    157\n",
       "231      Northern_Renaissance/albrecht-durer_garza.jpg       0    139    157\n",
       "259  Fauvism/martiros-saryan_mules-laden-with-hay-1...      13    139    150\n",
       "260  Analytical_Cubism/pablo-picasso_violin-glass-p...      15    138    142\n",
       "262  Abstract_Expressionism/salvador-dali_religious...      21    136    140\n",
       "273  Northern_Renaissance/albrecht-durer_adam-and-e...      25    136    157\n",
       "302  Analytical_Cubism/pablo-picasso_clarinet-1911.jpg      15    138    142\n",
       "315  Analytical_Cubism/pablo-picasso_spanish-still-...      15    138    142"
      ]
     },
     "execution_count": 40,
     "metadata": {},
     "output_type": "execute_result"
    }
   ],
   "source": [
    "df1.head(20)"
   ]
  },
  {
   "cell_type": "code",
   "execution_count": 41,
   "metadata": {},
   "outputs": [],
   "source": [
    "# Arrumar o nome dos arquivos que tem acento\n",
    "f = r\"C:/Users/biamc/Documents/Insper/Machine Learning/SArt\"\n",
    "for img_p in range(df1.shape[0]):\n",
    "    img_path = df1.iloc[img_p, 0]\n",
    "    if \"Ã¢Â\\xa0\" in img_path:\n",
    "        img_path = img_path.replace('Ã¢Â', '\\u00E2')\n",
    "        temp_path = img_path.replace('\\u00E2', 'a') \n",
    "        df1.iat[img_p, 0] = temp_path\n",
    "        img_path = f  + \"/\" + img_path\n",
    "        temp_path = f  + \"/\" + temp_path\n",
    "        # os.rename(u'{0}'.format(img_path), temp_path)\n",
    "        img_path = temp_path\n",
    "    \n",
    "    df1.iat[img_p, 3] = df1.iloc[img_p, 3]-140\n",
    "    img = Image.open(img_path)\n",
    "    img = img.resize((256,256))\n",
    "    img.save(img_path)\n",
    "    \n",
    "    # C:/Users/biamc/Documents/Insper/Machine Learning/SArt/Pointillism/georges-lacombeâ _oaks-and-blueberry-bushes-1905.jpg\n",
    "    #                                                                   georges-lacombeâ _oaks-and-blueberry-bushes-1905.jpg"
   ]
  },
  {
   "cell_type": "code",
   "execution_count": 42,
   "metadata": {},
   "outputs": [],
   "source": [
    "train = df1.sample(frac=0.8,random_state=200)\n",
    "test = df1.drop(train.index)"
   ]
  },
  {
   "cell_type": "code",
   "execution_count": 43,
   "metadata": {},
   "outputs": [
    {
     "name": "stdout",
     "output_type": "stream",
     "text": [
      "17\n"
     ]
    }
   ],
   "source": [
    "print(df1.iloc[10, 3])"
   ]
  },
  {
   "cell_type": "code",
   "execution_count": 44,
   "metadata": {},
   "outputs": [
    {
     "name": "stdout",
     "output_type": "stream",
     "text": [
      "(256, 256, 3)\n"
     ]
    }
   ],
   "source": [
    "im = cv2.imread(train.iloc[4, 0])\n",
    "print(im.shape)\n",
    "# print(train.iloc[0, 0])"
   ]
  },
  {
   "cell_type": "code",
   "execution_count": 45,
   "metadata": {},
   "outputs": [
    {
     "name": "stdout",
     "output_type": "stream",
     "text": [
      "Found 81444 files belonging to 31 classes.\n",
      "Using 65156 files for training.\n"
     ]
    }
   ],
   "source": [
    "train_ds = tf.keras.preprocessing.image_dataset_from_directory(\n",
    "  r'C:\\Users\\biamc\\Documents\\Insper\\Machine Learning\\SArt',\n",
    "  labels='inferred',\n",
    "  validation_split=0.2,\n",
    "  subset=\"training\",\n",
    "  seed=123,\n",
    "  image_size=(256, 256),\n",
    "  batch_size=32)"
   ]
  },
  {
   "cell_type": "code",
   "execution_count": null,
   "metadata": {},
   "outputs": [],
   "source": [
    "from sklearn.linear_model import ElasticNet, Lasso, Ridge\n",
    "from sklearn.metrics import mean_squared_error\n",
    "from sklearn.model_selection import train_test_split\n",
    "\n",
    "from sklearn.linear_model import LinearRegression\n",
    "from sklearn.pipeline import Pipeline\n",
    "from sklearn.preprocessing import PolynomialFeatures, StandardScaler\n",
    "\n",
    "alpha = 1e-1\n",
    "\n",
    "def get_Lasso(degree):\n",
    "    pipe = Pipeline([\n",
    "        (\"poly_features\", PolynomialFeatures(\n",
    "            degree=degree,\n",
    "            include_bias=False,\n",
    "        )),\n",
    "        (\"std_scaler\", StandardScaler()),\n",
    "        (\"lin_reg\", Lasso(alpha=alpha)()),\n",
    "    ])\n",
    "    return pipe\n",
    "\n",
    "def get_Ridge(degree):\n",
    "    pipe = Pipeline([\n",
    "        (\"poly_features\", PolynomialFeatures(\n",
    "            degree=degree,\n",
    "            include_bias=False,\n",
    "        )),\n",
    "        (\"std_scaler\", StandardScaler()),\n",
    "        (\"lin_reg\", Ridge(alpha=alpha)),\n",
    "    ])\n",
    "    return pipe\n",
    "\n",
    "def get_ElaticNet(degree):\n",
    "    pipe = Pipeline([\n",
    "        (\"poly_features\", PolynomialFeatures(\n",
    "            degree=degree,\n",
    "            include_bias=False,\n",
    "        )),\n",
    "        (\"std_scaler\", StandardScaler()),\n",
    "        (\"lin_reg\", ElasticNet(alpha=alpha, l1_ratio=0.5, random_state=RAND_SEED)),\n",
    "    ])\n",
    "    return pipe\n",
    "\n",
    "def outro_experimento(msg, pipeline, X_train, y_train, X_test, y_test):\n",
    "    pipeline.fit(X_train, y_train)\n",
    "    y_pred = pipeline.predict(X_test)\n",
    "    RMSE = np.sqrt(mean_squared_error(y_pred, y_test))\n",
    "\n",
    "    model = pipeline.named_steps['lin_reg']\n",
    "    print(f'{msg}:')\n",
    "    print(f'intercept = {model.intercept_}')\n",
    "    print(f'coefs = {model.coef_}')\n",
    "    print(f'RMSE: {RMSE}')\n",
    "    print()"
   ]
  },
  {
   "cell_type": "code",
   "execution_count": 55,
   "metadata": {},
   "outputs": [],
   "source": [
    "model = models.Sequential()\n",
    "model.add(layers.Conv2D(32, (3, 3), activation='relu', input_shape=(256, 256, 3)))\n",
    "model.add(layers.MaxPooling2D((2, 2)))\n",
    "model.add(layers.Conv2D(64, (3, 3), activation='relu'))\n",
    "model.add(layers.MaxPooling2D((2, 2)))\n",
    "model.add(layers.Conv2D(64, (3, 3), activation='relu'))\n",
    "model.add(layers.Flatten())\n",
    "model.add(layers.Dense(64, activation='relu'))\n",
    "model.add(layers.Dense(27))"
   ]
  },
  {
   "cell_type": "code",
   "execution_count": 56,
   "metadata": {},
   "outputs": [
    {
     "name": "stdout",
     "output_type": "stream",
     "text": [
      "Model: \"sequential_5\"\n",
      "_________________________________________________________________\n",
      " Layer (type)                Output Shape              Param #   \n",
      "=================================================================\n",
      " conv2d_15 (Conv2D)          (None, 254, 254, 32)      896       \n",
      "                                                                 \n",
      " max_pooling2d_10 (MaxPoolin  (None, 127, 127, 32)     0         \n",
      " g2D)                                                            \n",
      "                                                                 \n",
      " conv2d_16 (Conv2D)          (None, 125, 125, 64)      18496     \n",
      "                                                                 \n",
      " max_pooling2d_11 (MaxPoolin  (None, 62, 62, 64)       0         \n",
      " g2D)                                                            \n",
      "                                                                 \n",
      " conv2d_17 (Conv2D)          (None, 60, 60, 64)        36928     \n",
      "                                                                 \n",
      " flatten_5 (Flatten)         (None, 230400)            0         \n",
      "                                                                 \n",
      " dense_10 (Dense)            (None, 64)                14745664  \n",
      "                                                                 \n",
      " dense_11 (Dense)            (None, 27)                1755      \n",
      "                                                                 \n",
      "=================================================================\n",
      "Total params: 14,803,739\n",
      "Trainable params: 14,803,739\n",
      "Non-trainable params: 0\n",
      "_________________________________________________________________\n"
     ]
    }
   ],
   "source": [
    "model.summary()\n"
   ]
  },
  {
   "cell_type": "code",
   "execution_count": 20,
   "metadata": {},
   "outputs": [],
   "source": [
    "# model.compile(optimizer='adam',\n",
    "#               loss=tf.keras.losses.SparseCategoricalCrossentropy(from_logits=True),\n",
    "#               metrics=['accuracy'])\n",
    "\n",
    "# history = model.fit(train_images, train_labels, epochs=10, validation_data=(test_images, test_labels))"
   ]
  },
  {
   "cell_type": "code",
   "execution_count": 57,
   "metadata": {},
   "outputs": [
    {
     "name": "stdout",
     "output_type": "stream",
     "text": [
      "Found 6400 validated image filenames.\n",
      "Found 1600 validated image filenames.\n"
     ]
    }
   ],
   "source": [
    "target_size=(256,256) # set the size of the images\n",
    "color_mode='rgb' # set the type of image\n",
    "class_mode= 'categorical' # set the class mode\n",
    "batch_size=32  # set the batch size\n",
    "subset='training' # set to 'training', or 'valiatiom' or leave as None\n",
    "\n",
    "train_gen = ImageDataGenerator()\n",
    "test_gen = ImageDataGenerator()\n",
    "train_imgs= train_gen.flow_from_dataframe(dataframe=train, \n",
    "          x_col='file',\n",
    "          y_col=['style'],\n",
    "          target_size=target_size,color_mode=color_mode,\n",
    "          class_mode='raw', batch_size=batch_size,shuffle=True, seed=123,\n",
    "          subset='training')\n",
    "test_imgs= test_gen.flow_from_dataframe(dataframe=test, \n",
    "          x_col='file',\n",
    "          y_col=['style'],\n",
    "          target_size=target_size,color_mode=color_mode,\n",
    "          class_mode='raw', batch_size=batch_size,shuffle=True, seed=123,\n",
    "          subset='training')"
   ]
  },
  {
   "cell_type": "code",
   "execution_count": 49,
   "metadata": {},
   "outputs": [
    {
     "data": {
      "text/html": [
       "<div>\n",
       "<style scoped>\n",
       "    .dataframe tbody tr th:only-of-type {\n",
       "        vertical-align: middle;\n",
       "    }\n",
       "\n",
       "    .dataframe tbody tr th {\n",
       "        vertical-align: top;\n",
       "    }\n",
       "\n",
       "    .dataframe thead th {\n",
       "        text-align: right;\n",
       "    }\n",
       "</style>\n",
       "<table border=\"1\" class=\"dataframe\">\n",
       "  <thead>\n",
       "    <tr style=\"text-align: right;\">\n",
       "      <th></th>\n",
       "      <th>file</th>\n",
       "      <th>artist</th>\n",
       "      <th>genre</th>\n",
       "      <th>style</th>\n",
       "    </tr>\n",
       "  </thead>\n",
       "  <tbody>\n",
       "    <tr>\n",
       "      <th>46</th>\n",
       "      <td>Northern_Renaissance/albrecht-durer_laughing-p...</td>\n",
       "      <td>25</td>\n",
       "      <td>135</td>\n",
       "      <td>17</td>\n",
       "    </tr>\n",
       "    <tr>\n",
       "      <th>273</th>\n",
       "      <td>Northern_Renaissance/albrecht-durer_adam-and-e...</td>\n",
       "      <td>25</td>\n",
       "      <td>136</td>\n",
       "      <td>17</td>\n",
       "    </tr>\n",
       "    <tr>\n",
       "      <th>302</th>\n",
       "      <td>Analytical_Cubism/pablo-picasso_clarinet-1911.jpg</td>\n",
       "      <td>15</td>\n",
       "      <td>138</td>\n",
       "      <td>2</td>\n",
       "    </tr>\n",
       "    <tr>\n",
       "      <th>523</th>\n",
       "      <td>Northern_Renaissance/albrecht-durer_two-castle...</td>\n",
       "      <td>25</td>\n",
       "      <td>137</td>\n",
       "      <td>17</td>\n",
       "    </tr>\n",
       "    <tr>\n",
       "      <th>648</th>\n",
       "      <td>Northern_Renaissance/albrecht-durer_st-george-...</td>\n",
       "      <td>25</td>\n",
       "      <td>136</td>\n",
       "      <td>17</td>\n",
       "    </tr>\n",
       "  </tbody>\n",
       "</table>\n",
       "</div>"
      ],
      "text/plain": [
       "                                                  file  artist  genre  style\n",
       "46   Northern_Renaissance/albrecht-durer_laughing-p...      25    135     17\n",
       "273  Northern_Renaissance/albrecht-durer_adam-and-e...      25    136     17\n",
       "302  Analytical_Cubism/pablo-picasso_clarinet-1911.jpg      15    138      2\n",
       "523  Northern_Renaissance/albrecht-durer_two-castle...      25    137     17\n",
       "648  Northern_Renaissance/albrecht-durer_st-george-...      25    136     17"
      ]
     },
     "execution_count": 49,
     "metadata": {},
     "output_type": "execute_result"
    }
   ],
   "source": [
    "test.head()"
   ]
  },
  {
   "cell_type": "code",
   "execution_count": 50,
   "metadata": {},
   "outputs": [
    {
     "data": {
      "text/html": [
       "<div>\n",
       "<style scoped>\n",
       "    .dataframe tbody tr th:only-of-type {\n",
       "        vertical-align: middle;\n",
       "    }\n",
       "\n",
       "    .dataframe tbody tr th {\n",
       "        vertical-align: top;\n",
       "    }\n",
       "\n",
       "    .dataframe thead th {\n",
       "        text-align: right;\n",
       "    }\n",
       "</style>\n",
       "<table border=\"1\" class=\"dataframe\">\n",
       "  <thead>\n",
       "    <tr style=\"text-align: right;\">\n",
       "      <th></th>\n",
       "      <th>file</th>\n",
       "      <th>artist</th>\n",
       "      <th>genre</th>\n",
       "      <th>style</th>\n",
       "    </tr>\n",
       "  </thead>\n",
       "  <tbody>\n",
       "    <tr>\n",
       "      <th>18175</th>\n",
       "      <td>Northern_Renaissance/albrecht-durer_dead-blueb...</td>\n",
       "      <td>0</td>\n",
       "      <td>139</td>\n",
       "      <td>17</td>\n",
       "    </tr>\n",
       "    <tr>\n",
       "      <th>78398</th>\n",
       "      <td>Fauvism/charles-lapicque_bateau-sur-la-lagune-...</td>\n",
       "      <td>0</td>\n",
       "      <td>139</td>\n",
       "      <td>10</td>\n",
       "    </tr>\n",
       "    <tr>\n",
       "      <th>71978</th>\n",
       "      <td>Abstract_Expressionism/elaine-de-kooning_portr...</td>\n",
       "      <td>0</td>\n",
       "      <td>139</td>\n",
       "      <td>0</td>\n",
       "    </tr>\n",
       "    <tr>\n",
       "      <th>6566</th>\n",
       "      <td>Pointillism/camille-pissarro_portrait-of-nini-...</td>\n",
       "      <td>2</td>\n",
       "      <td>135</td>\n",
       "      <td>18</td>\n",
       "    </tr>\n",
       "    <tr>\n",
       "      <th>29226</th>\n",
       "      <td>Pointillism/georges-seurat_suburb-1882.jpg</td>\n",
       "      <td>47</td>\n",
       "      <td>130</td>\n",
       "      <td>18</td>\n",
       "    </tr>\n",
       "  </tbody>\n",
       "</table>\n",
       "</div>"
      ],
      "text/plain": [
       "                                                    file  artist  genre  style\n",
       "18175  Northern_Renaissance/albrecht-durer_dead-blueb...       0    139     17\n",
       "78398  Fauvism/charles-lapicque_bateau-sur-la-lagune-...       0    139     10\n",
       "71978  Abstract_Expressionism/elaine-de-kooning_portr...       0    139      0\n",
       "6566   Pointillism/camille-pissarro_portrait-of-nini-...       2    135     18\n",
       "29226         Pointillism/georges-seurat_suburb-1882.jpg      47    130     18"
      ]
     },
     "execution_count": 50,
     "metadata": {},
     "output_type": "execute_result"
    }
   ],
   "source": [
    "train.head()"
   ]
  },
  {
   "cell_type": "code",
   "execution_count": 58,
   "metadata": {},
   "outputs": [
    {
     "name": "stdout",
     "output_type": "stream",
     "text": [
      "<class 'numpy.ndarray'>\n",
      "Epoch 1/10\n",
      "200/200 [==============================] - 245s 1s/step - loss: 22.4092 - accuracy: 0.3698 - val_loss: 2.7110 - val_accuracy: 0.0344\n",
      "Epoch 2/10\n",
      "200/200 [==============================] - 240s 1s/step - loss: 2.0984 - accuracy: 0.1150 - val_loss: 1.7407 - val_accuracy: 0.1306\n",
      "Epoch 3/10\n",
      "200/200 [==============================] - 240s 1s/step - loss: 1.6128 - accuracy: 0.6697 - val_loss: 1.7142 - val_accuracy: 0.8744\n",
      "Epoch 4/10\n",
      "200/200 [==============================] - 247s 1s/step - loss: 1.4124 - accuracy: 0.7800 - val_loss: 1.8437 - val_accuracy: 0.8512\n",
      "Epoch 5/10\n",
      "200/200 [==============================] - 240s 1s/step - loss: 1.3422 - accuracy: 0.7536 - val_loss: 2.4988 - val_accuracy: 0.7419\n",
      "Epoch 6/10\n",
      "200/200 [==============================] - 239s 1s/step - loss: 1.1732 - accuracy: 0.7070 - val_loss: 2.6621 - val_accuracy: 0.7294\n",
      "Epoch 7/10\n",
      "200/200 [==============================] - 239s 1s/step - loss: 1.4751 - accuracy: 0.6862 - val_loss: 3.5862 - val_accuracy: 0.7094\n",
      "Epoch 8/10\n",
      "200/200 [==============================] - 238s 1s/step - loss: 1.0803 - accuracy: 0.6594 - val_loss: 3.4860 - val_accuracy: 0.6919\n",
      "Epoch 9/10\n",
      "200/200 [==============================] - 239s 1s/step - loss: 0.9601 - accuracy: 0.6328 - val_loss: 4.7105 - val_accuracy: 0.6369\n",
      "Epoch 10/10\n",
      "200/200 [==============================] - 239s 1s/step - loss: 0.8672 - accuracy: 0.6122 - val_loss: 4.4206 - val_accuracy: 0.6375\n"
     ]
    }
   ],
   "source": [
    "import scipy\n",
    "model.compile(optimizer='adam',\n",
    "              loss=tf.keras.losses.SparseCategoricalCrossentropy(from_logits=True),\n",
    "              metrics=['accuracy'])\n",
    "train_labels = train[\"style\"].to_numpy()\n",
    "test_labels = test[\"style\"].to_numpy()\n",
    "print(type(train_labels))\n",
    "\n",
    "history = model.fit(train_imgs, epochs=10, \n",
    "                    validation_data=(test_imgs))"
   ]
  },
  {
   "cell_type": "code",
   "execution_count": 60,
   "metadata": {},
   "outputs": [
    {
     "name": "stdout",
     "output_type": "stream",
     "text": [
      "50/50 - 14s - loss: 4.4206 - accuracy: 0.6375 - 14s/epoch - 287ms/step\n"
     ]
    },
    {
     "data": {
      "image/png": "[encoded data removed]",
      "text/plain": [
       "<Figure size 432x288 with 1 Axes>"
      ]
     },
     "metadata": {
      "needs_background": "light"
     },
     "output_type": "display_data"
    }
   ],
   "source": [
    "plt.plot(history.history['accuracy'], label='accuracy')\n",
    "plt.plot(history.history['val_accuracy'], label = 'val_accuracy')\n",
    "plt.xlabel('Epoch')\n",
    "plt.ylabel('Accuracy')\n",
    "plt.ylim([0.5, 1])\n",
    "plt.legend(loc='lower right')\n",
    "\n",
    "test_loss, test_acc = model.evaluate(test_imgs, verbose=2)"
   ]
  },
  {
   "cell_type": "code",
   "execution_count": null,
   "metadata": {},
   "outputs": [],
   "source": []
  }
 ],
 "metadata": {
  "kernelspec": {
   "display_name": "Python 3 (ipykernel)",
   "language": "python",
   "name": "python3"
  },
  "language_info": {
   "codemirror_mode": {
    "name": "ipython",
    "version": 3
   },
   "file_extension": ".py",
   "mimetype": "text/x-python",
   "name": "python",
   "nbconvert_exporter": "python",
   "pygments_lexer": "ipython3",
   "version": "3.10.6"
  },
  "vscode": {
   "interpreter": {
    "hash": "31f2aee4e71d21fbe5cf8b01ff0e069b9275f58929596ceb00d14d90e3e16cd6"
   }
  }
 },
 "nbformat": 4,
 "nbformat_minor": 4
}
