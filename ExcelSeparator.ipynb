{
 "cells": [
  {
   "cell_type": "code",
   "execution_count": 16,
   "metadata": {},
   "outputs": [],
   "source": [
    "import pandas as pd\n",
    "import numpy as np\n",
    "import matplotlib.pyplot as plt\n",
    "import random\n"
   ]
  },
  {
   "cell_type": "code",
   "execution_count": 17,
   "metadata": {},
   "outputs": [],
   "source": [
    "dados = pd.read_excel('wclasses.xlsx')\n"
   ]
  },
  {
   "cell_type": "code",
   "execution_count": 18,
   "metadata": {},
   "outputs": [
    {
     "data": {
      "text/plain": [
       "81444"
      ]
     },
     "execution_count": 18,
     "metadata": {},
     "output_type": "execute_result"
    }
   ],
   "source": [
    "len(dados)"
   ]
  },
  {
   "cell_type": "code",
   "execution_count": 19,
   "metadata": {},
   "outputs": [],
   "source": [
    "classesList =[\"Abstrac_Expressionism\",\"Art_Nouveau_Modern\",\"Baroque\",\"Color_Field_Painting\",\"Cubism\",\"Early_Renaissance\",\n",
    "\"Expressionism\", \"Fauvismo\",\"High_Renaissance\",\"Impressionism\",\"Mannerism_Late_Renaissance\",\"Minimalism\",\n",
    "\"Naive_Art_Primitivism\",\"Northen_Renaissance\",\"Pop_Art\",\"Post_Impressionism\",\"Realism\",\"Rococo\",\"Romanticism\",\"Symbolism\",\n",
    "\"Ukiyo_e\"]"
   ]
  },
  {
   "cell_type": "code",
   "execution_count": 20,
   "metadata": {},
   "outputs": [
    {
     "data": {
      "text/plain": [
       "8000"
      ]
     },
     "execution_count": 20,
     "metadata": {},
     "output_type": "execute_result"
    }
   ],
   "source": [
    "#impor_membros= dados[\"file\"].str.contains(*classesList)\n",
    "\n",
    "mask = dados.iloc[:, 0].str.contains(r'\\b(?:{})\\b'.format('|'.join(classesList)))\n",
    "df1 = dados[~mask]\n",
    "len(df1)\n"
   ]
  },
  {
   "cell_type": "code",
   "execution_count": 23,
   "metadata": {},
   "outputs": [
    {
     "data": {
      "text/html": [
       "<div>\n",
       "<style scoped>\n",
       "    .dataframe tbody tr th:only-of-type {\n",
       "        vertical-align: middle;\n",
       "    }\n",
       "\n",
       "    .dataframe tbody tr th {\n",
       "        vertical-align: top;\n",
       "    }\n",
       "\n",
       "    .dataframe thead th {\n",
       "        text-align: right;\n",
       "    }\n",
       "</style>\n",
       "<table border=\"1\" class=\"dataframe\">\n",
       "  <thead>\n",
       "    <tr style=\"text-align: right;\">\n",
       "      <th></th>\n",
       "      <th>file</th>\n",
       "      <th>artist</th>\n",
       "      <th>genre</th>\n",
       "      <th>style</th>\n",
       "    </tr>\n",
       "  </thead>\n",
       "  <tbody>\n",
       "    <tr>\n",
       "      <th>81140</th>\n",
       "      <td>Northern_Renaissance/lucas-cranach-the-elder_m...</td>\n",
       "      <td>0</td>\n",
       "      <td>139</td>\n",
       "      <td>157</td>\n",
       "    </tr>\n",
       "    <tr>\n",
       "      <th>81141</th>\n",
       "      <td>Northern_Renaissance/hans-baldung_grien-in-the...</td>\n",
       "      <td>0</td>\n",
       "      <td>139</td>\n",
       "      <td>157</td>\n",
       "    </tr>\n",
       "    <tr>\n",
       "      <th>81142</th>\n",
       "      <td>Northern_Renaissance/lucas-cranach-the-elder_v...</td>\n",
       "      <td>0</td>\n",
       "      <td>139</td>\n",
       "      <td>157</td>\n",
       "    </tr>\n",
       "    <tr>\n",
       "      <th>81143</th>\n",
       "      <td>Northern_Renaissance/konrad-witz_emperor-augus...</td>\n",
       "      <td>0</td>\n",
       "      <td>139</td>\n",
       "      <td>157</td>\n",
       "    </tr>\n",
       "    <tr>\n",
       "      <th>81144</th>\n",
       "      <td>Northern_Renaissance/lucas-cranach-the-elder_t...</td>\n",
       "      <td>0</td>\n",
       "      <td>139</td>\n",
       "      <td>157</td>\n",
       "    </tr>\n",
       "    <tr>\n",
       "      <th>81145</th>\n",
       "      <td>Northern_Renaissance/joachim-wtewael_bacchus-b...</td>\n",
       "      <td>0</td>\n",
       "      <td>139</td>\n",
       "      <td>157</td>\n",
       "    </tr>\n",
       "    <tr>\n",
       "      <th>81146</th>\n",
       "      <td>Northern_Renaissance/jean-fouquet_king-clothar...</td>\n",
       "      <td>0</td>\n",
       "      <td>139</td>\n",
       "      <td>157</td>\n",
       "    </tr>\n",
       "    <tr>\n",
       "      <th>81147</th>\n",
       "      <td>Northern_Renaissance/hans-holbein-the-younger_...</td>\n",
       "      <td>0</td>\n",
       "      <td>139</td>\n",
       "      <td>157</td>\n",
       "    </tr>\n",
       "    <tr>\n",
       "      <th>81148</th>\n",
       "      <td>Northern_Renaissance/hans-holbein-the-younger_...</td>\n",
       "      <td>0</td>\n",
       "      <td>139</td>\n",
       "      <td>157</td>\n",
       "    </tr>\n",
       "    <tr>\n",
       "      <th>81149</th>\n",
       "      <td>Northern_Renaissance/hans-baldung_self-portrai...</td>\n",
       "      <td>0</td>\n",
       "      <td>139</td>\n",
       "      <td>157</td>\n",
       "    </tr>\n",
       "    <tr>\n",
       "      <th>81150</th>\n",
       "      <td>Northern_Renaissance/albrecht-altdorfer_empero...</td>\n",
       "      <td>0</td>\n",
       "      <td>139</td>\n",
       "      <td>157</td>\n",
       "    </tr>\n",
       "    <tr>\n",
       "      <th>81151</th>\n",
       "      <td>Northern_Renaissance/joachim-wtewael_the-battl...</td>\n",
       "      <td>0</td>\n",
       "      <td>139</td>\n",
       "      <td>157</td>\n",
       "    </tr>\n",
       "    <tr>\n",
       "      <th>81152</th>\n",
       "      <td>Northern_Renaissance/hans-baldung_three-ages-o...</td>\n",
       "      <td>0</td>\n",
       "      <td>139</td>\n",
       "      <td>157</td>\n",
       "    </tr>\n",
       "    <tr>\n",
       "      <th>81153</th>\n",
       "      <td>Northern_Renaissance/jean-fouquet_the-life-of-...</td>\n",
       "      <td>0</td>\n",
       "      <td>139</td>\n",
       "      <td>157</td>\n",
       "    </tr>\n",
       "    <tr>\n",
       "      <th>81154</th>\n",
       "      <td>Northern_Renaissance/jean-fouquet_entry-of-lou...</td>\n",
       "      <td>0</td>\n",
       "      <td>139</td>\n",
       "      <td>157</td>\n",
       "    </tr>\n",
       "    <tr>\n",
       "      <th>81155</th>\n",
       "      <td>Northern_Renaissance/jean-fouquet_death-of-wil...</td>\n",
       "      <td>0</td>\n",
       "      <td>139</td>\n",
       "      <td>157</td>\n",
       "    </tr>\n",
       "    <tr>\n",
       "      <th>81156</th>\n",
       "      <td>Northern_Renaissance/martin-schongauer_griffin...</td>\n",
       "      <td>0</td>\n",
       "      <td>139</td>\n",
       "      <td>157</td>\n",
       "    </tr>\n",
       "    <tr>\n",
       "      <th>81157</th>\n",
       "      <td>Northern_Renaissance/jean-fouquet_conviction-a...</td>\n",
       "      <td>0</td>\n",
       "      <td>139</td>\n",
       "      <td>157</td>\n",
       "    </tr>\n",
       "    <tr>\n",
       "      <th>81158</th>\n",
       "      <td>Northern_Renaissance/joachim-wtewael_cephalus-...</td>\n",
       "      <td>0</td>\n",
       "      <td>139</td>\n",
       "      <td>157</td>\n",
       "    </tr>\n",
       "    <tr>\n",
       "      <th>81159</th>\n",
       "      <td>Northern_Renaissance/jean-fouquet_charles-v-gi...</td>\n",
       "      <td>0</td>\n",
       "      <td>139</td>\n",
       "      <td>157</td>\n",
       "    </tr>\n",
       "  </tbody>\n",
       "</table>\n",
       "</div>"
      ],
      "text/plain": [
       "                                                    file  artist  genre  style\n",
       "81140  Northern_Renaissance/lucas-cranach-the-elder_m...       0    139    157\n",
       "81141  Northern_Renaissance/hans-baldung_grien-in-the...       0    139    157\n",
       "81142  Northern_Renaissance/lucas-cranach-the-elder_v...       0    139    157\n",
       "81143  Northern_Renaissance/konrad-witz_emperor-augus...       0    139    157\n",
       "81144  Northern_Renaissance/lucas-cranach-the-elder_t...       0    139    157\n",
       "81145  Northern_Renaissance/joachim-wtewael_bacchus-b...       0    139    157\n",
       "81146  Northern_Renaissance/jean-fouquet_king-clothar...       0    139    157\n",
       "81147  Northern_Renaissance/hans-holbein-the-younger_...       0    139    157\n",
       "81148  Northern_Renaissance/hans-holbein-the-younger_...       0    139    157\n",
       "81149  Northern_Renaissance/hans-baldung_self-portrai...       0    139    157\n",
       "81150  Northern_Renaissance/albrecht-altdorfer_empero...       0    139    157\n",
       "81151  Northern_Renaissance/joachim-wtewael_the-battl...       0    139    157\n",
       "81152  Northern_Renaissance/hans-baldung_three-ages-o...       0    139    157\n",
       "81153  Northern_Renaissance/jean-fouquet_the-life-of-...       0    139    157\n",
       "81154  Northern_Renaissance/jean-fouquet_entry-of-lou...       0    139    157\n",
       "81155  Northern_Renaissance/jean-fouquet_death-of-wil...       0    139    157\n",
       "81156  Northern_Renaissance/martin-schongauer_griffin...       0    139    157\n",
       "81157  Northern_Renaissance/jean-fouquet_conviction-a...       0    139    157\n",
       "81158  Northern_Renaissance/joachim-wtewael_cephalus-...       0    139    157\n",
       "81159  Northern_Renaissance/jean-fouquet_charles-v-gi...       0    139    157"
      ]
     },
     "execution_count": 23,
     "metadata": {},
     "output_type": "execute_result"
    }
   ],
   "source": [
    "df1.head(20)"
   ]
  },
  {
   "cell_type": "code",
   "execution_count": null,
   "metadata": {},
   "outputs": [],
   "source": []
  }
 ],
 "metadata": {
  "kernelspec": {
   "display_name": "Python 3.10.6 64-bit",
   "language": "python",
   "name": "python3"
  },
  "language_info": {
   "codemirror_mode": {
    "name": "ipython",
    "version": 3
   },
   "file_extension": ".py",
   "mimetype": "text/x-python",
   "name": "python",
   "nbconvert_exporter": "python",
   "pygments_lexer": "ipython3",
   "version": "3.10.6"
  },
  "orig_nbformat": 4,
  "vscode": {
   "interpreter": {
    "hash": "31f2aee4e71d21fbe5cf8b01ff0e069b9275f58929596ceb00d14d90e3e16cd6"
   }
  }
 },
 "nbformat": 4,
 "nbformat_minor": 2
}
