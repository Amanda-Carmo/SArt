{
 "cells": [
  {
   "cell_type": "markdown",
   "metadata": {},
   "source": [
    "## Aplicando ResNet"
   ]
  },
  {
   "cell_type": "code",
   "execution_count": 1,
   "metadata": {},
   "outputs": [],
   "source": [
    "import tensorflow as tf\n",
    "import matplotlib.pyplot as plt\n",
    "from tensorflow.keras import datasets, layers, models, losses, Model\n",
    "import pandas as pd\n",
    "import numpy as np\n",
    "import matplotlib.pyplot as plt\n",
    "import random\n",
    "from tensorflow.keras.preprocessing.image import ImageDataGenerator\n"
   ]
  },
  {
   "cell_type": "code",
   "execution_count": 2,
   "metadata": {},
   "outputs": [],
   "source": [
    "df1 = pd.read_excel('wclassesFiltered.xlsx')"
   ]
  },
  {
   "cell_type": "code",
   "execution_count": 3,
   "metadata": {},
   "outputs": [],
   "source": [
    "for img_p in range(df1.shape[0]):\n",
    "    img_path = df1.iloc[img_p, 1]\n",
    "    if \"Ã¢Â\\xa0\" in img_path:\n",
    "        img_path = img_path.replace('Ã¢Â', '\\u00E2')\n",
    "        temp_path = img_path.replace('\\u00E2', 'a') \n",
    "        df1.iat[img_p, 1] = temp_path\n",
    "    df1.iat[img_p, 4] = df1.iloc[img_p, 4]-140"
   ]
  },
  {
   "cell_type": "code",
   "execution_count": 4,
   "metadata": {},
   "outputs": [],
   "source": [
    "df1.loc[:,'style'] = df1['style'].astype(str)"
   ]
  },
  {
   "cell_type": "code",
   "execution_count": 5,
   "metadata": {},
   "outputs": [],
   "source": [
    "train = df1.sample(frac=0.8,random_state=200)\n",
    "test = df1.drop(train.index)"
   ]
  },
  {
   "cell_type": "code",
   "execution_count": 6,
   "metadata": {},
   "outputs": [
    {
     "name": "stdout",
     "output_type": "stream",
     "text": [
      "Found 5120 validated image filenames belonging to 9 classes.\n",
      "Found 1280 validated image filenames belonging to 9 classes.\n",
      "Found 1600 validated image filenames belonging to 9 classes.\n"
     ]
    }
   ],
   "source": [
    "target_size=(256,256) # set the size of the images\n",
    "color_mode='rgb' # set the type of image\n",
    "class_mode= 'categorical' # set the class mode\n",
    "batch_size=64  # set the batch size\n",
    "subset='training' # set to 'training', or 'valiatiom' or leave as None\n",
    "\n",
    "train_gen = ImageDataGenerator(validation_split=0.2, preprocessing_function=tf.keras.applications.resnet.preprocess_input)\n",
    "test_gen = ImageDataGenerator(preprocessing_function=tf.keras.applications.resnet.preprocess_input)\n",
    "\n",
    "train_imgs= train_gen.flow_from_dataframe(dataframe=train, \n",
    "          x_col='file',\n",
    "          y_col='style',\n",
    "          target_size=target_size,color_mode=color_mode,\n",
    "          class_mode=class_mode, batch_size=batch_size,shuffle=True, seed=123,\n",
    "          subset='training')\n",
    "val_imgs= train_gen.flow_from_dataframe(dataframe=train, \n",
    "          x_col='file',\n",
    "          y_col='style',\n",
    "          target_size=target_size,color_mode=color_mode,\n",
    "          class_mode=class_mode, batch_size=batch_size,shuffle=True, seed=123,\n",
    "          subset=\"validation\")\n",
    "test_imgs= test_gen.flow_from_dataframe(dataframe=test, \n",
    "          x_col='file',\n",
    "          y_col='style',\n",
    "          target_size=target_size,color_mode=color_mode,\n",
    "          class_mode=class_mode, batch_size=batch_size,shuffle=True, seed=123,\n",
    "          subset='training')"
   ]
  },
  {
   "cell_type": "markdown",
   "metadata": {},
   "source": [
    "ResNet é uma ANN (artificial neural network), variante da HigwayNet (https://en.wikipedia.org/wiki/Highway_network). Pode possuir centenas de camadas, sendo muito mais profunda do que redes neurais anteriores. São usados conexões de salto ou atalhos ​​para saltar sobre algumas camadas. Modelos ResNet típicos são implementados com saltos de camada dupla ou tripla que contêm não linearidades (ReLU) e normalização de lote no meio. Modelos com vários saltos paralelos são referidos como DenseNets."
   ]
  },
  {
   "cell_type": "code",
   "execution_count": 7,
   "metadata": {},
   "outputs": [],
   "source": [
    "base_model = tf.keras.applications.ResNet152(weights = 'imagenet', include_top = False, input_shape = (256,256,3))\n",
    "for layer in base_model.layers:\n",
    "  layer.trainable = False"
   ]
  },
  {
   "cell_type": "code",
   "execution_count": 8,
   "metadata": {},
   "outputs": [],
   "source": [
    "x = layers.Flatten()(base_model.output)\n",
    "x = layers.Dense(1000, activation='relu')(x)\n",
    "predictions = layers.Dense(9, activation = 'softmax')(x)"
   ]
  },
  {
   "cell_type": "code",
   "execution_count": 9,
   "metadata": {},
   "outputs": [],
   "source": [
    "head_model = Model(inputs = base_model.input, outputs = predictions)\n",
    "head_model.compile(optimizer='adam', loss=\"categorical_crossentropy\", metrics=['accuracy'])"
   ]
  },
  {
   "cell_type": "code",
   "execution_count": 10,
   "metadata": {
    "scrolled": false
   },
   "outputs": [
    {
     "name": "stdout",
     "output_type": "stream",
     "text": [
      "Epoch 1/40\n",
      "80/80 [==============================] - 41s 373ms/step - loss: 17.8599 - accuracy: 0.7213 - val_loss: 0.7501 - val_accuracy: 0.8352\n",
      "Epoch 2/40\n",
      "80/80 [==============================] - 27s 332ms/step - loss: 0.1891 - accuracy: 0.9523 - val_loss: 0.6647 - val_accuracy: 0.8625\n",
      "Epoch 3/40\n",
      "80/80 [==============================] - 27s 332ms/step - loss: 0.0504 - accuracy: 0.9932 - val_loss: 0.7325 - val_accuracy: 0.8648\n",
      "Epoch 4/40\n",
      "80/80 [==============================] - 27s 332ms/step - loss: 0.0365 - accuracy: 0.9971 - val_loss: 0.6762 - val_accuracy: 0.8781\n",
      "Epoch 5/40\n",
      "80/80 [==============================] - 27s 333ms/step - loss: 0.0299 - accuracy: 0.9979 - val_loss: 0.6726 - val_accuracy: 0.8773\n",
      "Epoch 6/40\n",
      "80/80 [==============================] - 27s 336ms/step - loss: 0.0333 - accuracy: 0.9975 - val_loss: 0.7721 - val_accuracy: 0.8656\n",
      "Epoch 7/40\n",
      "80/80 [==============================] - 28s 344ms/step - loss: 0.0286 - accuracy: 0.9975 - val_loss: 0.7394 - val_accuracy: 0.8781\n",
      "Epoch 8/40\n",
      "80/80 [==============================] - 27s 337ms/step - loss: 0.0238 - accuracy: 0.9980 - val_loss: 0.7422 - val_accuracy: 0.8664\n",
      "Epoch 9/40\n",
      "80/80 [==============================] - 71s 890ms/step - loss: 0.0325 - accuracy: 0.9979 - val_loss: 0.6939 - val_accuracy: 0.8797\n",
      "Epoch 10/40\n",
      "80/80 [==============================] - 30s 369ms/step - loss: 0.0205 - accuracy: 0.9975 - val_loss: 0.7205 - val_accuracy: 0.8758\n",
      "Epoch 11/40\n",
      "80/80 [==============================] - 31s 383ms/step - loss: 0.0107 - accuracy: 0.9979 - val_loss: 0.7341 - val_accuracy: 0.8758\n",
      "Epoch 12/40\n",
      "80/80 [==============================] - 33s 414ms/step - loss: 0.0205 - accuracy: 0.9977 - val_loss: 0.6864 - val_accuracy: 0.8766\n",
      "Epoch 13/40\n",
      "80/80 [==============================] - 28s 352ms/step - loss: 0.0171 - accuracy: 0.9979 - val_loss: 0.6906 - val_accuracy: 0.8805\n",
      "Epoch 14/40\n",
      "80/80 [==============================] - 29s 361ms/step - loss: 0.0155 - accuracy: 0.9979 - val_loss: 0.7138 - val_accuracy: 0.8711\n",
      "Epoch 15/40\n",
      "80/80 [==============================] - 28s 354ms/step - loss: 0.0073 - accuracy: 0.9980 - val_loss: 0.7332 - val_accuracy: 0.8781\n",
      "Epoch 16/40\n",
      "80/80 [==============================] - 38s 474ms/step - loss: 0.0133 - accuracy: 0.9980 - val_loss: 0.6564 - val_accuracy: 0.8891\n",
      "Epoch 17/40\n",
      "80/80 [==============================] - 37s 456ms/step - loss: 0.0124 - accuracy: 0.9977 - val_loss: 0.6820 - val_accuracy: 0.8844\n",
      "Epoch 18/40\n",
      "80/80 [==============================] - 34s 419ms/step - loss: 0.0125 - accuracy: 0.9977 - val_loss: 0.7707 - val_accuracy: 0.8727\n",
      "Epoch 19/40\n",
      "80/80 [==============================] - 28s 351ms/step - loss: 0.0095 - accuracy: 0.9979 - val_loss: 0.8033 - val_accuracy: 0.8711\n",
      "Epoch 20/40\n",
      "80/80 [==============================] - 28s 352ms/step - loss: 0.0103 - accuracy: 0.9980 - val_loss: 0.7117 - val_accuracy: 0.8750\n",
      "Epoch 21/40\n",
      "80/80 [==============================] - 29s 366ms/step - loss: 0.0073 - accuracy: 0.9980 - val_loss: 0.6987 - val_accuracy: 0.8797\n",
      "Epoch 22/40\n",
      "80/80 [==============================] - 28s 352ms/step - loss: 0.0081 - accuracy: 0.9980 - val_loss: 0.6793 - val_accuracy: 0.8828\n",
      "Epoch 23/40\n",
      "80/80 [==============================] - 28s 354ms/step - loss: 0.0038 - accuracy: 0.9975 - val_loss: 0.6966 - val_accuracy: 0.8828\n",
      "Epoch 24/40\n",
      "80/80 [==============================] - 28s 351ms/step - loss: 0.0028 - accuracy: 0.9984 - val_loss: 0.7026 - val_accuracy: 0.8836\n",
      "Epoch 25/40\n",
      "80/80 [==============================] - 28s 354ms/step - loss: 0.0034 - accuracy: 0.9982 - val_loss: 0.7201 - val_accuracy: 0.8867\n",
      "Epoch 26/40\n",
      "80/80 [==============================] - 29s 358ms/step - loss: 0.0058 - accuracy: 0.9982 - val_loss: 0.7118 - val_accuracy: 0.8820\n",
      "Epoch 27/40\n",
      "80/80 [==============================] - 28s 352ms/step - loss: 0.0030 - accuracy: 0.9979 - val_loss: 0.7255 - val_accuracy: 0.8852\n",
      "Epoch 28/40\n",
      "80/80 [==============================] - 28s 355ms/step - loss: 0.0030 - accuracy: 0.9982 - val_loss: 0.7162 - val_accuracy: 0.8875\n",
      "Epoch 29/40\n",
      "80/80 [==============================] - 28s 355ms/step - loss: 0.0027 - accuracy: 0.9980 - val_loss: 0.7297 - val_accuracy: 0.8859\n",
      "Epoch 30/40\n",
      "80/80 [==============================] - 29s 362ms/step - loss: 0.0025 - accuracy: 0.9984 - val_loss: 0.7248 - val_accuracy: 0.8852\n",
      "Epoch 31/40\n",
      "80/80 [==============================] - 75s 938ms/step - loss: 0.0027 - accuracy: 0.9977 - val_loss: 0.7313 - val_accuracy: 0.8859\n",
      "Epoch 32/40\n",
      "80/80 [==============================] - 29s 358ms/step - loss: 0.0026 - accuracy: 0.9980 - val_loss: 0.7393 - val_accuracy: 0.8867\n",
      "Epoch 33/40\n",
      "80/80 [==============================] - 28s 351ms/step - loss: 0.0029 - accuracy: 0.9979 - val_loss: 0.7371 - val_accuracy: 0.8844\n",
      "Epoch 34/40\n",
      "80/80 [==============================] - 28s 355ms/step - loss: 0.0027 - accuracy: 0.9980 - val_loss: 0.7496 - val_accuracy: 0.8836\n",
      "Epoch 35/40\n",
      "80/80 [==============================] - 29s 357ms/step - loss: 0.0025 - accuracy: 0.9982 - val_loss: 0.7364 - val_accuracy: 0.8898\n",
      "Epoch 36/40\n",
      "80/80 [==============================] - 32s 394ms/step - loss: 0.0040 - accuracy: 0.9980 - val_loss: 0.7536 - val_accuracy: 0.8859\n",
      "Epoch 37/40\n",
      "80/80 [==============================] - 35s 434ms/step - loss: 0.0029 - accuracy: 0.9980 - val_loss: 0.7496 - val_accuracy: 0.8867\n",
      "Epoch 38/40\n",
      "80/80 [==============================] - 36s 452ms/step - loss: 0.0036 - accuracy: 0.9980 - val_loss: 0.7573 - val_accuracy: 0.8820\n",
      "Epoch 39/40\n",
      "80/80 [==============================] - 28s 352ms/step - loss: 0.0056 - accuracy: 0.9977 - val_loss: 0.8204 - val_accuracy: 0.8805\n",
      "Epoch 40/40\n",
      "80/80 [==============================] - 36s 450ms/step - loss: 0.0030 - accuracy: 0.9979 - val_loss: 0.7411 - val_accuracy: 0.8828\n"
     ]
    }
   ],
   "source": [
    "history = head_model.fit(train_imgs, epochs=40, validation_data=(val_imgs))"
   ]
  },
  {
   "cell_type": "code",
   "execution_count": 11,
   "metadata": {},
   "outputs": [
    {
     "name": "stdout",
     "output_type": "stream",
     "text": [
      "25/25 - 8s - loss: 0.8347 - accuracy: 0.8587 - 8s/epoch - 308ms/step\n"
     ]
    },
    {
     "data": {
      "image/png": "[encoded data removed]",
      "text/plain": [
       "<Figure size 432x288 with 1 Axes>"
      ]
     },
     "metadata": {
      "needs_background": "light"
     },
     "output_type": "display_data"
    }
   ],
   "source": [
    "plt.plot(history.history['accuracy'], label='accuracy')\n",
    "plt.plot(history.history['val_accuracy'], label = 'val_accuracy')\n",
    "plt.xlabel('Epoch')\n",
    "plt.ylabel('Accuracy')\n",
    "plt.ylim([0.5, 1])\n",
    "plt.legend(loc='lower right')\n",
    "\n",
    "test_loss, test_acc = head_model.evaluate(test_imgs, verbose=2)"
   ]
  },
  {
   "cell_type": "code",
   "execution_count": null,
   "metadata": {},
   "outputs": [],
   "source": [
    "#head_model.evaluate(x_test, y_test)"
   ]
  },
  {
   "cell_type": "code",
   "execution_count": null,
   "metadata": {},
   "outputs": [],
   "source": []
  }
 ],
 "metadata": {
  "kernelspec": {
   "display_name": "Python 3",
   "language": "python",
   "name": "python3"
  },
  "language_info": {
   "codemirror_mode": {
    "name": "ipython",
    "version": 3
   },
   "file_extension": ".py",
   "mimetype": "text/x-python",
   "name": "python",
   "nbconvert_exporter": "python",
   "pygments_lexer": "ipython3",
   "version": "3.8.5"
  },
  "vscode": {
   "interpreter": {
    "hash": "cf92aa13fedf815d5c8dd192b8d835913fde3e8bc926b2a0ad6cc74ef2ba3ca2"
   }
  }
 },
 "nbformat": 4,
 "nbformat_minor": 4
}
