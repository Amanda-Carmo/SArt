{
 "cells": [
  {
   "cell_type": "markdown",
   "metadata": {},
   "source": [
    "# SArt - classificador de pinturas"
   ]
  },
  {
   "cell_type": "markdown",
   "metadata": {},
   "source": [
    "Neste projeto, serão usados conceitos de machine learning a fim de classificar estilos de pinturas de quadros, baseado na leitura da imagem. "
   ]
  },
  {
   "cell_type": "code",
   "execution_count": 1,
   "metadata": {},
   "outputs": [],
   "source": [
    "import pandas as pd\n",
    "import numpy as np\n",
    "import matplotlib.pyplot as plt\n",
    "import random\n",
    "import tensorflow as tf\n",
    "from tensorflow.keras import datasets, layers, models,  Model\n",
    "import cv2\n",
    "import os\n",
    "import PIL\n",
    "from PIL import Image\n",
    "from tensorflow.keras.preprocessing.image import ImageDataGenerator\n",
    "import scipy"
   ]
  },
  {
   "cell_type": "markdown",
   "metadata": {},
   "source": [
    "## Base de dados"
   ]
  },
  {
   "cell_type": "markdown",
   "metadata": {},
   "source": [
    "A base de dados usada foi: https://archive.org/details/wikiart-dataset\n",
    "\n",
    "São disponibilizadas pastas, nomeadas com um estilo artístico e tendo como conteúdo as obras de arte feitas dentro deste estilo. \n",
    "\n",
    "- A estrutura é dada por: `<estilo>/nome-artista_nome-pintura-ano.jpg`\n",
    "    - Exemplo: `Realism/vincent-van-gogh_pine-trees-in-the-fen-1884.jpg`"
   ]
  },
  {
   "cell_type": "markdown",
   "metadata": {},
   "source": [
    "O primeiro tratamento feito na base de dados foi excluir movimentos artísticos com um número de obras de arte infferior a 1000. Depois, foram considerados movimentos apenas constituintes de **pinturas**.\n",
    "\n",
    "Esses cortes foram feitos de maneira manual."
   ]
  },
  {
   "cell_type": "code",
   "execution_count": 2,
   "metadata": {},
   "outputs": [],
   "source": [
    "dados = pd.read_excel('wclasses.xlsx')"
   ]
  },
  {
   "cell_type": "code",
   "execution_count": 3,
   "metadata": {},
   "outputs": [
    {
     "data": {
      "text/plain": [
       "81444"
      ]
     },
     "execution_count": 3,
     "metadata": {},
     "output_type": "execute_result"
    }
   ],
   "source": [
    "len(dados)"
   ]
  },
  {
   "cell_type": "markdown",
   "metadata": {},
   "source": [
    "Além das imagens, o wikiArt disponibiliza um excel, cujas colunas são o path das imagens, ids dos artistas, gênero e estilo."
   ]
  },
  {
   "cell_type": "markdown",
   "metadata": {},
   "source": [
    "A lista a seguir possui os nomes dos estilos considerados para o projeto, após aplicarmos os tratamentos citados."
   ]
  },
  {
   "cell_type": "code",
   "execution_count": 4,
   "metadata": {},
   "outputs": [],
   "source": [
    "classesList =[\"Abstrac_Expressionism\",\"Art_Nouveau_Modern\",\"Baroque\",\"Color_Field_Painting\",\"Cubism\",\"Early_Renaissance\",\n",
    "\"Expressionism\", \"Fauvismo\",\"High_Renaissance\",\"Impressionism\",\"Mannerism_Late_Renaissance\",\"Minimalism\",\n",
    "\"Naive_Art_Primitivism\",\"Northen_Renaissance\",\"Pop_Art\",\"Post_Impressionism\",\"Realism\",\"Rococo\",\"Romanticism\",\"Symbolism\",\n",
    "\"Ukiyo_e\"]"
   ]
  },
  {
   "cell_type": "markdown",
   "metadata": {},
   "source": [
    "Aplicando o filtro com os nomes dos estilos que serão usados:"
   ]
  },
  {
   "cell_type": "code",
   "execution_count": 5,
   "metadata": {},
   "outputs": [
    {
     "data": {
      "text/plain": [
       "8000"
      ]
     },
     "execution_count": 5,
     "metadata": {},
     "output_type": "execute_result"
    }
   ],
   "source": [
    "#impor_membros= dados[\"file\"].str.contains(*classesList)\n",
    "\n",
    "mask = dados.iloc[:, 0].str.contains(r'\\b(?:{})\\b'.format('|'.join(classesList)))\n",
    "df1 = dados[~mask]\n",
    "len(df1)\n"
   ]
  },
  {
   "cell_type": "code",
   "execution_count": 6,
   "metadata": {},
   "outputs": [
    {
     "data": {
      "text/html": [
       "<div>\n",
       "<style scoped>\n",
       "    .dataframe tbody tr th:only-of-type {\n",
       "        vertical-align: middle;\n",
       "    }\n",
       "\n",
       "    .dataframe tbody tr th {\n",
       "        vertical-align: top;\n",
       "    }\n",
       "\n",
       "    .dataframe thead th {\n",
       "        text-align: right;\n",
       "    }\n",
       "</style>\n",
       "<table border=\"1\" class=\"dataframe\">\n",
       "  <thead>\n",
       "    <tr style=\"text-align: right;\">\n",
       "      <th></th>\n",
       "      <th>file</th>\n",
       "      <th>artist</th>\n",
       "      <th>genre</th>\n",
       "      <th>style</th>\n",
       "    </tr>\n",
       "  </thead>\n",
       "  <tbody>\n",
       "    <tr>\n",
       "      <th>8</th>\n",
       "      <td>Northern_Renaissance/albrecht-durer_deposition...</td>\n",
       "      <td>25</td>\n",
       "      <td>136</td>\n",
       "      <td>157</td>\n",
       "    </tr>\n",
       "    <tr>\n",
       "      <th>31</th>\n",
       "      <td>Northern_Renaissance/albrecht-durer_apostle-ba...</td>\n",
       "      <td>25</td>\n",
       "      <td>136</td>\n",
       "      <td>157</td>\n",
       "    </tr>\n",
       "    <tr>\n",
       "      <th>46</th>\n",
       "      <td>Northern_Renaissance/albrecht-durer_laughing-p...</td>\n",
       "      <td>25</td>\n",
       "      <td>135</td>\n",
       "      <td>157</td>\n",
       "    </tr>\n",
       "    <tr>\n",
       "      <th>60</th>\n",
       "      <td>Northern_Renaissance/albrecht-durer_portrait-o...</td>\n",
       "      <td>25</td>\n",
       "      <td>135</td>\n",
       "      <td>157</td>\n",
       "    </tr>\n",
       "    <tr>\n",
       "      <th>61</th>\n",
       "      <td>Northern_Renaissance/albrecht-durer_the-penite...</td>\n",
       "      <td>25</td>\n",
       "      <td>131</td>\n",
       "      <td>157</td>\n",
       "    </tr>\n",
       "    <tr>\n",
       "      <th>70</th>\n",
       "      <td>Northern_Renaissance/albrecht-durer_portrait-o...</td>\n",
       "      <td>25</td>\n",
       "      <td>135</td>\n",
       "      <td>157</td>\n",
       "    </tr>\n",
       "    <tr>\n",
       "      <th>100</th>\n",
       "      <td>Northern_Renaissance/albrecht-durer_the-great-...</td>\n",
       "      <td>25</td>\n",
       "      <td>131</td>\n",
       "      <td>157</td>\n",
       "    </tr>\n",
       "    <tr>\n",
       "      <th>125</th>\n",
       "      <td>Northern_Renaissance/albrecht-durer_portrait-o...</td>\n",
       "      <td>25</td>\n",
       "      <td>135</td>\n",
       "      <td>157</td>\n",
       "    </tr>\n",
       "    <tr>\n",
       "      <th>147</th>\n",
       "      <td>Northern_Renaissance/albrecht-durer_portrait-o...</td>\n",
       "      <td>25</td>\n",
       "      <td>135</td>\n",
       "      <td>157</td>\n",
       "    </tr>\n",
       "    <tr>\n",
       "      <th>166</th>\n",
       "      <td>Northern_Renaissance/albrecht-durer_portrait-o...</td>\n",
       "      <td>25</td>\n",
       "      <td>135</td>\n",
       "      <td>157</td>\n",
       "    </tr>\n",
       "    <tr>\n",
       "      <th>167</th>\n",
       "      <td>Northern_Renaissance/albrecht-durer_st-jerome-...</td>\n",
       "      <td>25</td>\n",
       "      <td>136</td>\n",
       "      <td>157</td>\n",
       "    </tr>\n",
       "    <tr>\n",
       "      <th>170</th>\n",
       "      <td>Northern_Renaissance/albrecht-durer_adoration-...</td>\n",
       "      <td>25</td>\n",
       "      <td>136</td>\n",
       "      <td>157</td>\n",
       "    </tr>\n",
       "    <tr>\n",
       "      <th>181</th>\n",
       "      <td>Northern_Renaissance/albrecht-durer_the-cross-...</td>\n",
       "      <td>25</td>\n",
       "      <td>137</td>\n",
       "      <td>157</td>\n",
       "    </tr>\n",
       "    <tr>\n",
       "      <th>231</th>\n",
       "      <td>Northern_Renaissance/albrecht-durer_garza.jpg</td>\n",
       "      <td>0</td>\n",
       "      <td>139</td>\n",
       "      <td>157</td>\n",
       "    </tr>\n",
       "    <tr>\n",
       "      <th>259</th>\n",
       "      <td>Fauvism/martiros-saryan_mules-laden-with-hay-1...</td>\n",
       "      <td>13</td>\n",
       "      <td>139</td>\n",
       "      <td>150</td>\n",
       "    </tr>\n",
       "    <tr>\n",
       "      <th>260</th>\n",
       "      <td>Analytical_Cubism/pablo-picasso_violin-glass-p...</td>\n",
       "      <td>15</td>\n",
       "      <td>138</td>\n",
       "      <td>142</td>\n",
       "    </tr>\n",
       "    <tr>\n",
       "      <th>262</th>\n",
       "      <td>Abstract_Expressionism/salvador-dali_religious...</td>\n",
       "      <td>21</td>\n",
       "      <td>136</td>\n",
       "      <td>140</td>\n",
       "    </tr>\n",
       "    <tr>\n",
       "      <th>273</th>\n",
       "      <td>Northern_Renaissance/albrecht-durer_adam-and-e...</td>\n",
       "      <td>25</td>\n",
       "      <td>136</td>\n",
       "      <td>157</td>\n",
       "    </tr>\n",
       "    <tr>\n",
       "      <th>302</th>\n",
       "      <td>Analytical_Cubism/pablo-picasso_clarinet-1911.jpg</td>\n",
       "      <td>15</td>\n",
       "      <td>138</td>\n",
       "      <td>142</td>\n",
       "    </tr>\n",
       "    <tr>\n",
       "      <th>315</th>\n",
       "      <td>Analytical_Cubism/pablo-picasso_spanish-still-...</td>\n",
       "      <td>15</td>\n",
       "      <td>138</td>\n",
       "      <td>142</td>\n",
       "    </tr>\n",
       "  </tbody>\n",
       "</table>\n",
       "</div>"
      ],
      "text/plain": [
       "                                                  file  artist  genre  style\n",
       "8    Northern_Renaissance/albrecht-durer_deposition...      25    136    157\n",
       "31   Northern_Renaissance/albrecht-durer_apostle-ba...      25    136    157\n",
       "46   Northern_Renaissance/albrecht-durer_laughing-p...      25    135    157\n",
       "60   Northern_Renaissance/albrecht-durer_portrait-o...      25    135    157\n",
       "61   Northern_Renaissance/albrecht-durer_the-penite...      25    131    157\n",
       "70   Northern_Renaissance/albrecht-durer_portrait-o...      25    135    157\n",
       "100  Northern_Renaissance/albrecht-durer_the-great-...      25    131    157\n",
       "125  Northern_Renaissance/albrecht-durer_portrait-o...      25    135    157\n",
       "147  Northern_Renaissance/albrecht-durer_portrait-o...      25    135    157\n",
       "166  Northern_Renaissance/albrecht-durer_portrait-o...      25    135    157\n",
       "167  Northern_Renaissance/albrecht-durer_st-jerome-...      25    136    157\n",
       "170  Northern_Renaissance/albrecht-durer_adoration-...      25    136    157\n",
       "181  Northern_Renaissance/albrecht-durer_the-cross-...      25    137    157\n",
       "231      Northern_Renaissance/albrecht-durer_garza.jpg       0    139    157\n",
       "259  Fauvism/martiros-saryan_mules-laden-with-hay-1...      13    139    150\n",
       "260  Analytical_Cubism/pablo-picasso_violin-glass-p...      15    138    142\n",
       "262  Abstract_Expressionism/salvador-dali_religious...      21    136    140\n",
       "273  Northern_Renaissance/albrecht-durer_adam-and-e...      25    136    157\n",
       "302  Analytical_Cubism/pablo-picasso_clarinet-1911.jpg      15    138    142\n",
       "315  Analytical_Cubism/pablo-picasso_spanish-still-...      15    138    142"
      ]
     },
     "execution_count": 6,
     "metadata": {},
     "output_type": "execute_result"
    }
   ],
   "source": [
    "df1.head(20)"
   ]
  },
  {
   "cell_type": "markdown",
   "metadata": {},
   "source": [
    "Para que as imagens pudessem ser treinadas, algumas modificações foram feitas: foram retirados acentos dos nomes dos arquivos para facilitar o uso do path das imagens, todas as imagens foram resized para o mesmo tamanho para poderem ser treinadas pelo modelo, e por fim, para facilitar o uso da camada de Dense, os valores de estilo no dataset, que variam entre 140 e 167, foram arrumados para ficar entre 0 e 27."
   ]
  },
  {
   "cell_type": "code",
   "execution_count": 7,
   "metadata": {},
   "outputs": [],
   "source": [
    "f = r\"D:/Libraries/Documents/Insper/Machine Learning/SArt\"\n",
    "for img_p in range(df1.shape[0]):\n",
    "    img_path = df1.iloc[img_p, 0]\n",
    "    if \"Ã¢Â\\xa0\" in img_path:\n",
    "        img_path = img_path.replace('Ã¢Â', '\\u00E2')\n",
    "        temp_path = img_path.replace('\\u00E2', 'a') \n",
    "        df1.iat[img_p, 0] = temp_path\n",
    "        img_path = f  + \"/\" + img_path\n",
    "        temp_path = f  + \"/\" + temp_path\n",
    "        os.rename(u'{0}'.format(img_path), temp_path)\n",
    "        img_path = temp_path\n",
    "    \n",
    "    df1.iat[img_p, 3] = df1.iloc[img_p, 3]-140\n",
    "    img = Image.open(img_path)\n",
    "    img = img.resize((256,256))\n",
    "    img.save(img_path)"
   ]
  },
  {
   "cell_type": "markdown",
   "metadata": {},
   "source": [
    "Separação treinamento e teste\n",
    "- 80% da base de dados destinada a treinamento\n",
    "- O tipo do id do estilo foi passado de `int` para `str` para possibilitar a classificação  categórica no image data generator."
   ]
  },
  {
   "cell_type": "code",
   "execution_count": 8,
   "metadata": {},
   "outputs": [
    {
     "name": "stdout",
     "output_type": "stream",
     "text": [
      "file      object\n",
      "artist     int64\n",
      "genre      int64\n",
      "style     object\n",
      "dtype: object\n"
     ]
    },
    {
     "name": "stderr",
     "output_type": "stream",
     "text": [
      "C:\\Users\\Beatriz\\anaconda3\\lib\\site-packages\\pandas\\core\\indexing.py:1745: SettingWithCopyWarning: \n",
      "A value is trying to be set on a copy of a slice from a DataFrame.\n",
      "Try using .loc[row_indexer,col_indexer] = value instead\n",
      "\n",
      "See the caveats in the documentation: https://pandas.pydata.org/pandas-docs/stable/user_guide/indexing.html#returning-a-view-versus-a-copy\n",
      "  isetter(ilocs[0], value)\n"
     ]
    }
   ],
   "source": [
    "df1.loc[:,'style'] = df1['style'].astype(str)\n",
    "print(df1.dtypes)\n",
    "\n",
    "train = df1.sample(frac=0.8,random_state=200)\n",
    "test = df1.drop(train.index)"
   ]
  },
  {
   "cell_type": "code",
   "execution_count": 9,
   "metadata": {},
   "outputs": [
    {
     "name": "stdout",
     "output_type": "stream",
     "text": [
      "<class 'str'>\n"
     ]
    }
   ],
   "source": [
    "print(type(df1.iloc[10, 3]))"
   ]
  },
  {
   "cell_type": "markdown",
   "metadata": {},
   "source": [
    "## Redes neurais "
   ]
  },
  {
   "cell_type": "markdown",
   "metadata": {},
   "source": [
    "Para classificar as imagens, foram aplicadas três redes neurais:\n",
    "- CNN\n",
    "- LeNet5\n",
    "- ResNet-152\n",
    "\n",
    "Os resultados obtidos serão comparados no final."
   ]
  },
  {
   "cell_type": "markdown",
   "metadata": {},
   "source": [
    "### Aplicando rede CNN - Convolutional neural network"
   ]
  },
  {
   "cell_type": "markdown",
   "metadata": {},
   "source": [
    "A rede convolucional foi escolhida, pois é comumente aplicada para análise de imagens visuais. Para essa rede, foi usado o tutorial do próprio tensorflow de classificação de imagens.\n",
    "\n",
    "A rede convolucional pega um input de imagem e atribui importânca (pesos e vieses que podem ser aprendidos) para features nela, conseguindo diferenciá-los entre si.\n",
    "\n",
    "O pré-processamento dessa rede é muito menor quando comparado a outros algoritmos de classificação. Enquanto métodos de filtro mais primitivos são hand-engineered (ou seja, feitos à mão), a rede convolucional, com treinamento suficiente, consegue aprender esses filtros."
   ]
  },
  {
   "cell_type": "markdown",
   "metadata": {},
   "source": [
    "<img src=\"rgb_imgcnn.jpg\" style=\"height: 250px;\"/>   "
   ]
  },
  {
   "cell_type": "markdown",
   "metadata": {},
   "source": [
    "<img src=\"fully_connected_layer.jpg\" style=\"height: 300px;\"/>   "
   ]
  },
  {
   "cell_type": "code",
   "execution_count": 11,
   "metadata": {},
   "outputs": [
    {
     "name": "stdout",
     "output_type": "stream",
     "text": [
      "(256, 256, 3)\n"
     ]
    }
   ],
   "source": [
    "im = cv2.imread(train.iloc[4, 0])\n",
    "print(im.shape)"
   ]
  },
  {
   "cell_type": "markdown",
   "metadata": {},
   "source": [
    "A seguir, foram montadas as camadas da rede, conforme explicado no tutorial do tensorflow."
   ]
  },
  {
   "cell_type": "code",
   "execution_count": 12,
   "metadata": {},
   "outputs": [],
   "source": [
    "model = models.Sequential()\n",
    "model.add(layers.Conv2D(32, (3, 3), activation='relu', input_shape=(256, 256, 3)))\n",
    "model.add(layers.MaxPooling2D((2, 2)))\n",
    "model.add(layers.Conv2D(64, (3, 3), activation='relu'))\n",
    "model.add(layers.MaxPooling2D((2, 2)))\n",
    "model.add(layers.Conv2D(64, (3, 3), activation='relu'))\n",
    "model.add(layers.Flatten())\n",
    "model.add(layers.Dense(64, activation='relu'))\n",
    "model.add(layers.Dense(9, activation='softmax'))"
   ]
  },
  {
   "cell_type": "code",
   "execution_count": 13,
   "metadata": {},
   "outputs": [
    {
     "name": "stdout",
     "output_type": "stream",
     "text": [
      "Model: \"sequential\"\n",
      "_________________________________________________________________\n",
      " Layer (type)                Output Shape              Param #   \n",
      "=================================================================\n",
      " conv2d (Conv2D)             (None, 254, 254, 32)      896       \n",
      "                                                                 \n",
      " max_pooling2d (MaxPooling2D  (None, 127, 127, 32)     0         \n",
      " )                                                               \n",
      "                                                                 \n",
      " conv2d_1 (Conv2D)           (None, 125, 125, 64)      18496     \n",
      "                                                                 \n",
      " max_pooling2d_1 (MaxPooling  (None, 62, 62, 64)       0         \n",
      " 2D)                                                             \n",
      "                                                                 \n",
      " conv2d_2 (Conv2D)           (None, 60, 60, 64)        36928     \n",
      "                                                                 \n",
      " flatten (Flatten)           (None, 230400)            0         \n",
      "                                                                 \n",
      " dense (Dense)               (None, 64)                14745664  \n",
      "                                                                 \n",
      " dense_1 (Dense)             (None, 9)                 585       \n",
      "                                                                 \n",
      "=================================================================\n",
      "Total params: 14,802,569\n",
      "Trainable params: 14,802,569\n",
      "Non-trainable params: 0\n",
      "_________________________________________________________________\n"
     ]
    }
   ],
   "source": [
    "model.summary()"
   ]
  },
  {
   "cell_type": "markdown",
   "metadata": {},
   "source": [
    "O `ImageDataGenerator()` divide os sets em dados que podem ser usados pelo tensorflow. Para validação, são usados 20% dos dados de treino."
   ]
  },
  {
   "cell_type": "code",
   "execution_count": 10,
   "metadata": {},
   "outputs": [
    {
     "name": "stdout",
     "output_type": "stream",
     "text": [
      "Found 5120 validated image filenames belonging to 9 classes.\n",
      "Found 1280 validated image filenames belonging to 9 classes.\n",
      "Found 1600 validated image filenames belonging to 9 classes.\n"
     ]
    }
   ],
   "source": [
    "target_size=(256,256) # set the size of the images\n",
    "color_mode='rgb' # set the type of image\n",
    "class_mode= 'categorical' # set the class mode\n",
    "batch_size=64  # set the batch size\n",
    "\n",
    "train_gen = ImageDataGenerator(validation_split=0.2)\n",
    "test_gen = ImageDataGenerator()\n",
    "\n",
    "train_imgs= train_gen.flow_from_dataframe(dataframe=train, \n",
    "          x_col='file',\n",
    "          y_col='style',\n",
    "          target_size=target_size,color_mode=color_mode,\n",
    "          class_mode=class_mode, batch_size=batch_size,shuffle=True, seed=123,\n",
    "          subset='training')\n",
    "val_imgs= train_gen.flow_from_dataframe(dataframe=train, \n",
    "          x_col='file',\n",
    "          y_col='style',\n",
    "          target_size=target_size,color_mode=color_mode,\n",
    "          class_mode=class_mode, batch_size=batch_size,shuffle=True, seed=123,\n",
    "          subset=\"validation\")\n",
    "test_imgs= test_gen.flow_from_dataframe(dataframe=test, \n",
    "          x_col='file',\n",
    "          y_col='style',\n",
    "          target_size=target_size,color_mode=color_mode,\n",
    "          class_mode=class_mode, batch_size=batch_size,shuffle=True, seed=123,\n",
    "          subset='training')"
   ]
  },
  {
   "cell_type": "code",
   "execution_count": 17,
   "metadata": {
    "scrolled": true
   },
   "outputs": [
    {
     "name": "stdout",
     "output_type": "stream",
     "text": [
      "Epoch 1/30\n",
      "80/80 [==============================] - 145s 2s/step - loss: 58.0219 - accuracy: 0.3145 - val_loss: 1.9536 - val_accuracy: 0.3836\n",
      "Epoch 2/30\n",
      "80/80 [==============================] - 11s 137ms/step - loss: 1.6617 - accuracy: 0.4658 - val_loss: 1.9019 - val_accuracy: 0.3531\n",
      "Epoch 3/30\n",
      "80/80 [==============================] - 11s 137ms/step - loss: 1.1880 - accuracy: 0.6244 - val_loss: 2.1755 - val_accuracy: 0.3492\n",
      "Epoch 4/30\n",
      "80/80 [==============================] - 12s 149ms/step - loss: 0.7276 - accuracy: 0.7760 - val_loss: 2.5834 - val_accuracy: 0.3344\n",
      "Epoch 5/30\n",
      "80/80 [==============================] - 11s 139ms/step - loss: 0.4332 - accuracy: 0.8754 - val_loss: 3.6697 - val_accuracy: 0.3187\n",
      "Epoch 6/30\n",
      "80/80 [==============================] - 11s 137ms/step - loss: 0.3006 - accuracy: 0.9225 - val_loss: 3.9536 - val_accuracy: 0.3289\n",
      "Epoch 7/30\n",
      "80/80 [==============================] - 11s 138ms/step - loss: 0.2612 - accuracy: 0.9328 - val_loss: 4.4165 - val_accuracy: 0.3219\n",
      "Epoch 8/30\n",
      "80/80 [==============================] - 11s 138ms/step - loss: 0.2562 - accuracy: 0.9369 - val_loss: 5.1431 - val_accuracy: 0.3133\n",
      "Epoch 9/30\n",
      "80/80 [==============================] - 11s 137ms/step - loss: 0.2025 - accuracy: 0.9508 - val_loss: 5.3777 - val_accuracy: 0.3234\n",
      "Epoch 10/30\n",
      "80/80 [==============================] - 11s 136ms/step - loss: 0.1607 - accuracy: 0.9605 - val_loss: 5.1918 - val_accuracy: 0.3117\n",
      "Epoch 11/30\n",
      "80/80 [==============================] - 11s 142ms/step - loss: 0.1274 - accuracy: 0.9646 - val_loss: 6.0712 - val_accuracy: 0.3203\n",
      "Epoch 12/30\n",
      "80/80 [==============================] - 13s 167ms/step - loss: 0.1449 - accuracy: 0.9641 - val_loss: 6.4578 - val_accuracy: 0.3187\n",
      "Epoch 13/30\n",
      "80/80 [==============================] - 14s 168ms/step - loss: 0.1353 - accuracy: 0.9633 - val_loss: 5.2331 - val_accuracy: 0.2977\n",
      "Epoch 14/30\n",
      "80/80 [==============================] - 13s 167ms/step - loss: 0.1202 - accuracy: 0.9633 - val_loss: 7.2021 - val_accuracy: 0.2828\n",
      "Epoch 15/30\n",
      "80/80 [==============================] - 13s 156ms/step - loss: 0.1240 - accuracy: 0.9656 - val_loss: 6.3636 - val_accuracy: 0.3078\n",
      "Epoch 16/30\n",
      "80/80 [==============================] - 12s 145ms/step - loss: 0.1041 - accuracy: 0.9730 - val_loss: 7.6470 - val_accuracy: 0.2883\n",
      "Epoch 17/30\n",
      "80/80 [==============================] - 12s 155ms/step - loss: 0.1207 - accuracy: 0.9686 - val_loss: 7.8031 - val_accuracy: 0.2992\n",
      "Epoch 18/30\n",
      "80/80 [==============================] - 12s 148ms/step - loss: 0.1329 - accuracy: 0.9643 - val_loss: 7.9680 - val_accuracy: 0.2875\n",
      "Epoch 19/30\n",
      "80/80 [==============================] - 12s 151ms/step - loss: 0.1385 - accuracy: 0.9643 - val_loss: 7.4033 - val_accuracy: 0.3102\n",
      "Epoch 20/30\n",
      "80/80 [==============================] - 12s 148ms/step - loss: 0.1357 - accuracy: 0.9598 - val_loss: 8.0266 - val_accuracy: 0.3000\n",
      "Epoch 21/30\n",
      "80/80 [==============================] - 12s 147ms/step - loss: 0.0944 - accuracy: 0.9742 - val_loss: 8.5325 - val_accuracy: 0.2922\n",
      "Epoch 22/30\n",
      "80/80 [==============================] - 11s 141ms/step - loss: 0.0623 - accuracy: 0.9824 - val_loss: 8.1971 - val_accuracy: 0.3148\n",
      "Epoch 23/30\n",
      "80/80 [==============================] - 12s 145ms/step - loss: 0.0740 - accuracy: 0.9768 - val_loss: 8.3547 - val_accuracy: 0.3000\n",
      "Epoch 24/30\n",
      "80/80 [==============================] - 12s 148ms/step - loss: 0.0674 - accuracy: 0.9787 - val_loss: 9.8687 - val_accuracy: 0.3070\n",
      "Epoch 25/30\n",
      "80/80 [==============================] - 12s 143ms/step - loss: 0.0574 - accuracy: 0.9832 - val_loss: 10.4385 - val_accuracy: 0.2984\n",
      "Epoch 26/30\n",
      "80/80 [==============================] - 11s 142ms/step - loss: 0.0628 - accuracy: 0.9799 - val_loss: 10.1275 - val_accuracy: 0.3102\n",
      "Epoch 27/30\n",
      "80/80 [==============================] - 12s 144ms/step - loss: 0.1044 - accuracy: 0.9742 - val_loss: 9.4978 - val_accuracy: 0.3242\n",
      "Epoch 28/30\n",
      "80/80 [==============================] - 11s 138ms/step - loss: 0.0930 - accuracy: 0.9732 - val_loss: 10.0954 - val_accuracy: 0.3242\n",
      "Epoch 29/30\n",
      "80/80 [==============================] - 11s 140ms/step - loss: 0.0710 - accuracy: 0.9795 - val_loss: 10.0881 - val_accuracy: 0.3078\n",
      "Epoch 30/30\n",
      "80/80 [==============================] - 11s 143ms/step - loss: 0.0600 - accuracy: 0.9814 - val_loss: 10.7459 - val_accuracy: 0.3047\n"
     ]
    }
   ],
   "source": [
    "model.compile(loss=\"categorical_crossentropy\",\n",
    "             optimizer=\"adam\",\n",
    "             metrics=['accuracy'])\n",
    "\n",
    "history = model.fit(train_imgs, epochs=30, \n",
    "                    validation_data=val_imgs)"
   ]
  },
  {
   "cell_type": "code",
   "execution_count": 18,
   "metadata": {},
   "outputs": [
    {
     "name": "stdout",
     "output_type": "stream",
     "text": [
      "25/25 - 41s - loss: 10.4730 - accuracy: 0.3169 - 41s/epoch - 2s/step\n"
     ]
    },
    {
     "data": {
      "image/png": "[encoded data removed]",
      "text/plain": [
       "<Figure size 432x288 with 1 Axes>"
      ]
     },
     "metadata": {
      "needs_background": "light"
     },
     "output_type": "display_data"
    }
   ],
   "source": [
    "plt.plot(history.history['accuracy'], label='accuracy')\n",
    "plt.plot(history.history['val_accuracy'], label = 'val_accuracy')\n",
    "plt.xlabel('Epoch')\n",
    "plt.ylabel('Accuracy')\n",
    "plt.ylim([0, 1])\n",
    "plt.legend(loc='lower right')\n",
    "\n",
    "test_loss, test_acc = model.evaluate(test_imgs, verbose=2)"
   ]
  },
  {
   "cell_type": "markdown",
   "metadata": {},
   "source": [
    "O gráfico acima mostra a acurácia para os dados de treino (em azul) e dados de teste (em laranja). Como se pode ver, a acurácia dos dados de treino se apresenta maior, dado que o modelo está com overfitting, ou seja, para dados fora daqueles usados para o treinamento, o modelo não conseguiu obter um bom ajuste."
   ]
  },
  {
   "cell_type": "markdown",
   "metadata": {},
   "source": [
    "### Aplicando LeNet5"
   ]
  },
  {
   "cell_type": "markdown",
   "metadata": {},
   "source": [
    "**LeNet5** é uma estrutura de rede neural convolucional, introduzida no paper _\"Gradient-Based Learning Applied To Document Recognition\"_ em 1998, de autoria de Yann LeCun, Leon Bottou, Yoshua Bengio e Patrick Haffner.\n",
    "\n",
    "Como será mostrado a seguir, a LeNet5 é composta por 7 layers, cuja composição é:\n",
    "- 3 layers convolucionais\n",
    "- 2 layers de subamostragem\n",
    "- 2 layers totalmente conectados"
   ]
  },
  {
   "cell_type": "markdown",
   "metadata": {},
   "source": [
    "<img src=\"LeNetArchitecture.jpg\" style=\"height: 250px;\"/>   "
   ]
  },
  {
   "cell_type": "markdown",
   "metadata": {},
   "source": [
    "A seguir, são montadas as camadas, conforme a estrutura da rede."
   ]
  },
  {
   "cell_type": "code",
   "execution_count": 19,
   "metadata": {},
   "outputs": [
    {
     "name": "stdout",
     "output_type": "stream",
     "text": [
      "Model: \"sequential_1\"\n",
      "_________________________________________________________________\n",
      " Layer (type)                Output Shape              Param #   \n",
      "=================================================================\n",
      " conv2d_3 (Conv2D)           (None, 254, 254, 6)       168       \n",
      "                                                                 \n",
      " average_pooling2d (AverageP  (None, 127, 127, 6)      0         \n",
      " ooling2D)                                                       \n",
      "                                                                 \n",
      " conv2d_4 (Conv2D)           (None, 125, 125, 16)      880       \n",
      "                                                                 \n",
      " average_pooling2d_1 (Averag  (None, 62, 62, 16)       0         \n",
      " ePooling2D)                                                     \n",
      "                                                                 \n",
      " flatten_1 (Flatten)         (None, 61504)             0         \n",
      "                                                                 \n",
      " dense_2 (Dense)             (None, 120)               7380600   \n",
      "                                                                 \n",
      " dense_3 (Dense)             (None, 84)                10164     \n",
      "                                                                 \n",
      " dense_4 (Dense)             (None, 9)                 765       \n",
      "                                                                 \n",
      "=================================================================\n",
      "Total params: 7,392,577\n",
      "Trainable params: 7,392,577\n",
      "Non-trainable params: 0\n",
      "_________________________________________________________________\n"
     ]
    }
   ],
   "source": [
    "LeNet5 = tf.keras.Sequential()\n",
    "\n",
    "LeNet5.add(layers.Conv2D(filters=6, kernel_size=(3, 3), activation='relu', input_shape=(256, 256, 3)))\n",
    "LeNet5.add(layers.AveragePooling2D())\n",
    "\n",
    "LeNet5.add(layers.Conv2D(filters=16, kernel_size=(3, 3), activation='relu'))\n",
    "LeNet5.add(layers.AveragePooling2D())\n",
    "\n",
    "LeNet5.add(layers.Flatten())\n",
    "\n",
    "LeNet5.add(layers.Dense(120, activation='relu'))\n",
    "\n",
    "LeNet5.add(layers.Dense(84, activation='relu'))\n",
    "\n",
    "LeNet5.add(layers.Dense(9, activation = 'softmax'))\n",
    "\n",
    "LeNet5.summary()"
   ]
  },
  {
   "cell_type": "code",
   "execution_count": 31,
   "metadata": {
    "scrolled": true
   },
   "outputs": [
    {
     "name": "stdout",
     "output_type": "stream",
     "text": [
      "Epoch 1/30\n",
      "80/80 [==============================] - 13s 155ms/step - loss: 23.3071 - accuracy: 0.3393 - val_loss: 1.6006 - val_accuracy: 0.4547\n",
      "Epoch 2/30\n",
      "80/80 [==============================] - 12s 155ms/step - loss: 1.1315 - accuracy: 0.6326 - val_loss: 1.5324 - val_accuracy: 0.5008\n",
      "Epoch 3/30\n",
      "80/80 [==============================] - 12s 152ms/step - loss: 0.5328 - accuracy: 0.8506 - val_loss: 1.6160 - val_accuracy: 0.5312\n",
      "Epoch 4/30\n",
      "80/80 [==============================] - 12s 151ms/step - loss: 0.2276 - accuracy: 0.9512 - val_loss: 1.8558 - val_accuracy: 0.5336\n",
      "Epoch 5/30\n",
      "80/80 [==============================] - 12s 151ms/step - loss: 0.1083 - accuracy: 0.9824 - val_loss: 2.0627 - val_accuracy: 0.5156\n",
      "Epoch 6/30\n",
      "80/80 [==============================] - 12s 155ms/step - loss: 0.0754 - accuracy: 0.9936 - val_loss: 2.2474 - val_accuracy: 0.5352\n",
      "Epoch 7/30\n",
      "80/80 [==============================] - 12s 152ms/step - loss: 0.0538 - accuracy: 0.9949 - val_loss: 2.3286 - val_accuracy: 0.5227\n",
      "Epoch 8/30\n",
      "80/80 [==============================] - 12s 154ms/step - loss: 0.0503 - accuracy: 0.9965 - val_loss: 2.3964 - val_accuracy: 0.5250\n",
      "Epoch 9/30\n",
      "80/80 [==============================] - 12s 150ms/step - loss: 0.0421 - accuracy: 0.9965 - val_loss: 2.4238 - val_accuracy: 0.5156\n",
      "Epoch 10/30\n",
      "80/80 [==============================] - 12s 150ms/step - loss: 0.0681 - accuracy: 0.9902 - val_loss: 2.7185 - val_accuracy: 0.4961\n",
      "Epoch 11/30\n",
      "80/80 [==============================] - 12s 150ms/step - loss: 0.0708 - accuracy: 0.9912 - val_loss: 2.4821 - val_accuracy: 0.5445\n",
      "Epoch 12/30\n",
      "80/80 [==============================] - 12s 150ms/step - loss: 0.0383 - accuracy: 0.9959 - val_loss: 2.5908 - val_accuracy: 0.5539\n",
      "Epoch 13/30\n",
      "80/80 [==============================] - 12s 150ms/step - loss: 0.0423 - accuracy: 0.9965 - val_loss: 2.5128 - val_accuracy: 0.5391\n",
      "Epoch 14/30\n",
      "80/80 [==============================] - 12s 150ms/step - loss: 0.0452 - accuracy: 0.9945 - val_loss: 2.6030 - val_accuracy: 0.5203\n",
      "Epoch 15/30\n",
      "80/80 [==============================] - 12s 149ms/step - loss: 0.0462 - accuracy: 0.9963 - val_loss: 2.7001 - val_accuracy: 0.5336\n",
      "Epoch 16/30\n",
      "80/80 [==============================] - 12s 150ms/step - loss: 0.0300 - accuracy: 0.9973 - val_loss: 2.7917 - val_accuracy: 0.5336\n",
      "Epoch 17/30\n",
      "80/80 [==============================] - 12s 150ms/step - loss: 0.0325 - accuracy: 0.9975 - val_loss: 2.9284 - val_accuracy: 0.5211\n",
      "Epoch 18/30\n",
      "80/80 [==============================] - 12s 150ms/step - loss: 0.0271 - accuracy: 0.9980 - val_loss: 2.8206 - val_accuracy: 0.5234\n",
      "Epoch 19/30\n",
      "80/80 [==============================] - 12s 149ms/step - loss: 0.0214 - accuracy: 0.9980 - val_loss: 2.9689 - val_accuracy: 0.5312\n",
      "Epoch 20/30\n",
      "80/80 [==============================] - 12s 150ms/step - loss: 0.0206 - accuracy: 0.9971 - val_loss: 2.7948 - val_accuracy: 0.5148\n",
      "Epoch 21/30\n",
      "80/80 [==============================] - 12s 151ms/step - loss: 0.0324 - accuracy: 0.9973 - val_loss: 2.7726 - val_accuracy: 0.5383\n",
      "Epoch 22/30\n",
      "80/80 [==============================] - 12s 150ms/step - loss: 0.0370 - accuracy: 0.9961 - val_loss: 2.6894 - val_accuracy: 0.5195\n",
      "Epoch 23/30\n",
      "80/80 [==============================] - 12s 150ms/step - loss: 0.0400 - accuracy: 0.9943 - val_loss: 2.8221 - val_accuracy: 0.4977\n",
      "Epoch 24/30\n",
      "80/80 [==============================] - 12s 150ms/step - loss: 0.0521 - accuracy: 0.9904 - val_loss: 3.2325 - val_accuracy: 0.5234\n",
      "Epoch 25/30\n",
      "80/80 [==============================] - 12s 149ms/step - loss: 0.0728 - accuracy: 0.9850 - val_loss: 3.0376 - val_accuracy: 0.4773\n",
      "Epoch 26/30\n",
      "80/80 [==============================] - 12s 149ms/step - loss: 0.0422 - accuracy: 0.9900 - val_loss: 3.6747 - val_accuracy: 0.5133\n",
      "Epoch 27/30\n",
      "80/80 [==============================] - 12s 149ms/step - loss: 0.0472 - accuracy: 0.9936 - val_loss: 3.0297 - val_accuracy: 0.4953\n",
      "Epoch 28/30\n",
      "80/80 [==============================] - 12s 153ms/step - loss: 0.0252 - accuracy: 0.9957 - val_loss: 3.3840 - val_accuracy: 0.5008\n",
      "Epoch 29/30\n",
      "80/80 [==============================] - 12s 151ms/step - loss: 0.0415 - accuracy: 0.9967 - val_loss: 3.2472 - val_accuracy: 0.5094\n",
      "Epoch 30/30\n",
      "80/80 [==============================] - 12s 150ms/step - loss: 0.0193 - accuracy: 0.9980 - val_loss: 3.4936 - val_accuracy: 0.5164\n"
     ]
    }
   ],
   "source": [
    "LeNet5.compile(loss=\"categorical_crossentropy\",\n",
    "             optimizer=\"adam\",\n",
    "             metrics=['accuracy'])\n",
    "\n",
    "historyLeNet5 = LeNet5.fit(train_imgs, epochs=30, \n",
    "                    validation_data=val_imgs)"
   ]
  },
  {
   "cell_type": "code",
   "execution_count": 33,
   "metadata": {},
   "outputs": [
    {
     "name": "stdout",
     "output_type": "stream",
     "text": [
      "25/25 - 3s - loss: 3.1853 - accuracy: 0.5400 - 3s/epoch - 130ms/step\n"
     ]
    },
    {
     "data": {
      "image/png": "[encoded data removed]",
      "text/plain": [
       "<Figure size 432x288 with 1 Axes>"
      ]
     },
     "metadata": {
      "needs_background": "light"
     },
     "output_type": "display_data"
    }
   ],
   "source": [
    "plt.plot(historyLeNet5.history['accuracy'], label='accuracy')\n",
    "plt.plot(historyLeNet5.history['val_accuracy'], label = 'val_accuracy')\n",
    "plt.xlabel('Epoch')\n",
    "plt.ylabel('Accuracy')\n",
    "plt.ylim([0.5, 1])\n",
    "plt.legend(loc='lower right')\n",
    "\n",
    "test_loss, test_acc = LeNet5.evaluate(test_imgs, verbose=2)"
   ]
  },
  {
   "cell_type": "markdown",
   "metadata": {},
   "source": [
    "Como mostrado no gráfico acima, também se apresentou overfitting, com a acurácia do treinamento muito maior do que no caso do teste. Porém, já é visível que ambas as acurácias aumentaram, com a acurácia de teste em 54%."
   ]
  },
  {
   "cell_type": "markdown",
   "metadata": {},
   "source": [
    "### Aplicando ResNet152"
   ]
  },
  {
   "cell_type": "markdown",
   "metadata": {},
   "source": [
    "ResNet é uma ANN (artificial neural network), variante da HigwayNet (https://en.wikipedia.org/wiki/Highway_network). Pode possuir centenas de camadas, sendo muito mais profunda do que redes neurais anteriores. São usados conexões de salto ou atalhos ​​para saltar sobre algumas camadas. Modelos ResNet típicos são implementados com saltos de camada dupla ou tripla que contêm não linearidades (ReLU) e normalização de lote no meio. Modelos com vários saltos paralelos são referidos como DenseNets."
   ]
  },
  {
   "cell_type": "markdown",
   "metadata": {},
   "source": [
    "<img src=\"File_ResNets.png\" style=\"height: 300px;\"/>   \n",
    "\n",
    "Forma canônica de uma rede neural residual. Uma camada ℓ   − 1 é ignorada na ativação de ℓ  − 2.\n",
    "\n",
    "#### Arquitetura ResNet:\n",
    "\n",
    "<img src=\"arquitetura_resnet.png\" style=\"height: 350px;\"/>   \n",
    "\n",
    "_ResNet de 34 camadas com conexão Skip/Atalho (superior), rede simples de 34 camadas (meio), VGG-19 de 19 camadas (inferior)_\n",
    "\n",
    "O VGG-19 [2] (abaixo na imagem) é uma abordagem de última geração no ILSVRC 2014.\n",
    "A rede plana de 34 camadas (no meio) é tratada como a rede mais profunda do VGG-19 , ou seja, camadas mais convolucionais.\n",
    "A rede residual de 34 camadas (ResNet) (topo) é a simples com adição de conexão skip/atalho.\n",
    "\n",
    "A ResNet usada é de grande profundidade, contendo **152** camadas."
   ]
  },
  {
   "cell_type": "code",
   "execution_count": 21,
   "metadata": {},
   "outputs": [],
   "source": [
    "ResNet = tf.keras.applications.ResNet152(weights = 'imagenet', include_top = False, input_shape = (256,256,3))\n",
    "for layer in ResNet.layers:\n",
    "  layer.trainable = False"
   ]
  },
  {
   "cell_type": "code",
   "execution_count": 22,
   "metadata": {},
   "outputs": [],
   "source": [
    "x = layers.Flatten()(ResNet.output)\n",
    "x = layers.Dense(1000, activation='relu')(x)\n",
    "predictions = layers.Dense(9, activation = 'softmax')(x)"
   ]
  },
  {
   "cell_type": "code",
   "execution_count": 28,
   "metadata": {},
   "outputs": [],
   "source": [
    "ResNetModel = Model(inputs = ResNet.input, outputs = predictions)\n",
    "ResNetModel.compile(optimizer='adam', loss=\"categorical_crossentropy\", metrics=['accuracy'])"
   ]
  },
  {
   "cell_type": "code",
   "execution_count": 30,
   "metadata": {
    "scrolled": true
   },
   "outputs": [
    {
     "name": "stdout",
     "output_type": "stream",
     "text": [
      "Epoch 1/30\n",
      "80/80 [==============================] - 36s 455ms/step - loss: 0.1372 - accuracy: 0.9631 - val_loss: 0.6996 - val_accuracy: 0.8164\n",
      "Epoch 2/30\n",
      "80/80 [==============================] - 29s 364ms/step - loss: 0.0461 - accuracy: 0.9914 - val_loss: 0.7178 - val_accuracy: 0.8320\n",
      "Epoch 3/30\n",
      "80/80 [==============================] - 29s 365ms/step - loss: 0.0141 - accuracy: 0.9977 - val_loss: 0.7267 - val_accuracy: 0.8391\n",
      "Epoch 4/30\n",
      "80/80 [==============================] - 34s 425ms/step - loss: 0.0135 - accuracy: 0.9982 - val_loss: 0.7364 - val_accuracy: 0.8352\n",
      "Epoch 5/30\n",
      "80/80 [==============================] - 34s 422ms/step - loss: 0.0133 - accuracy: 0.9977 - val_loss: 0.7736 - val_accuracy: 0.8453\n",
      "Epoch 6/30\n",
      "80/80 [==============================] - 30s 378ms/step - loss: 0.0172 - accuracy: 0.9979 - val_loss: 0.7814 - val_accuracy: 0.8383\n",
      "Epoch 7/30\n",
      "80/80 [==============================] - 32s 394ms/step - loss: 0.0155 - accuracy: 0.9973 - val_loss: 0.8119 - val_accuracy: 0.8391\n",
      "Epoch 8/30\n",
      "80/80 [==============================] - 31s 387ms/step - loss: 0.0081 - accuracy: 0.9980 - val_loss: 0.8170 - val_accuracy: 0.8453\n",
      "Epoch 9/30\n",
      "80/80 [==============================] - 37s 460ms/step - loss: 0.0164 - accuracy: 0.9975 - val_loss: 0.8355 - val_accuracy: 0.8398\n",
      "Epoch 10/30\n",
      "80/80 [==============================] - 39s 484ms/step - loss: 0.0085 - accuracy: 0.9982 - val_loss: 0.8112 - val_accuracy: 0.8383\n",
      "Epoch 11/30\n",
      "80/80 [==============================] - 60s 757ms/step - loss: 0.0112 - accuracy: 0.9979 - val_loss: 0.9001 - val_accuracy: 0.8359\n",
      "Epoch 12/30\n",
      "80/80 [==============================] - 34s 422ms/step - loss: 0.0101 - accuracy: 0.9980 - val_loss: 0.8216 - val_accuracy: 0.8422\n",
      "Epoch 13/30\n",
      "80/80 [==============================] - 54s 679ms/step - loss: 0.0159 - accuracy: 0.9980 - val_loss: 0.8337 - val_accuracy: 0.8406\n",
      "Epoch 14/30\n",
      "80/80 [==============================] - 47s 585ms/step - loss: 0.0112 - accuracy: 0.9979 - val_loss: 0.8222 - val_accuracy: 0.8445\n",
      "Epoch 15/30\n",
      "80/80 [==============================] - 41s 509ms/step - loss: 0.0142 - accuracy: 0.9971 - val_loss: 0.8300 - val_accuracy: 0.8500\n",
      "Epoch 16/30\n",
      "80/80 [==============================] - 35s 440ms/step - loss: 0.0045 - accuracy: 0.9982 - val_loss: 0.8429 - val_accuracy: 0.8453\n",
      "Epoch 17/30\n",
      "80/80 [==============================] - 31s 377ms/step - loss: 0.0079 - accuracy: 0.9984 - val_loss: 0.8391 - val_accuracy: 0.8484\n",
      "Epoch 18/30\n",
      "80/80 [==============================] - 31s 392ms/step - loss: 0.0070 - accuracy: 0.9980 - val_loss: 0.8271 - val_accuracy: 0.8469\n",
      "Epoch 19/30\n",
      "80/80 [==============================] - 38s 478ms/step - loss: 0.0047 - accuracy: 0.9982 - val_loss: 0.8811 - val_accuracy: 0.8461\n",
      "Epoch 20/30\n",
      "80/80 [==============================] - 69s 871ms/step - loss: 0.0074 - accuracy: 0.9982 - val_loss: 0.8235 - val_accuracy: 0.8484\n",
      "Epoch 21/30\n",
      "80/80 [==============================] - 86s 1s/step - loss: 0.0043 - accuracy: 0.9986 - val_loss: 0.8353 - val_accuracy: 0.8492\n",
      "Epoch 22/30\n",
      "80/80 [==============================] - 48s 603ms/step - loss: 0.0043 - accuracy: 0.9979 - val_loss: 0.8563 - val_accuracy: 0.8445\n",
      "Epoch 23/30\n",
      "80/80 [==============================] - 30s 369ms/step - loss: 0.0040 - accuracy: 0.9975 - val_loss: 0.8515 - val_accuracy: 0.8500\n",
      "Epoch 24/30\n",
      "80/80 [==============================] - 36s 457ms/step - loss: 0.0032 - accuracy: 0.9980 - val_loss: 0.8664 - val_accuracy: 0.8469\n",
      "Epoch 25/30\n",
      "80/80 [==============================] - 35s 433ms/step - loss: 0.0045 - accuracy: 0.9979 - val_loss: 0.8503 - val_accuracy: 0.8500\n",
      "Epoch 26/30\n",
      "80/80 [==============================] - 28s 347ms/step - loss: 0.0033 - accuracy: 0.9980 - val_loss: 0.8684 - val_accuracy: 0.8477\n",
      "Epoch 27/30\n",
      "80/80 [==============================] - 29s 367ms/step - loss: 0.0038 - accuracy: 0.9977 - val_loss: 0.8500 - val_accuracy: 0.8438\n",
      "Epoch 28/30\n",
      "80/80 [==============================] - 28s 349ms/step - loss: 0.0060 - accuracy: 0.9980 - val_loss: 0.8530 - val_accuracy: 0.8469\n",
      "Epoch 29/30\n",
      "80/80 [==============================] - 28s 347ms/step - loss: 0.0097 - accuracy: 0.9980 - val_loss: 0.8170 - val_accuracy: 0.8492\n",
      "Epoch 30/30\n",
      "80/80 [==============================] - 29s 367ms/step - loss: 0.0037 - accuracy: 0.9977 - val_loss: 0.8753 - val_accuracy: 0.8461\n"
     ]
    }
   ],
   "source": [
    "historyResNet = ResNetModel.fit(train_imgs, epochs=30, validation_data=(val_imgs))"
   ]
  },
  {
   "cell_type": "code",
   "execution_count": 31,
   "metadata": {},
   "outputs": [
    {
     "name": "stdout",
     "output_type": "stream",
     "text": [
      "25/25 - 7s - loss: 0.8478 - accuracy: 0.8462 - 7s/epoch - 281ms/step\n"
     ]
    },
    {
     "data": {
      "image/png": "[encoded data removed]",
      "text/plain": [
       "<Figure size 432x288 with 1 Axes>"
      ]
     },
     "metadata": {
      "needs_background": "light"
     },
     "output_type": "display_data"
    }
   ],
   "source": [
    "plt.plot(historyResNet.history['accuracy'], label='accuracy')\n",
    "plt.plot(historyResNet.history['val_accuracy'], label = 'val_accuracy')\n",
    "plt.xlabel('Epoch')\n",
    "plt.ylabel('Accuracy')\n",
    "plt.ylim([0.5, 1])\n",
    "plt.legend(loc='lower right')\n",
    "\n",
    "test_loss, test_acc = ResNetModel.evaluate(test_imgs, verbose=2)"
   ]
  },
  {
   "cell_type": "markdown",
   "metadata": {},
   "source": [
    "No gráfico acima já é possível ver que, apesar de a ResNet prover resultados muito mais satisfatórios, com uma acurácia para teste de 84%, ainda existe um overfitting no modelo. Como vimos que todos os modelos possuem um grau de overfitting, tentamos lidar com isso nos próximos passos."
   ]
  },
  {
   "cell_type": "markdown",
   "metadata": {},
   "source": [
    "### Lidando com OverFitting"
   ]
  },
  {
   "cell_type": "markdown",
   "metadata": {},
   "source": [
    "Em todos os modelos testados, foi analisado um certo overfitting. Como uma CNN está sendo utilizada, que auto-ajusta os hiperparâmetros, é muito difícil ajustá-los diretamente para melhorar a situação. Portanto, foi feita uma Regressão Ridge, adicionando nas camadas de Conv2D e Dense o parâmetro kernel_regularizer, que aplica penalidades nos parâmetros das camadas individuais, no caso ajustando o parâmetro L2. Esse parâmetro foi aplicado nas layers dos modelos da CNN padrão e da LeNet5, já que as layers desses modelos são delimitadas manualmente, enquanto no ResNet foi utilizado um modelo já pronto da biblioteca do tensorflow que dificulta a mudança direta das camadas."
   ]
  },
  {
   "cell_type": "code",
   "execution_count": 11,
   "metadata": {
    "scrolled": true
   },
   "outputs": [
    {
     "name": "stdout",
     "output_type": "stream",
     "text": [
      "Model: \"sequential\"\n",
      "_________________________________________________________________\n",
      " Layer (type)                Output Shape              Param #   \n",
      "=================================================================\n",
      " conv2d (Conv2D)             (None, 254, 254, 32)      896       \n",
      "                                                                 \n",
      " max_pooling2d (MaxPooling2D  (None, 127, 127, 32)     0         \n",
      " )                                                               \n",
      "                                                                 \n",
      " conv2d_1 (Conv2D)           (None, 125, 125, 64)      18496     \n",
      "                                                                 \n",
      " max_pooling2d_1 (MaxPooling  (None, 62, 62, 64)       0         \n",
      " 2D)                                                             \n",
      "                                                                 \n",
      " conv2d_2 (Conv2D)           (None, 60, 60, 64)        36928     \n",
      "                                                                 \n",
      " flatten (Flatten)           (None, 230400)            0         \n",
      "                                                                 \n",
      " dense (Dense)               (None, 64)                14745664  \n",
      "                                                                 \n",
      " dense_1 (Dense)             (None, 9)                 585       \n",
      "                                                                 \n",
      "=================================================================\n",
      "Total params: 14,802,569\n",
      "Trainable params: 14,802,569\n",
      "Non-trainable params: 0\n",
      "_________________________________________________________________\n"
     ]
    }
   ],
   "source": [
    "model2 = models.Sequential()\n",
    "model2.add(layers.Conv2D(32, (3, 3), activation='relu', input_shape=(256, 256, 3), kernel_regularizer=tf.keras.regularizers.l2(l=0.01)))\n",
    "model2.add(layers.MaxPooling2D((2, 2)))\n",
    "model2.add(layers.Conv2D(64, (3, 3), activation='relu', kernel_regularizer=tf.keras.regularizers.l2(l=0.01)))\n",
    "model2.add(layers.MaxPooling2D((2, 2)))\n",
    "model2.add(layers.Conv2D(64, (3, 3), activation='relu', kernel_regularizer=tf.keras.regularizers.l2(l=0.01)))\n",
    "model2.add(layers.Flatten())\n",
    "model2.add(layers.Dense(64, activation='relu', kernel_regularizer=tf.keras.regularizers.l2(l=0.01)))\n",
    "model2.add(layers.Dense(9, activation='softmax', kernel_regularizer=tf.keras.regularizers.l2(l=0.01)))\n",
    "model2.summary()"
   ]
  },
  {
   "cell_type": "code",
   "execution_count": 12,
   "metadata": {
    "scrolled": true
   },
   "outputs": [
    {
     "name": "stdout",
     "output_type": "stream",
     "text": [
      "Model: \"sequential_1\"\n",
      "_________________________________________________________________\n",
      " Layer (type)                Output Shape              Param #   \n",
      "=================================================================\n",
      " conv2d_3 (Conv2D)           (None, 254, 254, 6)       168       \n",
      "                                                                 \n",
      " average_pooling2d (AverageP  (None, 127, 127, 6)      0         \n",
      " ooling2D)                                                       \n",
      "                                                                 \n",
      " conv2d_4 (Conv2D)           (None, 125, 125, 16)      880       \n",
      "                                                                 \n",
      " average_pooling2d_1 (Averag  (None, 62, 62, 16)       0         \n",
      " ePooling2D)                                                     \n",
      "                                                                 \n",
      " flatten_1 (Flatten)         (None, 61504)             0         \n",
      "                                                                 \n",
      " dense_2 (Dense)             (None, 120)               7380600   \n",
      "                                                                 \n",
      " dense_3 (Dense)             (None, 84)                10164     \n",
      "                                                                 \n",
      " dense_4 (Dense)             (None, 9)                 765       \n",
      "                                                                 \n",
      "=================================================================\n",
      "Total params: 7,392,577\n",
      "Trainable params: 7,392,577\n",
      "Non-trainable params: 0\n",
      "_________________________________________________________________\n"
     ]
    }
   ],
   "source": [
    "LeNet52 = tf.keras.Sequential()\n",
    "LeNet52.add(layers.Conv2D(filters=6, kernel_size=(3, 3), activation='relu', input_shape=(256, 256, 3), kernel_regularizer=tf.keras.regularizers.l2(l=0.01)))\n",
    "LeNet52.add(layers.AveragePooling2D())\n",
    "LeNet52.add(layers.Conv2D(filters=16, kernel_size=(3, 3), activation='relu', kernel_regularizer=tf.keras.regularizers.l2(l=0.01)))\n",
    "LeNet52.add(layers.AveragePooling2D())\n",
    "LeNet52.add(layers.Flatten())\n",
    "LeNet52.add(layers.Dense(120, activation='relu', kernel_regularizer=tf.keras.regularizers.l2(l=0.01)))\n",
    "LeNet52.add(layers.Dense(84, activation='relu', kernel_regularizer=tf.keras.regularizers.l2(l=0.01)))\n",
    "LeNet52.add(layers.Dense(9, activation = 'softmax', kernel_regularizer=tf.keras.regularizers.l2(l=0.01)))\n",
    "LeNet52.summary()"
   ]
  },
  {
   "cell_type": "code",
   "execution_count": 13,
   "metadata": {
    "scrolled": true
   },
   "outputs": [
    {
     "name": "stdout",
     "output_type": "stream",
     "text": [
      "Epoch 1/30\n",
      "80/80 [==============================] - 26s 277ms/step - loss: 49.0814 - accuracy: 0.3283 - val_loss: 6.0993 - val_accuracy: 0.3711\n",
      "Epoch 2/30\n",
      "80/80 [==============================] - 12s 154ms/step - loss: 5.5377 - accuracy: 0.4414 - val_loss: 5.5429 - val_accuracy: 0.3414\n",
      "Epoch 3/30\n",
      "80/80 [==============================] - 11s 141ms/step - loss: 4.8807 - accuracy: 0.5664 - val_loss: 5.4689 - val_accuracy: 0.3477\n",
      "Epoch 4/30\n",
      "80/80 [==============================] - 12s 149ms/step - loss: 4.3288 - accuracy: 0.6695 - val_loss: 5.5383 - val_accuracy: 0.3406\n",
      "Epoch 5/30\n",
      "80/80 [==============================] - 11s 133ms/step - loss: 3.7638 - accuracy: 0.7781 - val_loss: 5.5166 - val_accuracy: 0.3234\n",
      "Epoch 6/30\n",
      "80/80 [==============================] - 11s 134ms/step - loss: 3.4814 - accuracy: 0.8283 - val_loss: 5.9052 - val_accuracy: 0.3461\n",
      "Epoch 7/30\n",
      "80/80 [==============================] - 11s 133ms/step - loss: 3.1770 - accuracy: 0.8660 - val_loss: 5.8269 - val_accuracy: 0.3281\n",
      "Epoch 8/30\n",
      "80/80 [==============================] - 11s 134ms/step - loss: 3.0332 - accuracy: 0.8707 - val_loss: 6.1036 - val_accuracy: 0.3367\n",
      "Epoch 9/30\n",
      "80/80 [==============================] - 11s 134ms/step - loss: 2.8277 - accuracy: 0.8963 - val_loss: 6.2326 - val_accuracy: 0.3313\n",
      "Epoch 10/30\n",
      "80/80 [==============================] - 11s 134ms/step - loss: 2.6443 - accuracy: 0.9164 - val_loss: 5.4876 - val_accuracy: 0.3164\n",
      "Epoch 11/30\n",
      "80/80 [==============================] - 11s 133ms/step - loss: 2.5692 - accuracy: 0.9133 - val_loss: 6.0235 - val_accuracy: 0.3398\n",
      "Epoch 12/30\n",
      "80/80 [==============================] - 11s 134ms/step - loss: 2.5114 - accuracy: 0.9078 - val_loss: 5.5959 - val_accuracy: 0.3344\n",
      "Epoch 13/30\n",
      "80/80 [==============================] - 11s 133ms/step - loss: 5.4940 - accuracy: 0.6525 - val_loss: 5.4935 - val_accuracy: 0.3477\n",
      "Epoch 14/30\n",
      "80/80 [==============================] - 11s 134ms/step - loss: 3.4974 - accuracy: 0.7855 - val_loss: 5.4110 - val_accuracy: 0.3148\n",
      "Epoch 15/30\n",
      "80/80 [==============================] - 11s 133ms/step - loss: 2.8139 - accuracy: 0.9217 - val_loss: 5.9759 - val_accuracy: 0.2867\n",
      "Epoch 16/30\n",
      "80/80 [==============================] - 11s 134ms/step - loss: 2.4931 - accuracy: 0.9408 - val_loss: 6.2252 - val_accuracy: 0.3242\n",
      "Epoch 17/30\n",
      "80/80 [==============================] - 12s 144ms/step - loss: 2.3931 - accuracy: 0.9387 - val_loss: 5.9105 - val_accuracy: 0.3125\n",
      "Epoch 18/30\n",
      "80/80 [==============================] - 11s 135ms/step - loss: 2.3764 - accuracy: 0.9211 - val_loss: 5.7946 - val_accuracy: 0.3094\n",
      "Epoch 19/30\n",
      "80/80 [==============================] - 11s 133ms/step - loss: 2.3296 - accuracy: 0.9260 - val_loss: 6.2117 - val_accuracy: 0.3203\n",
      "Epoch 20/30\n",
      "80/80 [==============================] - 11s 134ms/step - loss: 2.3064 - accuracy: 0.9271 - val_loss: 6.2017 - val_accuracy: 0.3148\n",
      "Epoch 21/30\n",
      "80/80 [==============================] - 11s 137ms/step - loss: 2.1599 - accuracy: 0.9410 - val_loss: 6.1069 - val_accuracy: 0.3227\n",
      "Epoch 22/30\n",
      "80/80 [==============================] - 12s 143ms/step - loss: 2.0784 - accuracy: 0.9424 - val_loss: 6.5462 - val_accuracy: 0.3172\n",
      "Epoch 23/30\n",
      "80/80 [==============================] - 11s 137ms/step - loss: 2.0365 - accuracy: 0.9482 - val_loss: 6.0076 - val_accuracy: 0.3187\n",
      "Epoch 24/30\n",
      "80/80 [==============================] - 11s 137ms/step - loss: 1.9842 - accuracy: 0.9492 - val_loss: 5.9058 - val_accuracy: 0.3391\n",
      "Epoch 25/30\n",
      "80/80 [==============================] - 11s 135ms/step - loss: 1.9032 - accuracy: 0.9523 - val_loss: 6.1607 - val_accuracy: 0.3031\n",
      "Epoch 26/30\n",
      "80/80 [==============================] - 11s 135ms/step - loss: 1.9061 - accuracy: 0.9436 - val_loss: 5.7188 - val_accuracy: 0.3203\n",
      "Epoch 27/30\n",
      "80/80 [==============================] - 11s 135ms/step - loss: 1.8475 - accuracy: 0.9518 - val_loss: 6.2940 - val_accuracy: 0.3148\n",
      "Epoch 28/30\n",
      "80/80 [==============================] - 11s 141ms/step - loss: 1.7876 - accuracy: 0.9582 - val_loss: 6.3355 - val_accuracy: 0.3289\n",
      "Epoch 29/30\n",
      "80/80 [==============================] - 11s 138ms/step - loss: 1.7747 - accuracy: 0.9453 - val_loss: 5.5935 - val_accuracy: 0.3141\n",
      "Epoch 30/30\n",
      "80/80 [==============================] - 12s 145ms/step - loss: 1.7108 - accuracy: 0.9590 - val_loss: 6.0045 - val_accuracy: 0.3227\n"
     ]
    }
   ],
   "source": [
    "model2.compile(loss=\"categorical_crossentropy\",\n",
    "             optimizer=\"adam\",\n",
    "             metrics=['accuracy'])\n",
    "\n",
    "history2 = model2.fit(train_imgs, epochs=30, \n",
    "                    validation_data=val_imgs)"
   ]
  },
  {
   "cell_type": "code",
   "execution_count": 14,
   "metadata": {
    "scrolled": true
   },
   "outputs": [
    {
     "name": "stdout",
     "output_type": "stream",
     "text": [
      "Epoch 1/30\n",
      "80/80 [==============================] - 12s 145ms/step - loss: 62.2379 - accuracy: 0.3010 - val_loss: 5.8455 - val_accuracy: 0.4109\n",
      "Epoch 2/30\n",
      "80/80 [==============================] - 11s 138ms/step - loss: 5.0915 - accuracy: 0.4748 - val_loss: 5.0880 - val_accuracy: 0.4313\n",
      "Epoch 3/30\n",
      "80/80 [==============================] - 11s 139ms/step - loss: 4.3872 - accuracy: 0.5762 - val_loss: 4.7381 - val_accuracy: 0.4766\n",
      "Epoch 4/30\n",
      "80/80 [==============================] - 11s 141ms/step - loss: 3.8466 - accuracy: 0.6715 - val_loss: 4.5965 - val_accuracy: 0.4664\n",
      "Epoch 5/30\n",
      "80/80 [==============================] - 11s 136ms/step - loss: 3.5260 - accuracy: 0.7475 - val_loss: 4.6471 - val_accuracy: 0.4930\n",
      "Epoch 6/30\n",
      "80/80 [==============================] - 11s 135ms/step - loss: 3.3092 - accuracy: 0.7906 - val_loss: 4.5747 - val_accuracy: 0.4617\n",
      "Epoch 7/30\n",
      "80/80 [==============================] - 11s 136ms/step - loss: 2.9884 - accuracy: 0.8520 - val_loss: 4.6346 - val_accuracy: 0.4570\n",
      "Epoch 8/30\n",
      "80/80 [==============================] - 11s 137ms/step - loss: 2.8879 - accuracy: 0.8512 - val_loss: 4.4859 - val_accuracy: 0.4695\n",
      "Epoch 9/30\n",
      "80/80 [==============================] - 11s 138ms/step - loss: 2.7548 - accuracy: 0.8766 - val_loss: 4.3518 - val_accuracy: 0.4797\n",
      "Epoch 10/30\n",
      "80/80 [==============================] - 12s 145ms/step - loss: 2.5459 - accuracy: 0.9043 - val_loss: 4.6355 - val_accuracy: 0.4664\n",
      "Epoch 11/30\n",
      "80/80 [==============================] - 11s 137ms/step - loss: 2.5311 - accuracy: 0.9002 - val_loss: 4.3607 - val_accuracy: 0.4609\n",
      "Epoch 12/30\n",
      "80/80 [==============================] - 11s 135ms/step - loss: 2.4260 - accuracy: 0.9072 - val_loss: 4.4326 - val_accuracy: 0.4984\n",
      "Epoch 13/30\n",
      "80/80 [==============================] - 11s 135ms/step - loss: 2.4983 - accuracy: 0.8877 - val_loss: 4.3669 - val_accuracy: 0.4703\n",
      "Epoch 14/30\n",
      "80/80 [==============================] - 11s 134ms/step - loss: 2.3438 - accuracy: 0.9109 - val_loss: 4.3204 - val_accuracy: 0.4844\n",
      "Epoch 15/30\n",
      "80/80 [==============================] - 11s 134ms/step - loss: 2.2491 - accuracy: 0.9125 - val_loss: 4.3679 - val_accuracy: 0.4617\n",
      "Epoch 16/30\n",
      "80/80 [==============================] - 11s 133ms/step - loss: 2.2493 - accuracy: 0.9021 - val_loss: 4.1514 - val_accuracy: 0.4922\n",
      "Epoch 17/30\n",
      "80/80 [==============================] - 11s 135ms/step - loss: 2.0007 - accuracy: 0.9348 - val_loss: 4.2860 - val_accuracy: 0.4852\n",
      "Epoch 18/30\n",
      "80/80 [==============================] - 11s 140ms/step - loss: 2.0727 - accuracy: 0.9170 - val_loss: 4.2840 - val_accuracy: 0.4961\n",
      "Epoch 19/30\n",
      "80/80 [==============================] - 11s 135ms/step - loss: 2.0023 - accuracy: 0.9248 - val_loss: 4.3984 - val_accuracy: 0.5023\n",
      "Epoch 20/30\n",
      "80/80 [==============================] - 11s 135ms/step - loss: 1.9421 - accuracy: 0.9283 - val_loss: 4.0558 - val_accuracy: 0.4680\n",
      "Epoch 21/30\n",
      "80/80 [==============================] - 11s 136ms/step - loss: 1.8540 - accuracy: 0.9398 - val_loss: 3.8932 - val_accuracy: 0.4648\n",
      "Epoch 22/30\n",
      "80/80 [==============================] - 11s 134ms/step - loss: 1.8062 - accuracy: 0.9398 - val_loss: 4.1672 - val_accuracy: 0.4336\n",
      "Epoch 23/30\n",
      "80/80 [==============================] - 11s 134ms/step - loss: 1.7529 - accuracy: 0.9406 - val_loss: 3.9904 - val_accuracy: 0.4664\n",
      "Epoch 24/30\n",
      "80/80 [==============================] - 11s 134ms/step - loss: 1.8071 - accuracy: 0.9289 - val_loss: 4.3257 - val_accuracy: 0.4992\n",
      "Epoch 25/30\n",
      "80/80 [==============================] - 11s 136ms/step - loss: 1.7853 - accuracy: 0.9320 - val_loss: 3.9426 - val_accuracy: 0.4930\n",
      "Epoch 26/30\n",
      "80/80 [==============================] - 11s 138ms/step - loss: 1.6585 - accuracy: 0.9451 - val_loss: 4.0284 - val_accuracy: 0.4742\n",
      "Epoch 27/30\n",
      "80/80 [==============================] - 11s 134ms/step - loss: 1.7075 - accuracy: 0.9279 - val_loss: 3.8783 - val_accuracy: 0.4789\n",
      "Epoch 28/30\n",
      "80/80 [==============================] - 11s 134ms/step - loss: 1.7100 - accuracy: 0.9283 - val_loss: 3.7121 - val_accuracy: 0.4906\n",
      "Epoch 29/30\n",
      "80/80 [==============================] - 11s 134ms/step - loss: 1.6119 - accuracy: 0.9496 - val_loss: 3.7564 - val_accuracy: 0.4703\n",
      "Epoch 30/30\n",
      "80/80 [==============================] - 11s 134ms/step - loss: 1.5464 - accuracy: 0.9451 - val_loss: 3.8469 - val_accuracy: 0.4961\n"
     ]
    }
   ],
   "source": [
    "LeNet52.compile(loss=\"categorical_crossentropy\",\n",
    "             optimizer=\"adam\",\n",
    "             metrics=['accuracy'])\n",
    "\n",
    "historyLeNet52 = LeNet52.fit(train_imgs, epochs=30, \n",
    "                    validation_data=val_imgs)"
   ]
  },
  {
   "cell_type": "code",
   "execution_count": 15,
   "metadata": {},
   "outputs": [
    {
     "name": "stdout",
     "output_type": "stream",
     "text": [
      "25/25 - 3s - loss: 5.8827 - accuracy: 0.3294 - 3s/epoch - 109ms/step\n"
     ]
    },
    {
     "data": {
      "image/png": "[encoded data removed]",
      "text/plain": [
       "<Figure size 432x288 with 1 Axes>"
      ]
     },
     "metadata": {
      "needs_background": "light"
     },
     "output_type": "display_data"
    }
   ],
   "source": [
    "plt.plot(history2.history['accuracy'], label='accuracy')\n",
    "plt.plot(history2.history['val_accuracy'], label = 'val_accuracy')\n",
    "plt.title('CNN Padrão')\n",
    "plt.xlabel('Epoch')\n",
    "plt.ylabel('Accuracy')\n",
    "plt.ylim([0, 1])\n",
    "plt.legend(loc='lower right')\n",
    "\n",
    "test_loss, test_acc = model2.evaluate(test_imgs, verbose=2)"
   ]
  },
  {
   "cell_type": "code",
   "execution_count": 18,
   "metadata": {},
   "outputs": [
    {
     "name": "stdout",
     "output_type": "stream",
     "text": [
      "25/25 - 3s - loss: 3.8638 - accuracy: 0.4737 - 3s/epoch - 109ms/step\n"
     ]
    },
    {
     "data": {
      "image/png": "[encoded data removed]",
      "text/plain": [
       "<Figure size 432x288 with 1 Axes>"
      ]
     },
     "metadata": {
      "needs_background": "light"
     },
     "output_type": "display_data"
    }
   ],
   "source": [
    "plt.plot(historyLeNet52.history['accuracy'], label='accuracy')\n",
    "plt.plot(historyLeNet52.history['val_accuracy'], label = 'val_accuracy')\n",
    "plt.title('LeNet5')\n",
    "plt.xlabel('Epoch')\n",
    "plt.ylabel('Accuracy')\n",
    "plt.ylim([0, 1])\n",
    "plt.legend(loc='lower right')\n",
    "\n",
    "test_loss, test_acc = LeNet52.evaluate(test_imgs, verbose=2)"
   ]
  },
  {
   "cell_type": "markdown",
   "metadata": {},
   "source": [
    "Após aplicar a Regressão Ridge os modelos, é possível notar uma leve melhoria na acurácia da CNN padrão, subindo para 33%, mas um desempenho pior no caso da LeNet5, cuja acurácia caiu ara 47%. O overfitting ainda é presente."
   ]
  },
  {
   "cell_type": "markdown",
   "metadata": {},
   "source": [
    "Para diminuir o overfitting da ResNet, na hora de gerar os sets utilizáveis com o tensorflow com o `ImageDataGenerator`, foi adicionado outro parâmetro: tf.keras.applications.resnet.preprocess_input. Esse parâmetro é próprio da biblioteca de ResNet do Keras, e ele melhora o pré-processamento das imagens para serem utilizadas no modelo."
   ]
  },
  {
   "cell_type": "code",
   "execution_count": 40,
   "metadata": {},
   "outputs": [
    {
     "name": "stdout",
     "output_type": "stream",
     "text": [
      "Found 5120 validated image filenames belonging to 9 classes.\n",
      "Found 1280 validated image filenames belonging to 9 classes.\n",
      "Found 1600 validated image filenames belonging to 9 classes.\n"
     ]
    }
   ],
   "source": [
    "target_size=(256,256) # set the size of the images\n",
    "color_mode='rgb' # set the type of image\n",
    "class_mode= 'categorical' # set the class mode\n",
    "batch_size=64  # set the batch size\n",
    "subset='training' # set to 'training', or 'valiatiom' or leave as None\n",
    "\n",
    "train_gen = ImageDataGenerator(validation_split=0.2, preprocessing_function=tf.keras.applications.resnet.preprocess_input)\n",
    "test_gen = ImageDataGenerator(preprocessing_function=tf.keras.applications.resnet.preprocess_input)\n",
    "\n",
    "train_imgs= train_gen.flow_from_dataframe(dataframe=train, \n",
    "          x_col='file',\n",
    "          y_col='style',\n",
    "          target_size=target_size,color_mode=color_mode,\n",
    "          class_mode=class_mode, batch_size=batch_size,shuffle=True, seed=123,\n",
    "          subset='training')\n",
    "val_imgs= train_gen.flow_from_dataframe(dataframe=train, \n",
    "          x_col='file',\n",
    "          y_col='style',\n",
    "          target_size=target_size,color_mode=color_mode,\n",
    "          class_mode=class_mode, batch_size=batch_size,shuffle=True, seed=123,\n",
    "          subset=\"validation\")\n",
    "test_imgs= test_gen.flow_from_dataframe(dataframe=test, \n",
    "          x_col='file',\n",
    "          y_col='style',\n",
    "          target_size=target_size,color_mode=color_mode,\n",
    "          class_mode=class_mode, batch_size=batch_size,shuffle=True, seed=123,\n",
    "          subset='training')"
   ]
  },
  {
   "cell_type": "code",
   "execution_count": 44,
   "metadata": {},
   "outputs": [],
   "source": [
    "ResNetModel2 = Model(inputs = ResNet.input, outputs = predictions)\n",
    "ResNetModel2.compile(optimizer='adam', loss=\"categorical_crossentropy\", metrics=['accuracy'])"
   ]
  },
  {
   "cell_type": "code",
   "execution_count": 46,
   "metadata": {
    "scrolled": true
   },
   "outputs": [
    {
     "name": "stdout",
     "output_type": "stream",
     "text": [
      "Epoch 1/30\n",
      "80/80 [==============================] - 32s 395ms/step - loss: 0.0445 - accuracy: 0.9910 - val_loss: 1.7304 - val_accuracy: 0.8391\n",
      "Epoch 2/30\n",
      "80/80 [==============================] - 27s 335ms/step - loss: 0.0426 - accuracy: 0.9924 - val_loss: 1.7177 - val_accuracy: 0.8484\n",
      "Epoch 3/30\n",
      "80/80 [==============================] - 27s 335ms/step - loss: 0.0582 - accuracy: 0.9914 - val_loss: 1.6331 - val_accuracy: 0.8547\n",
      "Epoch 4/30\n",
      "80/80 [==============================] - 27s 335ms/step - loss: 0.0312 - accuracy: 0.9955 - val_loss: 1.8157 - val_accuracy: 0.8484\n",
      "Epoch 5/30\n",
      "80/80 [==============================] - 27s 337ms/step - loss: 0.0362 - accuracy: 0.9930 - val_loss: 1.6656 - val_accuracy: 0.8594\n",
      "Epoch 6/30\n",
      "80/80 [==============================] - 27s 343ms/step - loss: 0.0469 - accuracy: 0.9916 - val_loss: 1.6952 - val_accuracy: 0.8578\n",
      "Epoch 7/30\n",
      "80/80 [==============================] - 51s 639ms/step - loss: 0.0261 - accuracy: 0.9922 - val_loss: 1.9872 - val_accuracy: 0.8422\n",
      "Epoch 8/30\n",
      "80/80 [==============================] - 32s 398ms/step - loss: 0.0378 - accuracy: 0.9912 - val_loss: 2.2215 - val_accuracy: 0.8492\n",
      "Epoch 9/30\n",
      "80/80 [==============================] - 30s 381ms/step - loss: 0.0303 - accuracy: 0.9937 - val_loss: 1.9957 - val_accuracy: 0.8461\n",
      "Epoch 10/30\n",
      "80/80 [==============================] - 27s 342ms/step - loss: 0.0261 - accuracy: 0.9926 - val_loss: 2.0329 - val_accuracy: 0.8430\n",
      "Epoch 11/30\n",
      "80/80 [==============================] - 28s 346ms/step - loss: 0.0344 - accuracy: 0.9928 - val_loss: 2.3942 - val_accuracy: 0.8336\n",
      "Epoch 12/30\n",
      "80/80 [==============================] - 43s 538ms/step - loss: 0.0716 - accuracy: 0.9898 - val_loss: 2.1267 - val_accuracy: 0.8555\n",
      "Epoch 13/30\n",
      "80/80 [==============================] - 43s 533ms/step - loss: 0.0791 - accuracy: 0.9910 - val_loss: 2.5985 - val_accuracy: 0.8539\n",
      "Epoch 14/30\n",
      "80/80 [==============================] - 39s 492ms/step - loss: 0.0458 - accuracy: 0.9918 - val_loss: 2.5831 - val_accuracy: 0.8609\n",
      "Epoch 15/30\n",
      "80/80 [==============================] - 29s 360ms/step - loss: 0.0176 - accuracy: 0.9953 - val_loss: 2.1858 - val_accuracy: 0.8594\n",
      "Epoch 16/30\n",
      "80/80 [==============================] - 29s 363ms/step - loss: 0.0187 - accuracy: 0.9973 - val_loss: 1.9870 - val_accuracy: 0.8695\n",
      "Epoch 17/30\n",
      "80/80 [==============================] - 29s 358ms/step - loss: 0.0047 - accuracy: 0.9980 - val_loss: 2.0352 - val_accuracy: 0.8727\n",
      "Epoch 18/30\n",
      "80/80 [==============================] - 36s 454ms/step - loss: 0.0045 - accuracy: 0.9982 - val_loss: 2.0017 - val_accuracy: 0.8734\n",
      "Epoch 19/30\n",
      "80/80 [==============================] - 54s 680ms/step - loss: 0.0049 - accuracy: 0.9980 - val_loss: 2.0382 - val_accuracy: 0.8734\n",
      "Epoch 20/30\n",
      "80/80 [==============================] - 39s 489ms/step - loss: 0.0043 - accuracy: 0.9979 - val_loss: 2.0181 - val_accuracy: 0.8719\n",
      "Epoch 21/30\n",
      "80/80 [==============================] - 36s 445ms/step - loss: 0.0044 - accuracy: 0.9980 - val_loss: 2.0225 - val_accuracy: 0.8711\n",
      "Epoch 22/30\n",
      "80/80 [==============================] - 45s 569ms/step - loss: 0.0055 - accuracy: 0.9977 - val_loss: 2.0541 - val_accuracy: 0.8664\n",
      "Epoch 23/30\n",
      "80/80 [==============================] - 30s 372ms/step - loss: 0.0098 - accuracy: 0.9982 - val_loss: 2.0379 - val_accuracy: 0.8687\n",
      "Epoch 24/30\n",
      "80/80 [==============================] - 41s 519ms/step - loss: 0.0044 - accuracy: 0.9979 - val_loss: 2.0310 - val_accuracy: 0.8695\n",
      "Epoch 25/30\n",
      "80/80 [==============================] - 34s 427ms/step - loss: 0.0045 - accuracy: 0.9977 - val_loss: 2.0318 - val_accuracy: 0.8695\n",
      "Epoch 26/30\n",
      "80/80 [==============================] - 40s 495ms/step - loss: 0.0042 - accuracy: 0.9980 - val_loss: 2.0423 - val_accuracy: 0.8695\n",
      "Epoch 27/30\n",
      "80/80 [==============================] - 29s 357ms/step - loss: 0.0042 - accuracy: 0.9980 - val_loss: 2.0327 - val_accuracy: 0.8695\n",
      "Epoch 28/30\n",
      "80/80 [==============================] - 32s 399ms/step - loss: 0.0041 - accuracy: 0.9979 - val_loss: 2.0385 - val_accuracy: 0.8687\n",
      "Epoch 29/30\n",
      "80/80 [==============================] - 35s 439ms/step - loss: 0.0039 - accuracy: 0.9980 - val_loss: 2.0481 - val_accuracy: 0.8687\n",
      "Epoch 30/30\n",
      "80/80 [==============================] - 33s 410ms/step - loss: 0.0040 - accuracy: 0.9980 - val_loss: 2.0550 - val_accuracy: 0.8680\n"
     ]
    }
   ],
   "source": [
    "historyResNet2 = ResNetModel2.fit(train_imgs, epochs=30, validation_data=(val_imgs))"
   ]
  },
  {
   "cell_type": "code",
   "execution_count": 50,
   "metadata": {},
   "outputs": [
    {
     "name": "stdout",
     "output_type": "stream",
     "text": [
      "25/25 - 7s - loss: 2.1567 - accuracy: 0.8550 - 7s/epoch - 296ms/step\n"
     ]
    },
    {
     "data": {
      "image/png": "[encoded data removed]",
      "text/plain": [
       "<Figure size 432x288 with 1 Axes>"
      ]
     },
     "metadata": {
      "needs_background": "light"
     },
     "output_type": "display_data"
    }
   ],
   "source": [
    "plt.plot(historyResNet2.history['accuracy'], label='accuracy')\n",
    "plt.plot(historyResNet2.history['val_accuracy'], label = 'val_accuracy')\n",
    "plt.xlabel('Epoch')\n",
    "plt.ylabel('Accuracy')\n",
    "plt.ylim([0.5, 1])\n",
    "plt.legend(loc='lower right')\n",
    "\n",
    "test_loss, test_acc = ResNetModel2.evaluate(test_imgs, verbose=2)"
   ]
  },
  {
   "cell_type": "markdown",
   "metadata": {},
   "source": [
    "No gráfico acima, é possível ver uma leve melhoria no modelo, com a acurácia de teste subindo para 85%, mas o overfitting continua presente. "
   ]
  },
  {
   "cell_type": "markdown",
   "metadata": {},
   "source": [
    "Em seguida, também foi tentada outra técnica, modificando a learning rate do optimizador do modelo."
   ]
  },
  {
   "cell_type": "code",
   "execution_count": 24,
   "metadata": {
    "scrolled": true
   },
   "outputs": [
    {
     "name": "stdout",
     "output_type": "stream",
     "text": [
      "Epoch 1/30\n",
      "80/80 [==============================] - 37s 367ms/step - loss: 64.2344 - accuracy: 0.6738 - val_loss: 4.2921 - val_accuracy: 0.8062\n",
      "Epoch 2/30\n",
      "80/80 [==============================] - 26s 326ms/step - loss: 1.2502 - accuracy: 0.9260 - val_loss: 4.8609 - val_accuracy: 0.7828\n",
      "Epoch 3/30\n",
      "80/80 [==============================] - 27s 337ms/step - loss: 0.4279 - accuracy: 0.9678 - val_loss: 4.4109 - val_accuracy: 0.8344\n",
      "Epoch 4/30\n",
      "80/80 [==============================] - 27s 342ms/step - loss: 0.3727 - accuracy: 0.9736 - val_loss: 4.8707 - val_accuracy: 0.8398\n",
      "Epoch 5/30\n",
      "80/80 [==============================] - 26s 323ms/step - loss: 0.3948 - accuracy: 0.9736 - val_loss: 5.4406 - val_accuracy: 0.8336\n",
      "Epoch 6/30\n",
      "80/80 [==============================] - 26s 322ms/step - loss: 0.2583 - accuracy: 0.9816 - val_loss: 5.0818 - val_accuracy: 0.8094\n",
      "Epoch 7/30\n",
      "80/80 [==============================] - 26s 322ms/step - loss: 0.2358 - accuracy: 0.9861 - val_loss: 5.7619 - val_accuracy: 0.8086\n",
      "Epoch 8/30\n",
      "80/80 [==============================] - 26s 321ms/step - loss: 0.2501 - accuracy: 0.9898 - val_loss: 5.2302 - val_accuracy: 0.8414\n",
      "Epoch 9/30\n",
      "80/80 [==============================] - 26s 322ms/step - loss: 0.2949 - accuracy: 0.9836 - val_loss: 6.5699 - val_accuracy: 0.8320\n",
      "Epoch 10/30\n",
      "80/80 [==============================] - 26s 322ms/step - loss: 0.3551 - accuracy: 0.9805 - val_loss: 5.2760 - val_accuracy: 0.8391\n",
      "Epoch 11/30\n",
      "80/80 [==============================] - 28s 354ms/step - loss: 0.2456 - accuracy: 0.9879 - val_loss: 5.7327 - val_accuracy: 0.8211\n",
      "Epoch 12/30\n",
      "80/80 [==============================] - 28s 351ms/step - loss: 0.2108 - accuracy: 0.9893 - val_loss: 4.8357 - val_accuracy: 0.8461\n",
      "Epoch 13/30\n",
      "80/80 [==============================] - 28s 354ms/step - loss: 0.2057 - accuracy: 0.9898 - val_loss: 5.7082 - val_accuracy: 0.8313\n",
      "Epoch 14/30\n",
      "80/80 [==============================] - 28s 354ms/step - loss: 0.2034 - accuracy: 0.9910 - val_loss: 5.7969 - val_accuracy: 0.8422\n",
      "Epoch 15/30\n",
      "80/80 [==============================] - 27s 340ms/step - loss: 0.1554 - accuracy: 0.9945 - val_loss: 5.5567 - val_accuracy: 0.8336\n",
      "Epoch 16/30\n",
      "80/80 [==============================] - 27s 339ms/step - loss: 0.1418 - accuracy: 0.9928 - val_loss: 6.1813 - val_accuracy: 0.8336\n",
      "Epoch 17/30\n",
      "80/80 [==============================] - 29s 365ms/step - loss: 0.2161 - accuracy: 0.9861 - val_loss: 6.4043 - val_accuracy: 0.8305\n",
      "Epoch 18/30\n",
      "80/80 [==============================] - 29s 364ms/step - loss: 0.4115 - accuracy: 0.9777 - val_loss: 7.5674 - val_accuracy: 0.8047\n",
      "Epoch 19/30\n",
      "80/80 [==============================] - 30s 369ms/step - loss: 0.3406 - accuracy: 0.9785 - val_loss: 7.2973 - val_accuracy: 0.8031\n",
      "Epoch 20/30\n",
      "80/80 [==============================] - 28s 351ms/step - loss: 0.4521 - accuracy: 0.9795 - val_loss: 6.9351 - val_accuracy: 0.7898\n",
      "Epoch 21/30\n",
      "80/80 [==============================] - 27s 334ms/step - loss: 0.2567 - accuracy: 0.9844 - val_loss: 7.3761 - val_accuracy: 0.8164\n",
      "Epoch 22/30\n",
      "80/80 [==============================] - 27s 335ms/step - loss: 0.1661 - accuracy: 0.9902 - val_loss: 6.3392 - val_accuracy: 0.8211\n",
      "Epoch 23/30\n",
      "80/80 [==============================] - 26s 327ms/step - loss: 0.1596 - accuracy: 0.9904 - val_loss: 6.3126 - val_accuracy: 0.8109\n",
      "Epoch 24/30\n",
      "80/80 [==============================] - 26s 327ms/step - loss: 0.1185 - accuracy: 0.9910 - val_loss: 6.4298 - val_accuracy: 0.8188\n",
      "Epoch 25/30\n",
      "80/80 [==============================] - 26s 330ms/step - loss: 0.1414 - accuracy: 0.9912 - val_loss: 7.4026 - val_accuracy: 0.8203\n",
      "Epoch 26/30\n",
      "80/80 [==============================] - 26s 327ms/step - loss: 0.0947 - accuracy: 0.9949 - val_loss: 7.3531 - val_accuracy: 0.8211\n",
      "Epoch 27/30\n",
      "80/80 [==============================] - 26s 327ms/step - loss: 0.0562 - accuracy: 0.9965 - val_loss: 6.2238 - val_accuracy: 0.8031\n",
      "Epoch 28/30\n",
      "80/80 [==============================] - 26s 327ms/step - loss: 0.0568 - accuracy: 0.9953 - val_loss: 6.5403 - val_accuracy: 0.8133\n",
      "Epoch 29/30\n",
      "80/80 [==============================] - 26s 328ms/step - loss: 0.0947 - accuracy: 0.9941 - val_loss: 5.9450 - val_accuracy: 0.8156\n",
      "Epoch 30/30\n",
      "80/80 [==============================] - 26s 328ms/step - loss: 0.0868 - accuracy: 0.9936 - val_loss: 6.5412 - val_accuracy: 0.8305\n"
     ]
    }
   ],
   "source": [
    "optimizer = tf.keras.optimizers.Adam(learning_rate=1e-3)\n",
    "\n",
    "ResNetModel3 = Model(inputs = ResNet.input, outputs = predictions)\n",
    "ResNetModel3.compile(optimizer=optimizer, loss=\"categorical_crossentropy\", metrics=['accuracy'])\n",
    "\n",
    "historyResNet3 = ResNetModel3.fit(train_imgs, epochs=30, validation_data=(val_imgs))"
   ]
  },
  {
   "cell_type": "code",
   "execution_count": 26,
   "metadata": {},
   "outputs": [
    {
     "name": "stdout",
     "output_type": "stream",
     "text": [
      "25/25 - 7s - loss: 6.6702 - accuracy: 0.8250 - 7s/epoch - 273ms/step\n"
     ]
    },
    {
     "data": {
      "image/png": "[encoded data removed]",
      "text/plain": [
       "<Figure size 432x288 with 1 Axes>"
      ]
     },
     "metadata": {
      "needs_background": "light"
     },
     "output_type": "display_data"
    }
   ],
   "source": [
    "plt.plot(historyResNet3.history['accuracy'], label='accuracy')\n",
    "plt.plot(historyResNet3.history['val_accuracy'], label = 'val_accuracy')\n",
    "plt.xlabel('Epoch')\n",
    "plt.ylabel('Accuracy')\n",
    "plt.ylim([0.5, 1])\n",
    "plt.legend(loc='lower right')\n",
    "\n",
    "test_loss, test_acc = ResNetModel3.evaluate(test_imgs, verbose=2)"
   ]
  },
  {
   "cell_type": "markdown",
   "metadata": {},
   "source": [
    "Porém, como vemos acima, essa técnica diminuiu a acurácia do modelo para 82%, piorando o seu desempenho."
   ]
  },
  {
   "cell_type": "markdown",
   "metadata": {},
   "source": [
    "Apesar das técnicas aplicadas, os modelos ainda apresentam overfit em seus resultados. Para melhora-los é possível aplicar outras técnicas, como restringir o aprendizado do modelo por epoch, limitar o peso máximo do modelo, utilizar diferentes pesos de inicialização utilizar data augmentation a fim se ter mais dados para o treinamento e teste."
   ]
  },
  {
   "cell_type": "code",
   "execution_count": null,
   "metadata": {},
   "outputs": [],
   "source": []
  }
 ],
 "metadata": {
  "kernelspec": {
   "display_name": "Python 3",
   "language": "python",
   "name": "python3"
  },
  "language_info": {
   "codemirror_mode": {
    "name": "ipython",
    "version": 3
   },
   "file_extension": ".py",
   "mimetype": "text/x-python",
   "name": "python",
   "nbconvert_exporter": "python",
   "pygments_lexer": "ipython3",
   "version": "3.8.5"
  },
  "vscode": {
   "interpreter": {
    "hash": "cf92aa13fedf815d5c8dd192b8d835913fde3e8bc926b2a0ad6cc74ef2ba3ca2"
   }
  }
 },
 "nbformat": 4,
 "nbformat_minor": 4
}
